{
  "cells": [
    {
      "cell_type": "markdown",
      "metadata": {
        "id": "view-in-github",
        "colab_type": "text"
      },
      "source": [
        "<a href=\"https://colab.research.google.com/github/nicoataiza/CS7318/blob/main/Assignment_1.ipynb\" target=\"_parent\"><img src=\"https://colab.research.google.com/assets/colab-badge.svg\" alt=\"Open In Colab\"/></a>"
      ]
    },
    {
      "cell_type": "code",
      "execution_count": 1,
      "metadata": {
        "colab": {
          "base_uri": "https://localhost:8080/"
        },
        "id": "kEpoRIKhMtPZ",
        "outputId": "17e07f01-0fcb-4e12-95ea-2e7de2b95971"
      },
      "outputs": [
        {
          "output_type": "stream",
          "name": "stdout",
          "text": [
            "Drive already mounted at /content/drive; to attempt to forcibly remount, call drive.mount(\"/content/drive\", force_remount=True).\n"
          ]
        }
      ],
      "source": [
        "from google.colab import drive\n",
        "drive.mount('/content/drive')"
      ]
    },
    {
      "cell_type": "code",
      "execution_count": 2,
      "metadata": {
        "id": "1qZFN_usNLhs"
      },
      "outputs": [],
      "source": [
        "# !pip3 install --upgrade pandas"
      ]
    },
    {
      "cell_type": "code",
      "execution_count": 3,
      "metadata": {
        "id": "-4zrRFr6MGVT"
      },
      "outputs": [],
      "source": [
        "import pandas as pd\n",
        "import matplotlib.pyplot as plt\n",
        "import seaborn as sns"
      ]
    },
    {
      "cell_type": "code",
      "execution_count": 4,
      "metadata": {
        "id": "tpHG2tlQM5Xs"
      },
      "outputs": [],
      "source": [
        "col_names = ['Target','Pregnancies','Glucose','BloodPressure','SkinThickness','Insulin','BMI','DiabetesPedigree','Age']\n",
        "df = pd.read_csv(r'/content/drive/MyDrive/Uni of Adelaide/CS7318/Assignment 1/indian_diabetes_scaled.csv',header=None,names=col_names,index_col=False)"
      ]
    },
    {
      "cell_type": "code",
      "execution_count": 5,
      "metadata": {
        "colab": {
          "base_uri": "https://localhost:8080/"
        },
        "id": "7K97hYBcPjfe",
        "outputId": "32649ece-bf86-471a-b27d-9833ffd0363e"
      },
      "outputs": [
        {
          "output_type": "execute_result",
          "data": {
            "text/plain": [
              "Index(['Target', 'Pregnancies', 'Glucose', 'BloodPressure', 'SkinThickness',\n",
              "       'Insulin', 'BMI', 'DiabetesPedigree', 'Age'],\n",
              "      dtype='object')"
            ]
          },
          "metadata": {},
          "execution_count": 5
        }
      ],
      "source": [
        "df.columns"
      ]
    },
    {
      "cell_type": "code",
      "source": [
        "for col in df.columns[1:]:\n",
        "  df[col] = df[col].apply(lambda x: float(x[2:]) if type(x) == str else float('NaN'))"
      ],
      "metadata": {
        "id": "RceMp2Tkz5WR"
      },
      "execution_count": 6,
      "outputs": []
    },
    {
      "cell_type": "code",
      "source": [
        "# Change the values: replace the value of no diabetes to 0 instead of -1.\n",
        "df['Target'] = df['Target'].replace(-1,0)"
      ],
      "metadata": {
        "id": "KsMpFB_P1STz"
      },
      "execution_count": 7,
      "outputs": []
    },
    {
      "cell_type": "code",
      "source": [
        "df.head()"
      ],
      "metadata": {
        "colab": {
          "base_uri": "https://localhost:8080/",
          "height": 206
        },
        "id": "anjtGiCvFP-N",
        "outputId": "94ebb21a-3b89-4f3e-b257-dc1f71cce383"
      },
      "execution_count": 8,
      "outputs": [
        {
          "output_type": "execute_result",
          "data": {
            "text/plain": [
              "   Target  Pregnancies   Glucose  BloodPressure  SkinThickness   Insulin  \\\n",
              "0       0    -0.294118  0.487437       0.180328      -0.292929 -1.000000   \n",
              "1       1    -0.882353 -0.145729       0.081967      -0.414141 -1.000000   \n",
              "2       0    -0.058824  0.839196       0.049180      -1.000000 -1.000000   \n",
              "3       1    -0.882353 -0.105528       0.081967      -0.535354 -0.777778   \n",
              "4       0    -1.000000  0.376884      -0.344262      -0.292929 -0.602837   \n",
              "\n",
              "        BMI  DiabetesPedigree       Age  \n",
              "0  0.001490         -0.531170 -0.033333  \n",
              "1 -0.207153         -0.766866 -0.666667  \n",
              "2 -0.305514         -0.492741 -0.633333  \n",
              "3 -0.162444         -0.923997 -1.000000  \n",
              "4  0.284650          0.887276 -0.600000  "
            ],
            "text/html": [
              "\n",
              "  <div id=\"df-461a68be-fe5d-4bfc-a10a-294edc12574c\" class=\"colab-df-container\">\n",
              "    <div>\n",
              "<style scoped>\n",
              "    .dataframe tbody tr th:only-of-type {\n",
              "        vertical-align: middle;\n",
              "    }\n",
              "\n",
              "    .dataframe tbody tr th {\n",
              "        vertical-align: top;\n",
              "    }\n",
              "\n",
              "    .dataframe thead th {\n",
              "        text-align: right;\n",
              "    }\n",
              "</style>\n",
              "<table border=\"1\" class=\"dataframe\">\n",
              "  <thead>\n",
              "    <tr style=\"text-align: right;\">\n",
              "      <th></th>\n",
              "      <th>Target</th>\n",
              "      <th>Pregnancies</th>\n",
              "      <th>Glucose</th>\n",
              "      <th>BloodPressure</th>\n",
              "      <th>SkinThickness</th>\n",
              "      <th>Insulin</th>\n",
              "      <th>BMI</th>\n",
              "      <th>DiabetesPedigree</th>\n",
              "      <th>Age</th>\n",
              "    </tr>\n",
              "  </thead>\n",
              "  <tbody>\n",
              "    <tr>\n",
              "      <th>0</th>\n",
              "      <td>0</td>\n",
              "      <td>-0.294118</td>\n",
              "      <td>0.487437</td>\n",
              "      <td>0.180328</td>\n",
              "      <td>-0.292929</td>\n",
              "      <td>-1.000000</td>\n",
              "      <td>0.001490</td>\n",
              "      <td>-0.531170</td>\n",
              "      <td>-0.033333</td>\n",
              "    </tr>\n",
              "    <tr>\n",
              "      <th>1</th>\n",
              "      <td>1</td>\n",
              "      <td>-0.882353</td>\n",
              "      <td>-0.145729</td>\n",
              "      <td>0.081967</td>\n",
              "      <td>-0.414141</td>\n",
              "      <td>-1.000000</td>\n",
              "      <td>-0.207153</td>\n",
              "      <td>-0.766866</td>\n",
              "      <td>-0.666667</td>\n",
              "    </tr>\n",
              "    <tr>\n",
              "      <th>2</th>\n",
              "      <td>0</td>\n",
              "      <td>-0.058824</td>\n",
              "      <td>0.839196</td>\n",
              "      <td>0.049180</td>\n",
              "      <td>-1.000000</td>\n",
              "      <td>-1.000000</td>\n",
              "      <td>-0.305514</td>\n",
              "      <td>-0.492741</td>\n",
              "      <td>-0.633333</td>\n",
              "    </tr>\n",
              "    <tr>\n",
              "      <th>3</th>\n",
              "      <td>1</td>\n",
              "      <td>-0.882353</td>\n",
              "      <td>-0.105528</td>\n",
              "      <td>0.081967</td>\n",
              "      <td>-0.535354</td>\n",
              "      <td>-0.777778</td>\n",
              "      <td>-0.162444</td>\n",
              "      <td>-0.923997</td>\n",
              "      <td>-1.000000</td>\n",
              "    </tr>\n",
              "    <tr>\n",
              "      <th>4</th>\n",
              "      <td>0</td>\n",
              "      <td>-1.000000</td>\n",
              "      <td>0.376884</td>\n",
              "      <td>-0.344262</td>\n",
              "      <td>-0.292929</td>\n",
              "      <td>-0.602837</td>\n",
              "      <td>0.284650</td>\n",
              "      <td>0.887276</td>\n",
              "      <td>-0.600000</td>\n",
              "    </tr>\n",
              "  </tbody>\n",
              "</table>\n",
              "</div>\n",
              "    <div class=\"colab-df-buttons\">\n",
              "\n",
              "  <div class=\"colab-df-container\">\n",
              "    <button class=\"colab-df-convert\" onclick=\"convertToInteractive('df-461a68be-fe5d-4bfc-a10a-294edc12574c')\"\n",
              "            title=\"Convert this dataframe to an interactive table.\"\n",
              "            style=\"display:none;\">\n",
              "\n",
              "  <svg xmlns=\"http://www.w3.org/2000/svg\" height=\"24px\" viewBox=\"0 -960 960 960\">\n",
              "    <path d=\"M120-120v-720h720v720H120Zm60-500h600v-160H180v160Zm220 220h160v-160H400v160Zm0 220h160v-160H400v160ZM180-400h160v-160H180v160Zm440 0h160v-160H620v160ZM180-180h160v-160H180v160Zm440 0h160v-160H620v160Z\"/>\n",
              "  </svg>\n",
              "    </button>\n",
              "\n",
              "  <style>\n",
              "    .colab-df-container {\n",
              "      display:flex;\n",
              "      gap: 12px;\n",
              "    }\n",
              "\n",
              "    .colab-df-convert {\n",
              "      background-color: #E8F0FE;\n",
              "      border: none;\n",
              "      border-radius: 50%;\n",
              "      cursor: pointer;\n",
              "      display: none;\n",
              "      fill: #1967D2;\n",
              "      height: 32px;\n",
              "      padding: 0 0 0 0;\n",
              "      width: 32px;\n",
              "    }\n",
              "\n",
              "    .colab-df-convert:hover {\n",
              "      background-color: #E2EBFA;\n",
              "      box-shadow: 0px 1px 2px rgba(60, 64, 67, 0.3), 0px 1px 3px 1px rgba(60, 64, 67, 0.15);\n",
              "      fill: #174EA6;\n",
              "    }\n",
              "\n",
              "    .colab-df-buttons div {\n",
              "      margin-bottom: 4px;\n",
              "    }\n",
              "\n",
              "    [theme=dark] .colab-df-convert {\n",
              "      background-color: #3B4455;\n",
              "      fill: #D2E3FC;\n",
              "    }\n",
              "\n",
              "    [theme=dark] .colab-df-convert:hover {\n",
              "      background-color: #434B5C;\n",
              "      box-shadow: 0px 1px 3px 1px rgba(0, 0, 0, 0.15);\n",
              "      filter: drop-shadow(0px 1px 2px rgba(0, 0, 0, 0.3));\n",
              "      fill: #FFFFFF;\n",
              "    }\n",
              "  </style>\n",
              "\n",
              "    <script>\n",
              "      const buttonEl =\n",
              "        document.querySelector('#df-461a68be-fe5d-4bfc-a10a-294edc12574c button.colab-df-convert');\n",
              "      buttonEl.style.display =\n",
              "        google.colab.kernel.accessAllowed ? 'block' : 'none';\n",
              "\n",
              "      async function convertToInteractive(key) {\n",
              "        const element = document.querySelector('#df-461a68be-fe5d-4bfc-a10a-294edc12574c');\n",
              "        const dataTable =\n",
              "          await google.colab.kernel.invokeFunction('convertToInteractive',\n",
              "                                                    [key], {});\n",
              "        if (!dataTable) return;\n",
              "\n",
              "        const docLinkHtml = 'Like what you see? Visit the ' +\n",
              "          '<a target=\"_blank\" href=https://colab.research.google.com/notebooks/data_table.ipynb>data table notebook</a>'\n",
              "          + ' to learn more about interactive tables.';\n",
              "        element.innerHTML = '';\n",
              "        dataTable['output_type'] = 'display_data';\n",
              "        await google.colab.output.renderOutput(dataTable, element);\n",
              "        const docLink = document.createElement('div');\n",
              "        docLink.innerHTML = docLinkHtml;\n",
              "        element.appendChild(docLink);\n",
              "      }\n",
              "    </script>\n",
              "  </div>\n",
              "\n",
              "\n",
              "<div id=\"df-ba7cf33b-05d4-494d-a7e5-7dad9644e801\">\n",
              "  <button class=\"colab-df-quickchart\" onclick=\"quickchart('df-ba7cf33b-05d4-494d-a7e5-7dad9644e801')\"\n",
              "            title=\"Suggest charts.\"\n",
              "            style=\"display:none;\">\n",
              "\n",
              "<svg xmlns=\"http://www.w3.org/2000/svg\" height=\"24px\"viewBox=\"0 0 24 24\"\n",
              "     width=\"24px\">\n",
              "    <g>\n",
              "        <path d=\"M19 3H5c-1.1 0-2 .9-2 2v14c0 1.1.9 2 2 2h14c1.1 0 2-.9 2-2V5c0-1.1-.9-2-2-2zM9 17H7v-7h2v7zm4 0h-2V7h2v10zm4 0h-2v-4h2v4z\"/>\n",
              "    </g>\n",
              "</svg>\n",
              "  </button>\n",
              "\n",
              "<style>\n",
              "  .colab-df-quickchart {\n",
              "      --bg-color: #E8F0FE;\n",
              "      --fill-color: #1967D2;\n",
              "      --hover-bg-color: #E2EBFA;\n",
              "      --hover-fill-color: #174EA6;\n",
              "      --disabled-fill-color: #AAA;\n",
              "      --disabled-bg-color: #DDD;\n",
              "  }\n",
              "\n",
              "  [theme=dark] .colab-df-quickchart {\n",
              "      --bg-color: #3B4455;\n",
              "      --fill-color: #D2E3FC;\n",
              "      --hover-bg-color: #434B5C;\n",
              "      --hover-fill-color: #FFFFFF;\n",
              "      --disabled-bg-color: #3B4455;\n",
              "      --disabled-fill-color: #666;\n",
              "  }\n",
              "\n",
              "  .colab-df-quickchart {\n",
              "    background-color: var(--bg-color);\n",
              "    border: none;\n",
              "    border-radius: 50%;\n",
              "    cursor: pointer;\n",
              "    display: none;\n",
              "    fill: var(--fill-color);\n",
              "    height: 32px;\n",
              "    padding: 0;\n",
              "    width: 32px;\n",
              "  }\n",
              "\n",
              "  .colab-df-quickchart:hover {\n",
              "    background-color: var(--hover-bg-color);\n",
              "    box-shadow: 0 1px 2px rgba(60, 64, 67, 0.3), 0 1px 3px 1px rgba(60, 64, 67, 0.15);\n",
              "    fill: var(--button-hover-fill-color);\n",
              "  }\n",
              "\n",
              "  .colab-df-quickchart-complete:disabled,\n",
              "  .colab-df-quickchart-complete:disabled:hover {\n",
              "    background-color: var(--disabled-bg-color);\n",
              "    fill: var(--disabled-fill-color);\n",
              "    box-shadow: none;\n",
              "  }\n",
              "\n",
              "  .colab-df-spinner {\n",
              "    border: 2px solid var(--fill-color);\n",
              "    border-color: transparent;\n",
              "    border-bottom-color: var(--fill-color);\n",
              "    animation:\n",
              "      spin 1s steps(1) infinite;\n",
              "  }\n",
              "\n",
              "  @keyframes spin {\n",
              "    0% {\n",
              "      border-color: transparent;\n",
              "      border-bottom-color: var(--fill-color);\n",
              "      border-left-color: var(--fill-color);\n",
              "    }\n",
              "    20% {\n",
              "      border-color: transparent;\n",
              "      border-left-color: var(--fill-color);\n",
              "      border-top-color: var(--fill-color);\n",
              "    }\n",
              "    30% {\n",
              "      border-color: transparent;\n",
              "      border-left-color: var(--fill-color);\n",
              "      border-top-color: var(--fill-color);\n",
              "      border-right-color: var(--fill-color);\n",
              "    }\n",
              "    40% {\n",
              "      border-color: transparent;\n",
              "      border-right-color: var(--fill-color);\n",
              "      border-top-color: var(--fill-color);\n",
              "    }\n",
              "    60% {\n",
              "      border-color: transparent;\n",
              "      border-right-color: var(--fill-color);\n",
              "    }\n",
              "    80% {\n",
              "      border-color: transparent;\n",
              "      border-right-color: var(--fill-color);\n",
              "      border-bottom-color: var(--fill-color);\n",
              "    }\n",
              "    90% {\n",
              "      border-color: transparent;\n",
              "      border-bottom-color: var(--fill-color);\n",
              "    }\n",
              "  }\n",
              "</style>\n",
              "\n",
              "  <script>\n",
              "    async function quickchart(key) {\n",
              "      const quickchartButtonEl =\n",
              "        document.querySelector('#' + key + ' button');\n",
              "      quickchartButtonEl.disabled = true;  // To prevent multiple clicks.\n",
              "      quickchartButtonEl.classList.add('colab-df-spinner');\n",
              "      try {\n",
              "        const charts = await google.colab.kernel.invokeFunction(\n",
              "            'suggestCharts', [key], {});\n",
              "      } catch (error) {\n",
              "        console.error('Error during call to suggestCharts:', error);\n",
              "      }\n",
              "      quickchartButtonEl.classList.remove('colab-df-spinner');\n",
              "      quickchartButtonEl.classList.add('colab-df-quickchart-complete');\n",
              "    }\n",
              "    (() => {\n",
              "      let quickchartButtonEl =\n",
              "        document.querySelector('#df-ba7cf33b-05d4-494d-a7e5-7dad9644e801 button');\n",
              "      quickchartButtonEl.style.display =\n",
              "        google.colab.kernel.accessAllowed ? 'block' : 'none';\n",
              "    })();\n",
              "  </script>\n",
              "</div>\n",
              "    </div>\n",
              "  </div>\n"
            ]
          },
          "metadata": {},
          "execution_count": 8
        }
      ]
    },
    {
      "cell_type": "code",
      "source": [
        "df.dtypes"
      ],
      "metadata": {
        "colab": {
          "base_uri": "https://localhost:8080/"
        },
        "id": "SHAtqfS7FNwJ",
        "outputId": "fd8cdbba-a693-4c01-940a-47947ea05571"
      },
      "execution_count": 9,
      "outputs": [
        {
          "output_type": "execute_result",
          "data": {
            "text/plain": [
              "Target                int64\n",
              "Pregnancies         float64\n",
              "Glucose             float64\n",
              "BloodPressure       float64\n",
              "SkinThickness       float64\n",
              "Insulin             float64\n",
              "BMI                 float64\n",
              "DiabetesPedigree    float64\n",
              "Age                 float64\n",
              "dtype: object"
            ]
          },
          "metadata": {},
          "execution_count": 9
        }
      ]
    },
    {
      "cell_type": "code",
      "execution_count": 10,
      "metadata": {
        "colab": {
          "base_uri": "https://localhost:8080/"
        },
        "id": "6p_GKH8WOZ9_",
        "outputId": "cc7f1d1e-f00b-40e0-b918-20aa46934726"
      },
      "outputs": [
        {
          "output_type": "execute_result",
          "data": {
            "text/plain": [
              "(768, 9)"
            ]
          },
          "metadata": {},
          "execution_count": 10
        }
      ],
      "source": [
        "df.shape"
      ]
    },
    {
      "cell_type": "code",
      "source": [
        "df.Target.value_counts()"
      ],
      "metadata": {
        "id": "KoMP5N-JLqmO",
        "outputId": "d654a0e2-391f-46fc-8ce6-e7fd01d9bc97",
        "colab": {
          "base_uri": "https://localhost:8080/"
        }
      },
      "execution_count": 11,
      "outputs": [
        {
          "output_type": "execute_result",
          "data": {
            "text/plain": [
              "1    500\n",
              "0    268\n",
              "Name: Target, dtype: int64"
            ]
          },
          "metadata": {},
          "execution_count": 11
        }
      ]
    },
    {
      "cell_type": "code",
      "source": [
        "ax = sns.countplot(x=df.Target)\n",
        "\n",
        "# Taken from https://stackoverflow.com/questions/49044131/how-to-add-data-labels-to-seaborn-countplot-factorplot\n",
        "abs_values = df.Target.value_counts(ascending=True).values\n",
        "ax.bar_label(container=ax.containers[0], labels=abs_values)"
      ],
      "metadata": {
        "colab": {
          "base_uri": "https://localhost:8080/",
          "height": 467
        },
        "id": "Sw8gE7W0Ffax",
        "outputId": "67b8cc38-d08a-4d2f-d090-e029f55262ae"
      },
      "execution_count": 12,
      "outputs": [
        {
          "output_type": "execute_result",
          "data": {
            "text/plain": [
              "[Text(0, 0, '268'), Text(0, 0, '500')]"
            ]
          },
          "metadata": {},
          "execution_count": 12
        },
        {
          "output_type": "display_data",
          "data": {
            "text/plain": [
              "<Figure size 640x480 with 1 Axes>"
            ],
            "image/png": "[encoded data removed]"
          },
          "metadata": {}
        }
      ]
    },
    {
      "cell_type": "markdown",
      "source": [
        "Based on how the data is codified, Target = 1 pertains to having no diabetes, and Target = 0 pertains to having diabetes."
      ],
      "metadata": {
        "id": "_HbByGVOcMQ-"
      }
    },
    {
      "cell_type": "markdown",
      "source": [
        "# Check for missing Data"
      ],
      "metadata": {
        "id": "x8ZNbtH4FjJM"
      }
    },
    {
      "cell_type": "code",
      "execution_count": 13,
      "metadata": {
        "id": "u6C_prBDVyUH",
        "colab": {
          "base_uri": "https://localhost:8080/"
        },
        "outputId": "82f7ba3d-b165-4c2e-cfa2-d603d0378bed"
      },
      "outputs": [
        {
          "output_type": "execute_result",
          "data": {
            "text/plain": [
              "Target              0\n",
              "Pregnancies         0\n",
              "Glucose             0\n",
              "BloodPressure       0\n",
              "SkinThickness       0\n",
              "Insulin             0\n",
              "BMI                 0\n",
              "DiabetesPedigree    0\n",
              "Age                 9\n",
              "dtype: int64"
            ]
          },
          "metadata": {},
          "execution_count": 13
        }
      ],
      "source": [
        "df.isna().sum()"
      ]
    },
    {
      "cell_type": "markdown",
      "metadata": {
        "id": "DANtcALqV1Yd"
      },
      "source": [
        "We have missing data. 9 instances of the feature Age is missing. Given that, the missing data only comprises 1.17% of our dataset. We will drop the rows with missing data."
      ]
    },
    {
      "cell_type": "markdown",
      "metadata": {
        "id": "KNxnkbP1SYKK"
      },
      "source": [
        "# Dropping the rows with missing data"
      ]
    },
    {
      "cell_type": "code",
      "execution_count": 14,
      "metadata": {
        "id": "O_68abdZTDZX"
      },
      "outputs": [],
      "source": [
        "df.dropna(inplace=True)"
      ]
    },
    {
      "cell_type": "code",
      "execution_count": 15,
      "metadata": {
        "colab": {
          "base_uri": "https://localhost:8080/"
        },
        "id": "cUhtWLSsZ0tg",
        "outputId": "027801b1-41db-42b7-91cd-c438da8ae734"
      },
      "outputs": [
        {
          "output_type": "execute_result",
          "data": {
            "text/plain": [
              "(759, 9)"
            ]
          },
          "metadata": {},
          "execution_count": 15
        }
      ],
      "source": [
        "df.shape"
      ]
    },
    {
      "cell_type": "code",
      "source": [
        "ax = sns.countplot(x=df.Target)\n",
        "\n",
        "# Taken from https://stackoverflow.com/questions/49044131/how-to-add-data-labels-to-seaborn-countplot-factorplot\n",
        "abs_values = df.Target.value_counts(ascending=True).values\n",
        "ax.bar_label(container=ax.containers[0], labels=abs_values)"
      ],
      "metadata": {
        "colab": {
          "base_uri": "https://localhost:8080/",
          "height": 467
        },
        "id": "AeMeoZ-xKOk2",
        "outputId": "f9fddbdd-53cf-483f-8587-81c788a411d8"
      },
      "execution_count": 16,
      "outputs": [
        {
          "output_type": "execute_result",
          "data": {
            "text/plain": [
              "[Text(0, 0, '263'), Text(0, 0, '496')]"
            ]
          },
          "metadata": {},
          "execution_count": 16
        },
        {
          "output_type": "display_data",
          "data": {
            "text/plain": [
              "<Figure size 640x480 with 1 Axes>"
            ],
            "image/png": "[encoded data removed]"
          },
          "metadata": {}
        }
      ]
    },
    {
      "cell_type": "markdown",
      "source": [
        "Of the missing data, 5 belong to class 0 and 4 belong to class 1."
      ],
      "metadata": {
        "id": "m-NyoVtGLKTq"
      }
    },
    {
      "cell_type": "markdown",
      "source": [
        "# Inspecting the Data"
      ],
      "metadata": {
        "id": "Be2JEs7StZcA"
      }
    },
    {
      "cell_type": "code",
      "source": [
        "plt.figure(figsize=(12,10))\n",
        "sns.heatmap(df.corr(),annot=True)"
      ],
      "metadata": {
        "colab": {
          "base_uri": "https://localhost:8080/",
          "height": 962
        },
        "id": "RKHazcsMjVu2",
        "outputId": "41dddedc-a0a3-434c-ab8c-b0cee4cbab7c"
      },
      "execution_count": 17,
      "outputs": [
        {
          "output_type": "execute_result",
          "data": {
            "text/plain": [
              "<Axes: >"
            ]
          },
          "metadata": {},
          "execution_count": 17
        },
        {
          "output_type": "display_data",
          "data": {
            "text/plain": [
              "<Figure size 1200x1000 with 2 Axes>"
            ],
            "image/png": "[encoded data removed]"
          },
          "metadata": {}
        }
      ]
    },
    {
      "cell_type": "code",
      "source": [
        "df.describe()"
      ],
      "metadata": {
        "colab": {
          "base_uri": "https://localhost:8080/",
          "height": 300
        },
        "id": "CqWwWPmNtLr3",
        "outputId": "2d9d148d-4961-4478-91f3-9b2921f17e1c"
      },
      "execution_count": 45,
      "outputs": [
        {
          "output_type": "execute_result",
          "data": {
            "text/plain": [
              "           Target  Pregnancies     Glucose  BloodPressure  SkinThickness  \\\n",
              "count  759.000000   759.000000  759.000000     759.000000     759.000000   \n",
              "mean     0.653491    -0.553902    0.211976       0.130392      -0.584860   \n",
              "std      0.476171     0.393479    0.321448       0.317587       0.322290   \n",
              "min      0.000000    -1.000000   -1.000000      -1.000000      -1.000000   \n",
              "25%      0.000000    -0.882353   -0.005025       0.016393      -1.000000   \n",
              "50%      1.000000    -0.647059    0.165829       0.180328      -0.535354   \n",
              "75%      1.000000    -0.294118    0.407035       0.311475      -0.353535   \n",
              "max      1.000000     1.000000    1.000000       1.000000       1.000000   \n",
              "\n",
              "          Insulin         BMI  DiabetesPedigree         Age  \n",
              "count  759.000000  759.000000        759.000000  759.000000  \n",
              "mean    -0.812335   -0.046738         -0.664571   -0.599166  \n",
              "std      0.273006    0.235680          0.282291    0.388652  \n",
              "min     -1.000000   -1.000000         -1.000000   -1.000000  \n",
              "25%     -1.000000   -0.186289         -0.858668   -0.900000  \n",
              "50%     -0.940898   -0.046200         -0.749787   -0.733333  \n",
              "75%     -0.703310    0.087929         -0.532878   -0.366667  \n",
              "max      1.000000    1.000000          1.000000    1.000000  "
            ],
            "text/html": [
              "\n",
              "  <div id=\"df-adc670b8-7717-4986-9221-e1556214c96d\" class=\"colab-df-container\">\n",
              "    <div>\n",
              "<style scoped>\n",
              "    .dataframe tbody tr th:only-of-type {\n",
              "        vertical-align: middle;\n",
              "    }\n",
              "\n",
              "    .dataframe tbody tr th {\n",
              "        vertical-align: top;\n",
              "    }\n",
              "\n",
              "    .dataframe thead th {\n",
              "        text-align: right;\n",
              "    }\n",
              "</style>\n",
              "<table border=\"1\" class=\"dataframe\">\n",
              "  <thead>\n",
              "    <tr style=\"text-align: right;\">\n",
              "      <th></th>\n",
              "      <th>Target</th>\n",
              "      <th>Pregnancies</th>\n",
              "      <th>Glucose</th>\n",
              "      <th>BloodPressure</th>\n",
              "      <th>SkinThickness</th>\n",
              "      <th>Insulin</th>\n",
              "      <th>BMI</th>\n",
              "      <th>DiabetesPedigree</th>\n",
              "      <th>Age</th>\n",
              "    </tr>\n",
              "  </thead>\n",
              "  <tbody>\n",
              "    <tr>\n",
              "      <th>count</th>\n",
              "      <td>759.000000</td>\n",
              "      <td>759.000000</td>\n",
              "      <td>759.000000</td>\n",
              "      <td>759.000000</td>\n",
              "      <td>759.000000</td>\n",
              "      <td>759.000000</td>\n",
              "      <td>759.000000</td>\n",
              "      <td>759.000000</td>\n",
              "      <td>759.000000</td>\n",
              "    </tr>\n",
              "    <tr>\n",
              "      <th>mean</th>\n",
              "      <td>0.653491</td>\n",
              "      <td>-0.553902</td>\n",
              "      <td>0.211976</td>\n",
              "      <td>0.130392</td>\n",
              "      <td>-0.584860</td>\n",
              "      <td>-0.812335</td>\n",
              "      <td>-0.046738</td>\n",
              "      <td>-0.664571</td>\n",
              "      <td>-0.599166</td>\n",
              "    </tr>\n",
              "    <tr>\n",
              "      <th>std</th>\n",
              "      <td>0.476171</td>\n",
              "      <td>0.393479</td>\n",
              "      <td>0.321448</td>\n",
              "      <td>0.317587</td>\n",
              "      <td>0.322290</td>\n",
              "      <td>0.273006</td>\n",
              "      <td>0.235680</td>\n",
              "      <td>0.282291</td>\n",
              "      <td>0.388652</td>\n",
              "    </tr>\n",
              "    <tr>\n",
              "      <th>min</th>\n",
              "      <td>0.000000</td>\n",
              "      <td>-1.000000</td>\n",
              "      <td>-1.000000</td>\n",
              "      <td>-1.000000</td>\n",
              "      <td>-1.000000</td>\n",
              "      <td>-1.000000</td>\n",
              "      <td>-1.000000</td>\n",
              "      <td>-1.000000</td>\n",
              "      <td>-1.000000</td>\n",
              "    </tr>\n",
              "    <tr>\n",
              "      <th>25%</th>\n",
              "      <td>0.000000</td>\n",
              "      <td>-0.882353</td>\n",
              "      <td>-0.005025</td>\n",
              "      <td>0.016393</td>\n",
              "      <td>-1.000000</td>\n",
              "      <td>-1.000000</td>\n",
              "      <td>-0.186289</td>\n",
              "      <td>-0.858668</td>\n",
              "      <td>-0.900000</td>\n",
              "    </tr>\n",
              "    <tr>\n",
              "      <th>50%</th>\n",
              "      <td>1.000000</td>\n",
              "      <td>-0.647059</td>\n",
              "      <td>0.165829</td>\n",
              "      <td>0.180328</td>\n",
              "      <td>-0.535354</td>\n",
              "      <td>-0.940898</td>\n",
              "      <td>-0.046200</td>\n",
              "      <td>-0.749787</td>\n",
              "      <td>-0.733333</td>\n",
              "    </tr>\n",
              "    <tr>\n",
              "      <th>75%</th>\n",
              "      <td>1.000000</td>\n",
              "      <td>-0.294118</td>\n",
              "      <td>0.407035</td>\n",
              "      <td>0.311475</td>\n",
              "      <td>-0.353535</td>\n",
              "      <td>-0.703310</td>\n",
              "      <td>0.087929</td>\n",
              "      <td>-0.532878</td>\n",
              "      <td>-0.366667</td>\n",
              "    </tr>\n",
              "    <tr>\n",
              "      <th>max</th>\n",
              "      <td>1.000000</td>\n",
              "      <td>1.000000</td>\n",
              "      <td>1.000000</td>\n",
              "      <td>1.000000</td>\n",
              "      <td>1.000000</td>\n",
              "      <td>1.000000</td>\n",
              "      <td>1.000000</td>\n",
              "      <td>1.000000</td>\n",
              "      <td>1.000000</td>\n",
              "    </tr>\n",
              "  </tbody>\n",
              "</table>\n",
              "</div>\n",
              "    <div class=\"colab-df-buttons\">\n",
              "\n",
              "  <div class=\"colab-df-container\">\n",
              "    <button class=\"colab-df-convert\" onclick=\"convertToInteractive('df-adc670b8-7717-4986-9221-e1556214c96d')\"\n",
              "            title=\"Convert this dataframe to an interactive table.\"\n",
              "            style=\"display:none;\">\n",
              "\n",
              "  <svg xmlns=\"http://www.w3.org/2000/svg\" height=\"24px\" viewBox=\"0 -960 960 960\">\n",
              "    <path d=\"M120-120v-720h720v720H120Zm60-500h600v-160H180v160Zm220 220h160v-160H400v160Zm0 220h160v-160H400v160ZM180-400h160v-160H180v160Zm440 0h160v-160H620v160ZM180-180h160v-160H180v160Zm440 0h160v-160H620v160Z\"/>\n",
              "  </svg>\n",
              "    </button>\n",
              "\n",
              "  <style>\n",
              "    .colab-df-container {\n",
              "      display:flex;\n",
              "      gap: 12px;\n",
              "    }\n",
              "\n",
              "    .colab-df-convert {\n",
              "      background-color: #E8F0FE;\n",
              "      border: none;\n",
              "      border-radius: 50%;\n",
              "      cursor: pointer;\n",
              "      display: none;\n",
              "      fill: #1967D2;\n",
              "      height: 32px;\n",
              "      padding: 0 0 0 0;\n",
              "      width: 32px;\n",
              "    }\n",
              "\n",
              "    .colab-df-convert:hover {\n",
              "      background-color: #E2EBFA;\n",
              "      box-shadow: 0px 1px 2px rgba(60, 64, 67, 0.3), 0px 1px 3px 1px rgba(60, 64, 67, 0.15);\n",
              "      fill: #174EA6;\n",
              "    }\n",
              "\n",
              "    .colab-df-buttons div {\n",
              "      margin-bottom: 4px;\n",
              "    }\n",
              "\n",
              "    [theme=dark] .colab-df-convert {\n",
              "      background-color: #3B4455;\n",
              "      fill: #D2E3FC;\n",
              "    }\n",
              "\n",
              "    [theme=dark] .colab-df-convert:hover {\n",
              "      background-color: #434B5C;\n",
              "      box-shadow: 0px 1px 3px 1px rgba(0, 0, 0, 0.15);\n",
              "      filter: drop-shadow(0px 1px 2px rgba(0, 0, 0, 0.3));\n",
              "      fill: #FFFFFF;\n",
              "    }\n",
              "  </style>\n",
              "\n",
              "    <script>\n",
              "      const buttonEl =\n",
              "        document.querySelector('#df-adc670b8-7717-4986-9221-e1556214c96d button.colab-df-convert');\n",
              "      buttonEl.style.display =\n",
              "        google.colab.kernel.accessAllowed ? 'block' : 'none';\n",
              "\n",
              "      async function convertToInteractive(key) {\n",
              "        const element = document.querySelector('#df-adc670b8-7717-4986-9221-e1556214c96d');\n",
              "        const dataTable =\n",
              "          await google.colab.kernel.invokeFunction('convertToInteractive',\n",
              "                                                    [key], {});\n",
              "        if (!dataTable) return;\n",
              "\n",
              "        const docLinkHtml = 'Like what you see? Visit the ' +\n",
              "          '<a target=\"_blank\" href=https://colab.research.google.com/notebooks/data_table.ipynb>data table notebook</a>'\n",
              "          + ' to learn more about interactive tables.';\n",
              "        element.innerHTML = '';\n",
              "        dataTable['output_type'] = 'display_data';\n",
              "        await google.colab.output.renderOutput(dataTable, element);\n",
              "        const docLink = document.createElement('div');\n",
              "        docLink.innerHTML = docLinkHtml;\n",
              "        element.appendChild(docLink);\n",
              "      }\n",
              "    </script>\n",
              "  </div>\n",
              "\n",
              "\n",
              "<div id=\"df-b87e8cd3-4bfc-4229-81f6-f98e8da4fe71\">\n",
              "  <button class=\"colab-df-quickchart\" onclick=\"quickchart('df-b87e8cd3-4bfc-4229-81f6-f98e8da4fe71')\"\n",
              "            title=\"Suggest charts.\"\n",
              "            style=\"display:none;\">\n",
              "\n",
              "<svg xmlns=\"http://www.w3.org/2000/svg\" height=\"24px\"viewBox=\"0 0 24 24\"\n",
              "     width=\"24px\">\n",
              "    <g>\n",
              "        <path d=\"M19 3H5c-1.1 0-2 .9-2 2v14c0 1.1.9 2 2 2h14c1.1 0 2-.9 2-2V5c0-1.1-.9-2-2-2zM9 17H7v-7h2v7zm4 0h-2V7h2v10zm4 0h-2v-4h2v4z\"/>\n",
              "    </g>\n",
              "</svg>\n",
              "  </button>\n",
              "\n",
              "<style>\n",
              "  .colab-df-quickchart {\n",
              "      --bg-color: #E8F0FE;\n",
              "      --fill-color: #1967D2;\n",
              "      --hover-bg-color: #E2EBFA;\n",
              "      --hover-fill-color: #174EA6;\n",
              "      --disabled-fill-color: #AAA;\n",
              "      --disabled-bg-color: #DDD;\n",
              "  }\n",
              "\n",
              "  [theme=dark] .colab-df-quickchart {\n",
              "      --bg-color: #3B4455;\n",
              "      --fill-color: #D2E3FC;\n",
              "      --hover-bg-color: #434B5C;\n",
              "      --hover-fill-color: #FFFFFF;\n",
              "      --disabled-bg-color: #3B4455;\n",
              "      --disabled-fill-color: #666;\n",
              "  }\n",
              "\n",
              "  .colab-df-quickchart {\n",
              "    background-color: var(--bg-color);\n",
              "    border: none;\n",
              "    border-radius: 50%;\n",
              "    cursor: pointer;\n",
              "    display: none;\n",
              "    fill: var(--fill-color);\n",
              "    height: 32px;\n",
              "    padding: 0;\n",
              "    width: 32px;\n",
              "  }\n",
              "\n",
              "  .colab-df-quickchart:hover {\n",
              "    background-color: var(--hover-bg-color);\n",
              "    box-shadow: 0 1px 2px rgba(60, 64, 67, 0.3), 0 1px 3px 1px rgba(60, 64, 67, 0.15);\n",
              "    fill: var(--button-hover-fill-color);\n",
              "  }\n",
              "\n",
              "  .colab-df-quickchart-complete:disabled,\n",
              "  .colab-df-quickchart-complete:disabled:hover {\n",
              "    background-color: var(--disabled-bg-color);\n",
              "    fill: var(--disabled-fill-color);\n",
              "    box-shadow: none;\n",
              "  }\n",
              "\n",
              "  .colab-df-spinner {\n",
              "    border: 2px solid var(--fill-color);\n",
              "    border-color: transparent;\n",
              "    border-bottom-color: var(--fill-color);\n",
              "    animation:\n",
              "      spin 1s steps(1) infinite;\n",
              "  }\n",
              "\n",
              "  @keyframes spin {\n",
              "    0% {\n",
              "      border-color: transparent;\n",
              "      border-bottom-color: var(--fill-color);\n",
              "      border-left-color: var(--fill-color);\n",
              "    }\n",
              "    20% {\n",
              "      border-color: transparent;\n",
              "      border-left-color: var(--fill-color);\n",
              "      border-top-color: var(--fill-color);\n",
              "    }\n",
              "    30% {\n",
              "      border-color: transparent;\n",
              "      border-left-color: var(--fill-color);\n",
              "      border-top-color: var(--fill-color);\n",
              "      border-right-color: var(--fill-color);\n",
              "    }\n",
              "    40% {\n",
              "      border-color: transparent;\n",
              "      border-right-color: var(--fill-color);\n",
              "      border-top-color: var(--fill-color);\n",
              "    }\n",
              "    60% {\n",
              "      border-color: transparent;\n",
              "      border-right-color: var(--fill-color);\n",
              "    }\n",
              "    80% {\n",
              "      border-color: transparent;\n",
              "      border-right-color: var(--fill-color);\n",
              "      border-bottom-color: var(--fill-color);\n",
              "    }\n",
              "    90% {\n",
              "      border-color: transparent;\n",
              "      border-bottom-color: var(--fill-color);\n",
              "    }\n",
              "  }\n",
              "</style>\n",
              "\n",
              "  <script>\n",
              "    async function quickchart(key) {\n",
              "      const quickchartButtonEl =\n",
              "        document.querySelector('#' + key + ' button');\n",
              "      quickchartButtonEl.disabled = true;  // To prevent multiple clicks.\n",
              "      quickchartButtonEl.classList.add('colab-df-spinner');\n",
              "      try {\n",
              "        const charts = await google.colab.kernel.invokeFunction(\n",
              "            'suggestCharts', [key], {});\n",
              "      } catch (error) {\n",
              "        console.error('Error during call to suggestCharts:', error);\n",
              "      }\n",
              "      quickchartButtonEl.classList.remove('colab-df-spinner');\n",
              "      quickchartButtonEl.classList.add('colab-df-quickchart-complete');\n",
              "    }\n",
              "    (() => {\n",
              "      let quickchartButtonEl =\n",
              "        document.querySelector('#df-b87e8cd3-4bfc-4229-81f6-f98e8da4fe71 button');\n",
              "      quickchartButtonEl.style.display =\n",
              "        google.colab.kernel.accessAllowed ? 'block' : 'none';\n",
              "    })();\n",
              "  </script>\n",
              "</div>\n",
              "    </div>\n",
              "  </div>\n"
            ]
          },
          "metadata": {},
          "execution_count": 45
        }
      ]
    },
    {
      "cell_type": "code",
      "source": [
        "# df = df[['Target','Age','BMI','Glucose','Pregnancies']]"
      ],
      "metadata": {
        "id": "6xRur8UEjezJ"
      },
      "execution_count": 18,
      "outputs": []
    },
    {
      "cell_type": "markdown",
      "metadata": {
        "id": "2rODvV4-ZDYN"
      },
      "source": [
        "# Splitting Dataset"
      ]
    },
    {
      "cell_type": "markdown",
      "source": [
        "I opted to use KFold here since the dataset only has 759 instances. We will do a train-test split with a proportion of of 80-20. Additionally, we will stratify the target for the model to learn about both classes since one is underrepresented."
      ],
      "metadata": {
        "id": "8LsKVgUfe-A2"
      }
    },
    {
      "cell_type": "code",
      "execution_count": 19,
      "metadata": {
        "id": "MY1mwsOAWJYq"
      },
      "outputs": [],
      "source": [
        "from sklearn.model_selection import train_test_split\n",
        "import numpy as np"
      ]
    },
    {
      "cell_type": "code",
      "execution_count": 20,
      "metadata": {
        "id": "RNpvHToPYTZm"
      },
      "outputs": [],
      "source": [
        "X = df.iloc[:,1:]\n",
        "y = df.iloc[:,0]"
      ]
    },
    {
      "cell_type": "code",
      "execution_count": 21,
      "metadata": {
        "id": "JR5tAVOEWU9Q"
      },
      "outputs": [],
      "source": [
        "X_train, X_test, y_train, y_test = train_test_split(X,y,stratify=y,random_state=0,train_size = 0.80)"
      ]
    },
    {
      "cell_type": "markdown",
      "source": [
        "# Using Linear Classifiers to predict diabetes"
      ],
      "metadata": {
        "id": "8WMQxy_HHl7b"
      }
    },
    {
      "cell_type": "code",
      "source": [
        "from sklearn.metrics import accuracy_score, f1_score, precision_score, recall_score, confusion_matrix"
      ],
      "metadata": {
        "id": "E73kLadSyhVJ"
      },
      "execution_count": 22,
      "outputs": []
    },
    {
      "cell_type": "code",
      "source": [
        "def evaluate_model(clf,\n",
        "                   X_train,\n",
        "                   y_train,\n",
        "                   X_test,\n",
        "                   y_test):\n",
        "  clf.fit(X_train,y_train)\n",
        "  print('Training data metrics')\n",
        "  print('---------------------')\n",
        "  y_train_pred = clf.predict(X_train)\n",
        "  print('accuracy:', accuracy_score(y_train,y_train_pred))\n",
        "  print('precision:', precision_score(y_train,y_train_pred))\n",
        "  print('recall:', recall_score(y_train,y_train_pred))\n",
        "  print('f1:', f1_score(y_train,y_train_pred))\n",
        "  print()\n",
        "  y_pred = clf.predict(X_test)\n",
        "\n",
        "  print('Test data metrics')\n",
        "  print('---------------------')\n",
        "  print('accuracy:', accuracy_score(y_test,y_pred))\n",
        "  print('precision:', precision_score(y_test,y_pred))\n",
        "  print('recall:', recall_score(y_test,y_pred))\n",
        "  print('f1:', f1_score(y_test,y_pred))"
      ],
      "metadata": {
        "id": "ebSq6T4-ySje"
      },
      "execution_count": 23,
      "outputs": []
    },
    {
      "cell_type": "markdown",
      "source": [
        "## Logistic Regression"
      ],
      "metadata": {
        "id": "oqMPHq1-Htgz"
      }
    },
    {
      "cell_type": "markdown",
      "source": [
        "For Logistic Regression, the scikit-learn library has a function specifically for Logistic Regression using cross-validation"
      ],
      "metadata": {
        "id": "fvGHLK35j8iy"
      }
    },
    {
      "cell_type": "code",
      "source": [
        "from sklearn.linear_model import LogisticRegression"
      ],
      "metadata": {
        "id": "t8MQVIyFeLcj"
      },
      "execution_count": 24,
      "outputs": []
    },
    {
      "cell_type": "code",
      "source": [
        "evaluate_model(LogisticRegression(random_state=0), X_train,y_train,X_test,y_test)"
      ],
      "metadata": {
        "colab": {
          "base_uri": "https://localhost:8080/"
        },
        "id": "xrcrFz4FhSGb",
        "outputId": "4e761d8e-96c2-46bf-846a-7cd1331c4927"
      },
      "execution_count": 25,
      "outputs": [
        {
          "output_type": "stream",
          "name": "stdout",
          "text": [
            "Training data metrics\n",
            "---------------------\n",
            "accuracy: 0.7792421746293245\n",
            "precision: 0.7981859410430839\n",
            "recall: 0.8866498740554156\n",
            "f1: 0.8400954653937949\n",
            "\n",
            "Test data metrics\n",
            "---------------------\n",
            "accuracy: 0.7697368421052632\n",
            "precision: 0.7666666666666667\n",
            "recall: 0.9292929292929293\n",
            "f1: 0.8401826484018264\n"
          ]
        }
      ]
    },
    {
      "cell_type": "markdown",
      "source": [
        "## Support Vector Machines"
      ],
      "metadata": {
        "id": "xtyIzpwOHtYu"
      }
    },
    {
      "cell_type": "code",
      "source": [
        "from sklearn.svm import SVC"
      ],
      "metadata": {
        "id": "WFfe3jM0HtIf"
      },
      "execution_count": 26,
      "outputs": []
    },
    {
      "cell_type": "code",
      "source": [
        "evaluate_model(SVC(random_state=0),X_train,y_train,X_test,y_test)"
      ],
      "metadata": {
        "colab": {
          "base_uri": "https://localhost:8080/"
        },
        "id": "isZ8vfk1znrD",
        "outputId": "55c91d25-0f84-4079-8933-0c4f0511fb92"
      },
      "execution_count": 27,
      "outputs": [
        {
          "output_type": "stream",
          "name": "stdout",
          "text": [
            "Training data metrics\n",
            "---------------------\n",
            "accuracy: 0.8056013179571664\n",
            "precision: 0.8093126385809313\n",
            "recall: 0.9193954659949622\n",
            "f1: 0.8608490566037738\n",
            "\n",
            "Test data metrics\n",
            "---------------------\n",
            "accuracy: 0.7828947368421053\n",
            "precision: 0.7946428571428571\n",
            "recall: 0.898989898989899\n",
            "f1: 0.8436018957345972\n"
          ]
        }
      ]
    },
    {
      "cell_type": "markdown",
      "source": [
        "We see that SVMs slightly outperform Logistic Regression across multiple metrics except for Recall (or true positive rate). We can refer to this as our benchmark values to compare our neural networks to."
      ],
      "metadata": {
        "id": "aCP1WKGm0031"
      }
    },
    {
      "cell_type": "markdown",
      "metadata": {
        "id": "dzfl_ii6UckU"
      },
      "source": [
        "# Single Layer Perceptron"
      ]
    },
    {
      "cell_type": "code",
      "source": [
        "import torch\n",
        "import numpy\n",
        "import random\n",
        "\n",
        "from torch.utils.data import DataLoader, TensorDataset"
      ],
      "metadata": {
        "id": "lLJhxiD7_yMl"
      },
      "execution_count": 40,
      "outputs": []
    },
    {
      "cell_type": "code",
      "execution_count": 29,
      "metadata": {
        "id": "qWrG4MikayHG"
      },
      "outputs": [],
      "source": [
        "# Converting dataFrames into tensors\n",
        "X_train = np.asarray(X_train).astype('float32')\n",
        "X_test = np.asarray(X_test).astype('float32')\n",
        "y_train = np.asarray(y_train).astype('float32').reshape((-1,1))\n",
        "y_test = np.asarray(y_test).astype('float32').reshape((-1,1))\n",
        "\n",
        "X_train_t = torch.from_numpy(X_train)\n",
        "X_test_t = torch.from_numpy(X_test)\n",
        "y_train_t = torch.from_numpy(y_train)\n",
        "y_test_t = torch.from_numpy(y_test)\n",
        "\n",
        "train_data_tensor = TensorDataset(X_train_t, y_train_t)\n",
        "train_loader = DataLoader(train_data_tensor, batch_size=32, shuffle=True, worker_init_fn=np.random.seed(0))"
      ]
    },
    {
      "cell_type": "code",
      "source": [
        "# https://medium.com/@shashankshankar10/introduction-to-neural-networks-build-a-single-layer-perceptron-in-pytorch-c22d9b412ccf\n",
        "class SingleLayerNet(torch.nn.Module):\n",
        "    def __init__(self, input_size):\n",
        "        super(SingleLayerNet, self).__init__()\n",
        "        self.input_layer = torch.nn.Linear(input_size, 1)\n",
        "\n",
        "    #Define how forward-pass\n",
        "    def forward(self, x):\n",
        "        y_pred = torch.tanh(self.input_layer(x))\n",
        "        return y_pred"
      ],
      "metadata": {
        "id": "I3xXnGIgBXhb"
      },
      "execution_count": 30,
      "outputs": []
    },
    {
      "cell_type": "code",
      "source": [
        "# create the model\n",
        "# 8 is the number of weights in the neural net\n",
        "model = SingleLayerNet(df.shape[1]-1)"
      ],
      "metadata": {
        "id": "WCoAhfzdCJaR"
      },
      "execution_count": 31,
      "outputs": []
    },
    {
      "cell_type": "code",
      "source": [
        "# Define the loss function (criterion)\n",
        "criterion = torch.nn.BCEWithLogitsLoss()\n",
        "\n",
        "# Create an optimizer (Adam)\n",
        "optimizer = torch.optim.Adam(model.parameters(), lr=5e-4)"
      ],
      "metadata": {
        "id": "yWMu5-7OCReM"
      },
      "execution_count": 32,
      "outputs": []
    },
    {
      "cell_type": "code",
      "source": [
        "# Define the training loop\n",
        "epochs = 500\n",
        "losses = []\n",
        "for epoch in range(epochs):\n",
        "    for inputs, labels in train_loader:\n",
        "        optimizer.zero_grad()\n",
        "        outputs = model(inputs)\n",
        "        loss = criterion(outputs, labels.view(-1, 1))\n",
        "        loss.backward()\n",
        "        optimizer.step()\n",
        "    losses.append(loss.item())\n",
        "    print(f'Epoch [{epoch+1}], Loss: {loss.item()}')"
      ],
      "metadata": {
        "colab": {
          "base_uri": "https://localhost:8080/"
        },
        "id": "rniaR1DLC-rb",
        "outputId": "b333123c-f610-4b00-f0c3-24b472648bbf"
      },
      "execution_count": 33,
      "outputs": [
        {
          "output_type": "stream",
          "name": "stdout",
          "text": [
            "Epoch [1], Loss: 0.6646811366081238\n",
            "Epoch [2], Loss: 0.6590998768806458\n",
            "Epoch [3], Loss: 0.6732540726661682\n",
            "Epoch [4], Loss: 0.6653270721435547\n",
            "Epoch [5], Loss: 0.6549549698829651\n",
            "Epoch [6], Loss: 0.6066134572029114\n",
            "Epoch [7], Loss: 0.6494652628898621\n",
            "Epoch [8], Loss: 0.6550242304801941\n",
            "Epoch [9], Loss: 0.6422959566116333\n",
            "Epoch [10], Loss: 0.6311971545219421\n",
            "Epoch [11], Loss: 0.615738570690155\n",
            "Epoch [12], Loss: 0.6428537964820862\n",
            "Epoch [13], Loss: 0.6612270474433899\n",
            "Epoch [14], Loss: 0.6382863521575928\n",
            "Epoch [15], Loss: 0.6130692958831787\n",
            "Epoch [16], Loss: 0.6423464417457581\n",
            "Epoch [17], Loss: 0.5954228639602661\n",
            "Epoch [18], Loss: 0.643485426902771\n",
            "Epoch [19], Loss: 0.5979796051979065\n",
            "Epoch [20], Loss: 0.6893201470375061\n",
            "Epoch [21], Loss: 0.6021414399147034\n",
            "Epoch [22], Loss: 0.6118590235710144\n",
            "Epoch [23], Loss: 0.6063625812530518\n",
            "Epoch [24], Loss: 0.6150782108306885\n",
            "Epoch [25], Loss: 0.6223065257072449\n",
            "Epoch [26], Loss: 0.549714207649231\n",
            "Epoch [27], Loss: 0.5974647998809814\n",
            "Epoch [28], Loss: 0.579597532749176\n",
            "Epoch [29], Loss: 0.5822814106941223\n",
            "Epoch [30], Loss: 0.6152852773666382\n",
            "Epoch [31], Loss: 0.5666501522064209\n",
            "Epoch [32], Loss: 0.7274899482727051\n",
            "Epoch [33], Loss: 0.6216029524803162\n",
            "Epoch [34], Loss: 0.608814001083374\n",
            "Epoch [35], Loss: 0.6095086932182312\n",
            "Epoch [36], Loss: 0.5750547647476196\n",
            "Epoch [37], Loss: 0.683182418346405\n",
            "Epoch [38], Loss: 0.5886788368225098\n",
            "Epoch [39], Loss: 0.6422260403633118\n",
            "Epoch [40], Loss: 0.5412035584449768\n",
            "Epoch [41], Loss: 0.5922709107398987\n",
            "Epoch [42], Loss: 0.6160407662391663\n",
            "Epoch [43], Loss: 0.5544266104698181\n",
            "Epoch [44], Loss: 0.600311279296875\n",
            "Epoch [45], Loss: 0.576753556728363\n",
            "Epoch [46], Loss: 0.6323919892311096\n",
            "Epoch [47], Loss: 0.5562325716018677\n",
            "Epoch [48], Loss: 0.6376612186431885\n",
            "Epoch [49], Loss: 0.5747600197792053\n",
            "Epoch [50], Loss: 0.5787966847419739\n",
            "Epoch [51], Loss: 0.5267807245254517\n",
            "Epoch [52], Loss: 0.4956238567829132\n",
            "Epoch [53], Loss: 0.5369330048561096\n",
            "Epoch [54], Loss: 0.5513798594474792\n",
            "Epoch [55], Loss: 0.49735018610954285\n",
            "Epoch [56], Loss: 0.6252522468566895\n",
            "Epoch [57], Loss: 0.5656607747077942\n",
            "Epoch [58], Loss: 0.5352076888084412\n",
            "Epoch [59], Loss: 0.6040080785751343\n",
            "Epoch [60], Loss: 0.5338480472564697\n",
            "Epoch [61], Loss: 0.6015049815177917\n",
            "Epoch [62], Loss: 0.6731618046760559\n",
            "Epoch [63], Loss: 0.5753577947616577\n",
            "Epoch [64], Loss: 0.6921250820159912\n",
            "Epoch [65], Loss: 0.6123709082603455\n",
            "Epoch [66], Loss: 0.5937085151672363\n",
            "Epoch [67], Loss: 0.6089171171188354\n",
            "Epoch [68], Loss: 0.5777924656867981\n",
            "Epoch [69], Loss: 0.591055691242218\n",
            "Epoch [70], Loss: 0.5509262084960938\n",
            "Epoch [71], Loss: 0.5706527233123779\n",
            "Epoch [72], Loss: 0.6331765055656433\n",
            "Epoch [73], Loss: 0.6094111204147339\n",
            "Epoch [74], Loss: 0.6084131002426147\n",
            "Epoch [75], Loss: 0.547500729560852\n",
            "Epoch [76], Loss: 0.6484864950180054\n",
            "Epoch [77], Loss: 0.5479624271392822\n",
            "Epoch [78], Loss: 0.6131665706634521\n",
            "Epoch [79], Loss: 0.6210909485816956\n",
            "Epoch [80], Loss: 0.5936387181282043\n",
            "Epoch [81], Loss: 0.5567905306816101\n",
            "Epoch [82], Loss: 0.5517616271972656\n",
            "Epoch [83], Loss: 0.6092860102653503\n",
            "Epoch [84], Loss: 0.5889461040496826\n",
            "Epoch [85], Loss: 0.5373607873916626\n",
            "Epoch [86], Loss: 0.5580906867980957\n",
            "Epoch [87], Loss: 0.5428631901741028\n",
            "Epoch [88], Loss: 0.5394969582557678\n",
            "Epoch [89], Loss: 0.5487878322601318\n",
            "Epoch [90], Loss: 0.5728386044502258\n",
            "Epoch [91], Loss: 0.5782105326652527\n",
            "Epoch [92], Loss: 0.6165501475334167\n",
            "Epoch [93], Loss: 0.506664514541626\n",
            "Epoch [94], Loss: 0.5715744495391846\n",
            "Epoch [95], Loss: 0.6078764200210571\n",
            "Epoch [96], Loss: 0.5763591527938843\n",
            "Epoch [97], Loss: 0.5344521403312683\n",
            "Epoch [98], Loss: 0.5500258803367615\n",
            "Epoch [99], Loss: 0.5474606156349182\n",
            "Epoch [100], Loss: 0.5471720099449158\n",
            "Epoch [101], Loss: 0.560574471950531\n",
            "Epoch [102], Loss: 0.5212085843086243\n",
            "Epoch [103], Loss: 0.5916410088539124\n",
            "Epoch [104], Loss: 0.4981192350387573\n",
            "Epoch [105], Loss: 0.49720609188079834\n",
            "Epoch [106], Loss: 0.5847523808479309\n",
            "Epoch [107], Loss: 0.5852835774421692\n",
            "Epoch [108], Loss: 0.5347980856895447\n",
            "Epoch [109], Loss: 0.6114202737808228\n",
            "Epoch [110], Loss: 0.6170860528945923\n",
            "Epoch [111], Loss: 0.528164803981781\n",
            "Epoch [112], Loss: 0.5757282376289368\n",
            "Epoch [113], Loss: 0.5846616625785828\n",
            "Epoch [114], Loss: 0.5348570942878723\n",
            "Epoch [115], Loss: 0.5382781028747559\n",
            "Epoch [116], Loss: 0.5522668957710266\n",
            "Epoch [117], Loss: 0.5756776332855225\n",
            "Epoch [118], Loss: 0.5284982323646545\n",
            "Epoch [119], Loss: 0.6093108654022217\n",
            "Epoch [120], Loss: 0.5001042485237122\n",
            "Epoch [121], Loss: 0.5904311537742615\n",
            "Epoch [122], Loss: 0.6367757320404053\n",
            "Epoch [123], Loss: 0.5447672605514526\n",
            "Epoch [124], Loss: 0.5478500723838806\n",
            "Epoch [125], Loss: 0.6835914254188538\n",
            "Epoch [126], Loss: 0.5608201622962952\n",
            "Epoch [127], Loss: 0.5144230723381042\n",
            "Epoch [128], Loss: 0.546515703201294\n",
            "Epoch [129], Loss: 0.618381917476654\n",
            "Epoch [130], Loss: 0.5144956111907959\n",
            "Epoch [131], Loss: 0.5549123287200928\n",
            "Epoch [132], Loss: 0.5916908979415894\n",
            "Epoch [133], Loss: 0.6154446601867676\n",
            "Epoch [134], Loss: 0.5521067380905151\n",
            "Epoch [135], Loss: 0.4965968728065491\n",
            "Epoch [136], Loss: 0.6024982333183289\n",
            "Epoch [137], Loss: 0.5765568017959595\n",
            "Epoch [138], Loss: 0.5893546342849731\n",
            "Epoch [139], Loss: 0.5976313948631287\n",
            "Epoch [140], Loss: 0.608404815196991\n",
            "Epoch [141], Loss: 0.5394876003265381\n",
            "Epoch [142], Loss: 0.5251368284225464\n",
            "Epoch [143], Loss: 0.541171133518219\n",
            "Epoch [144], Loss: 0.579298198223114\n",
            "Epoch [145], Loss: 0.484962522983551\n",
            "Epoch [146], Loss: 0.5149345993995667\n",
            "Epoch [147], Loss: 0.6644542217254639\n",
            "Epoch [148], Loss: 0.5786157250404358\n",
            "Epoch [149], Loss: 0.5466243624687195\n",
            "Epoch [150], Loss: 0.5515751242637634\n",
            "Epoch [151], Loss: 0.5256105065345764\n",
            "Epoch [152], Loss: 0.5828508138656616\n",
            "Epoch [153], Loss: 0.5271680951118469\n",
            "Epoch [154], Loss: 0.5302151441574097\n",
            "Epoch [155], Loss: 0.47074440121650696\n",
            "Epoch [156], Loss: 0.6350356340408325\n",
            "Epoch [157], Loss: 0.5667062401771545\n",
            "Epoch [158], Loss: 0.5572296977043152\n",
            "Epoch [159], Loss: 0.4946441948413849\n",
            "Epoch [160], Loss: 0.5855396389961243\n",
            "Epoch [161], Loss: 0.5043087601661682\n",
            "Epoch [162], Loss: 0.5428339242935181\n",
            "Epoch [163], Loss: 0.6557796597480774\n",
            "Epoch [164], Loss: 0.5355722308158875\n",
            "Epoch [165], Loss: 0.5418477654457092\n",
            "Epoch [166], Loss: 0.580210268497467\n",
            "Epoch [167], Loss: 0.6131787300109863\n",
            "Epoch [168], Loss: 0.5098353028297424\n",
            "Epoch [169], Loss: 0.5422930121421814\n",
            "Epoch [170], Loss: 0.5676476955413818\n",
            "Epoch [171], Loss: 0.5446022152900696\n",
            "Epoch [172], Loss: 0.48471444845199585\n",
            "Epoch [173], Loss: 0.5707442760467529\n",
            "Epoch [174], Loss: 0.6386910080909729\n",
            "Epoch [175], Loss: 0.5531790852546692\n",
            "Epoch [176], Loss: 0.6098252534866333\n",
            "Epoch [177], Loss: 0.5337161421775818\n",
            "Epoch [178], Loss: 0.5397709012031555\n",
            "Epoch [179], Loss: 0.582504391670227\n",
            "Epoch [180], Loss: 0.516420841217041\n",
            "Epoch [181], Loss: 0.5267167091369629\n",
            "Epoch [182], Loss: 0.4911061227321625\n",
            "Epoch [183], Loss: 0.5409661531448364\n",
            "Epoch [184], Loss: 0.5514683723449707\n",
            "Epoch [185], Loss: 0.5514470338821411\n",
            "Epoch [186], Loss: 0.5896944403648376\n",
            "Epoch [187], Loss: 0.5579235553741455\n",
            "Epoch [188], Loss: 0.5073479413986206\n",
            "Epoch [189], Loss: 0.5192207098007202\n",
            "Epoch [190], Loss: 0.515267014503479\n",
            "Epoch [191], Loss: 0.5383340716362\n",
            "Epoch [192], Loss: 0.5161609649658203\n",
            "Epoch [193], Loss: 0.4972124695777893\n",
            "Epoch [194], Loss: 0.564889669418335\n",
            "Epoch [195], Loss: 0.5631201863288879\n",
            "Epoch [196], Loss: 0.5194616913795471\n",
            "Epoch [197], Loss: 0.517427384853363\n",
            "Epoch [198], Loss: 0.573053240776062\n",
            "Epoch [199], Loss: 0.462924987077713\n",
            "Epoch [200], Loss: 0.584372878074646\n",
            "Epoch [201], Loss: 0.6162636280059814\n",
            "Epoch [202], Loss: 0.5300883650779724\n",
            "Epoch [203], Loss: 0.5119863152503967\n",
            "Epoch [204], Loss: 0.5219024419784546\n",
            "Epoch [205], Loss: 0.5723444819450378\n",
            "Epoch [206], Loss: 0.4592849910259247\n",
            "Epoch [207], Loss: 0.5338712930679321\n",
            "Epoch [208], Loss: 0.5275777578353882\n",
            "Epoch [209], Loss: 0.5369463562965393\n",
            "Epoch [210], Loss: 0.5267552137374878\n",
            "Epoch [211], Loss: 0.5633407831192017\n",
            "Epoch [212], Loss: 0.5676124691963196\n",
            "Epoch [213], Loss: 0.5486011505126953\n",
            "Epoch [214], Loss: 0.5419045686721802\n",
            "Epoch [215], Loss: 0.5643760561943054\n",
            "Epoch [216], Loss: 0.5713775753974915\n",
            "Epoch [217], Loss: 0.5668732523918152\n",
            "Epoch [218], Loss: 0.5176688432693481\n",
            "Epoch [219], Loss: 0.5268839597702026\n",
            "Epoch [220], Loss: 0.5542204976081848\n",
            "Epoch [221], Loss: 0.5406080484390259\n",
            "Epoch [222], Loss: 0.5445079207420349\n",
            "Epoch [223], Loss: 0.5923231840133667\n",
            "Epoch [224], Loss: 0.5535624027252197\n",
            "Epoch [225], Loss: 0.5374475121498108\n",
            "Epoch [226], Loss: 0.5384188294410706\n",
            "Epoch [227], Loss: 0.5357813835144043\n",
            "Epoch [228], Loss: 0.527380108833313\n",
            "Epoch [229], Loss: 0.5927939414978027\n",
            "Epoch [230], Loss: 0.4450821578502655\n",
            "Epoch [231], Loss: 0.5446916818618774\n",
            "Epoch [232], Loss: 0.5802047252655029\n",
            "Epoch [233], Loss: 0.5146355628967285\n",
            "Epoch [234], Loss: 0.5302442312240601\n",
            "Epoch [235], Loss: 0.48107171058654785\n",
            "Epoch [236], Loss: 0.5574623346328735\n",
            "Epoch [237], Loss: 0.4832138419151306\n",
            "Epoch [238], Loss: 0.5614764094352722\n",
            "Epoch [239], Loss: 0.5102210640907288\n",
            "Epoch [240], Loss: 0.5340214967727661\n",
            "Epoch [241], Loss: 0.5540775656700134\n",
            "Epoch [242], Loss: 0.5946543216705322\n",
            "Epoch [243], Loss: 0.5011117458343506\n",
            "Epoch [244], Loss: 0.5149515271186829\n",
            "Epoch [245], Loss: 0.4987906515598297\n",
            "Epoch [246], Loss: 0.6038652658462524\n",
            "Epoch [247], Loss: 0.5891343951225281\n",
            "Epoch [248], Loss: 0.5716584920883179\n",
            "Epoch [249], Loss: 0.5436877608299255\n",
            "Epoch [250], Loss: 0.5028469562530518\n",
            "Epoch [251], Loss: 0.5257488489151001\n",
            "Epoch [252], Loss: 0.5305745005607605\n",
            "Epoch [253], Loss: 0.45818209648132324\n",
            "Epoch [254], Loss: 0.5340390205383301\n",
            "Epoch [255], Loss: 0.4880141615867615\n",
            "Epoch [256], Loss: 0.5128805041313171\n",
            "Epoch [257], Loss: 0.4699174165725708\n",
            "Epoch [258], Loss: 0.5977007746696472\n",
            "Epoch [259], Loss: 0.6674996018409729\n",
            "Epoch [260], Loss: 0.6074572801589966\n",
            "Epoch [261], Loss: 0.5875649452209473\n",
            "Epoch [262], Loss: 0.5702704787254333\n",
            "Epoch [263], Loss: 0.5050309896469116\n",
            "Epoch [264], Loss: 0.5183219909667969\n",
            "Epoch [265], Loss: 0.47551268339157104\n",
            "Epoch [266], Loss: 0.5083390474319458\n",
            "Epoch [267], Loss: 0.5955843329429626\n",
            "Epoch [268], Loss: 0.5640862584114075\n",
            "Epoch [269], Loss: 0.5452879667282104\n",
            "Epoch [270], Loss: 0.5487939715385437\n",
            "Epoch [271], Loss: 0.5286416411399841\n",
            "Epoch [272], Loss: 0.6954914331436157\n",
            "Epoch [273], Loss: 0.53456050157547\n",
            "Epoch [274], Loss: 0.5833199620246887\n",
            "Epoch [275], Loss: 0.601387619972229\n",
            "Epoch [276], Loss: 0.5304772257804871\n",
            "Epoch [277], Loss: 0.5612672567367554\n",
            "Epoch [278], Loss: 0.5330032706260681\n",
            "Epoch [279], Loss: 0.4616730511188507\n",
            "Epoch [280], Loss: 0.45912837982177734\n",
            "Epoch [281], Loss: 0.5218119025230408\n",
            "Epoch [282], Loss: 0.4930616617202759\n",
            "Epoch [283], Loss: 0.5360929369926453\n",
            "Epoch [284], Loss: 0.5128303170204163\n",
            "Epoch [285], Loss: 0.5429089069366455\n",
            "Epoch [286], Loss: 0.5450616478919983\n",
            "Epoch [287], Loss: 0.6045295596122742\n",
            "Epoch [288], Loss: 0.5698726773262024\n",
            "Epoch [289], Loss: 0.5009642243385315\n",
            "Epoch [290], Loss: 0.5578901171684265\n",
            "Epoch [291], Loss: 0.6311753988265991\n",
            "Epoch [292], Loss: 0.43703970313072205\n",
            "Epoch [293], Loss: 0.5117165446281433\n",
            "Epoch [294], Loss: 0.580285906791687\n",
            "Epoch [295], Loss: 0.5193210244178772\n",
            "Epoch [296], Loss: 0.4660393297672272\n",
            "Epoch [297], Loss: 0.5471050143241882\n",
            "Epoch [298], Loss: 0.5898025631904602\n",
            "Epoch [299], Loss: 0.554206907749176\n",
            "Epoch [300], Loss: 0.5879141092300415\n",
            "Epoch [301], Loss: 0.4942566454410553\n",
            "Epoch [302], Loss: 0.5570499300956726\n",
            "Epoch [303], Loss: 0.4716050922870636\n",
            "Epoch [304], Loss: 0.5028289556503296\n",
            "Epoch [305], Loss: 0.4864872992038727\n",
            "Epoch [306], Loss: 0.5508977174758911\n",
            "Epoch [307], Loss: 0.45376721024513245\n",
            "Epoch [308], Loss: 0.49755775928497314\n",
            "Epoch [309], Loss: 0.5029979348182678\n",
            "Epoch [310], Loss: 0.5303542613983154\n",
            "Epoch [311], Loss: 0.4671276807785034\n",
            "Epoch [312], Loss: 0.6153348088264465\n",
            "Epoch [313], Loss: 0.5324481725692749\n",
            "Epoch [314], Loss: 0.5764889717102051\n",
            "Epoch [315], Loss: 0.5366779565811157\n",
            "Epoch [316], Loss: 0.5418900847434998\n",
            "Epoch [317], Loss: 0.5214210748672485\n",
            "Epoch [318], Loss: 0.6310137510299683\n",
            "Epoch [319], Loss: 0.5781669616699219\n",
            "Epoch [320], Loss: 0.6141766309738159\n",
            "Epoch [321], Loss: 0.4914504289627075\n",
            "Epoch [322], Loss: 0.550377368927002\n",
            "Epoch [323], Loss: 0.5207750797271729\n",
            "Epoch [324], Loss: 0.49007993936538696\n",
            "Epoch [325], Loss: 0.5732309222221375\n",
            "Epoch [326], Loss: 0.6213575005531311\n",
            "Epoch [327], Loss: 0.46967607736587524\n",
            "Epoch [328], Loss: 0.5057759284973145\n",
            "Epoch [329], Loss: 0.48634788393974304\n",
            "Epoch [330], Loss: 0.420357346534729\n",
            "Epoch [331], Loss: 0.4959023594856262\n",
            "Epoch [332], Loss: 0.5994453430175781\n",
            "Epoch [333], Loss: 0.553213894367218\n",
            "Epoch [334], Loss: 0.5348727107048035\n",
            "Epoch [335], Loss: 0.44117775559425354\n",
            "Epoch [336], Loss: 0.4977685213088989\n",
            "Epoch [337], Loss: 0.5497146844863892\n",
            "Epoch [338], Loss: 0.5860294103622437\n",
            "Epoch [339], Loss: 0.5383038520812988\n",
            "Epoch [340], Loss: 0.5153151154518127\n",
            "Epoch [341], Loss: 0.5737994313240051\n",
            "Epoch [342], Loss: 0.624640703201294\n",
            "Epoch [343], Loss: 0.5064675807952881\n",
            "Epoch [344], Loss: 0.5115846991539001\n",
            "Epoch [345], Loss: 0.5239635109901428\n",
            "Epoch [346], Loss: 0.5769376158714294\n",
            "Epoch [347], Loss: 0.5591007471084595\n",
            "Epoch [348], Loss: 0.5250122547149658\n",
            "Epoch [349], Loss: 0.5194815397262573\n",
            "Epoch [350], Loss: 0.5354923009872437\n",
            "Epoch [351], Loss: 0.5255963206291199\n",
            "Epoch [352], Loss: 0.5496768355369568\n",
            "Epoch [353], Loss: 0.5683048367500305\n",
            "Epoch [354], Loss: 0.5463793873786926\n",
            "Epoch [355], Loss: 0.6362434029579163\n",
            "Epoch [356], Loss: 0.5695068836212158\n",
            "Epoch [357], Loss: 0.4746730327606201\n",
            "Epoch [358], Loss: 0.6096282601356506\n",
            "Epoch [359], Loss: 0.5237364172935486\n",
            "Epoch [360], Loss: 0.6053047776222229\n",
            "Epoch [361], Loss: 0.5134671330451965\n",
            "Epoch [362], Loss: 0.4711424708366394\n",
            "Epoch [363], Loss: 0.5966304540634155\n",
            "Epoch [364], Loss: 0.5297783613204956\n",
            "Epoch [365], Loss: 0.5598426461219788\n",
            "Epoch [366], Loss: 0.5441352725028992\n",
            "Epoch [367], Loss: 0.5154472589492798\n",
            "Epoch [368], Loss: 0.47911617159843445\n",
            "Epoch [369], Loss: 0.5723532438278198\n",
            "Epoch [370], Loss: 0.48262670636177063\n",
            "Epoch [371], Loss: 0.44849303364753723\n",
            "Epoch [372], Loss: 0.554492712020874\n",
            "Epoch [373], Loss: 0.5574906468391418\n",
            "Epoch [374], Loss: 0.4955064654350281\n",
            "Epoch [375], Loss: 0.5501465797424316\n",
            "Epoch [376], Loss: 0.4588705897331238\n",
            "Epoch [377], Loss: 0.5369918942451477\n",
            "Epoch [378], Loss: 0.5150526762008667\n",
            "Epoch [379], Loss: 0.49131301045417786\n",
            "Epoch [380], Loss: 0.48564502596855164\n",
            "Epoch [381], Loss: 0.5555572509765625\n",
            "Epoch [382], Loss: 0.5398999452590942\n",
            "Epoch [383], Loss: 0.5343940258026123\n",
            "Epoch [384], Loss: 0.48740920424461365\n",
            "Epoch [385], Loss: 0.5271378755569458\n",
            "Epoch [386], Loss: 0.47993913292884827\n",
            "Epoch [387], Loss: 0.5400774478912354\n",
            "Epoch [388], Loss: 0.5115900635719299\n",
            "Epoch [389], Loss: 0.5443500280380249\n",
            "Epoch [390], Loss: 0.503108561038971\n",
            "Epoch [391], Loss: 0.447863906621933\n",
            "Epoch [392], Loss: 0.528881847858429\n",
            "Epoch [393], Loss: 0.5058503746986389\n",
            "Epoch [394], Loss: 0.49382299184799194\n",
            "Epoch [395], Loss: 0.5702488422393799\n",
            "Epoch [396], Loss: 0.5025427937507629\n",
            "Epoch [397], Loss: 0.5452086925506592\n",
            "Epoch [398], Loss: 0.6100134253501892\n",
            "Epoch [399], Loss: 0.5301937460899353\n",
            "Epoch [400], Loss: 0.5247063040733337\n",
            "Epoch [401], Loss: 0.5586643815040588\n",
            "Epoch [402], Loss: 0.5154063105583191\n",
            "Epoch [403], Loss: 0.5603326559066772\n",
            "Epoch [404], Loss: 0.45375511050224304\n",
            "Epoch [405], Loss: 0.5518527626991272\n",
            "Epoch [406], Loss: 0.5655784010887146\n",
            "Epoch [407], Loss: 0.5398362874984741\n",
            "Epoch [408], Loss: 0.5962243676185608\n",
            "Epoch [409], Loss: 0.5084182024002075\n",
            "Epoch [410], Loss: 0.5413816571235657\n",
            "Epoch [411], Loss: 0.539808452129364\n",
            "Epoch [412], Loss: 0.5454961657524109\n",
            "Epoch [413], Loss: 0.5267110466957092\n",
            "Epoch [414], Loss: 0.5987442135810852\n",
            "Epoch [415], Loss: 0.4883691966533661\n",
            "Epoch [416], Loss: 0.5153233408927917\n",
            "Epoch [417], Loss: 0.49652883410453796\n",
            "Epoch [418], Loss: 0.5032044053077698\n",
            "Epoch [419], Loss: 0.5181263089179993\n",
            "Epoch [420], Loss: 0.4695611596107483\n",
            "Epoch [421], Loss: 0.5253163576126099\n",
            "Epoch [422], Loss: 0.4994865953922272\n",
            "Epoch [423], Loss: 0.551325261592865\n",
            "Epoch [424], Loss: 0.5738321542739868\n",
            "Epoch [425], Loss: 0.6140817999839783\n",
            "Epoch [426], Loss: 0.5910494923591614\n",
            "Epoch [427], Loss: 0.4864690601825714\n",
            "Epoch [428], Loss: 0.5946980714797974\n",
            "Epoch [429], Loss: 0.5218772888183594\n",
            "Epoch [430], Loss: 0.6271489262580872\n",
            "Epoch [431], Loss: 0.5227559804916382\n",
            "Epoch [432], Loss: 0.5348407626152039\n",
            "Epoch [433], Loss: 0.5685327053070068\n",
            "Epoch [434], Loss: 0.5778862833976746\n",
            "Epoch [435], Loss: 0.5271259546279907\n",
            "Epoch [436], Loss: 0.5844550728797913\n",
            "Epoch [437], Loss: 0.5635401606559753\n",
            "Epoch [438], Loss: 0.5760409832000732\n",
            "Epoch [439], Loss: 0.629675030708313\n",
            "Epoch [440], Loss: 0.5618689060211182\n",
            "Epoch [441], Loss: 0.4451455771923065\n",
            "Epoch [442], Loss: 0.6337228417396545\n",
            "Epoch [443], Loss: 0.47790762782096863\n",
            "Epoch [444], Loss: 0.4545188546180725\n",
            "Epoch [445], Loss: 0.5008155703544617\n",
            "Epoch [446], Loss: 0.5061171054840088\n",
            "Epoch [447], Loss: 0.5620547533035278\n",
            "Epoch [448], Loss: 0.5133817195892334\n",
            "Epoch [449], Loss: 0.5144504904747009\n",
            "Epoch [450], Loss: 0.4962937533855438\n",
            "Epoch [451], Loss: 0.46081337332725525\n",
            "Epoch [452], Loss: 0.530765175819397\n",
            "Epoch [453], Loss: 0.49155059456825256\n",
            "Epoch [454], Loss: 0.543454647064209\n",
            "Epoch [455], Loss: 0.5222359895706177\n",
            "Epoch [456], Loss: 0.5013434290885925\n",
            "Epoch [457], Loss: 0.5232017636299133\n",
            "Epoch [458], Loss: 0.5556826591491699\n",
            "Epoch [459], Loss: 0.4674670398235321\n",
            "Epoch [460], Loss: 0.5434158444404602\n",
            "Epoch [461], Loss: 0.6120582818984985\n",
            "Epoch [462], Loss: 0.4740332067012787\n",
            "Epoch [463], Loss: 0.535951554775238\n",
            "Epoch [464], Loss: 0.5186256170272827\n",
            "Epoch [465], Loss: 0.3992873430252075\n",
            "Epoch [466], Loss: 0.5511419773101807\n",
            "Epoch [467], Loss: 0.4548296630382538\n",
            "Epoch [468], Loss: 0.5690785050392151\n",
            "Epoch [469], Loss: 0.5314600467681885\n",
            "Epoch [470], Loss: 0.5374923348426819\n",
            "Epoch [471], Loss: 0.5916932821273804\n",
            "Epoch [472], Loss: 0.564797580242157\n",
            "Epoch [473], Loss: 0.48186981678009033\n",
            "Epoch [474], Loss: 0.5013617277145386\n",
            "Epoch [475], Loss: 0.5794687867164612\n",
            "Epoch [476], Loss: 0.496940553188324\n",
            "Epoch [477], Loss: 0.5734387636184692\n",
            "Epoch [478], Loss: 0.5701193809509277\n",
            "Epoch [479], Loss: 0.540621817111969\n",
            "Epoch [480], Loss: 0.5056087374687195\n",
            "Epoch [481], Loss: 0.5415212512016296\n",
            "Epoch [482], Loss: 0.5149857997894287\n",
            "Epoch [483], Loss: 0.5174447298049927\n",
            "Epoch [484], Loss: 0.6227514743804932\n",
            "Epoch [485], Loss: 0.4856836199760437\n",
            "Epoch [486], Loss: 0.49412015080451965\n",
            "Epoch [487], Loss: 0.5682784914970398\n",
            "Epoch [488], Loss: 0.5702691078186035\n",
            "Epoch [489], Loss: 0.5609602332115173\n",
            "Epoch [490], Loss: 0.5260617733001709\n",
            "Epoch [491], Loss: 0.477593332529068\n",
            "Epoch [492], Loss: 0.49458059668540955\n",
            "Epoch [493], Loss: 0.5127893686294556\n",
            "Epoch [494], Loss: 0.46890729665756226\n",
            "Epoch [495], Loss: 0.5048876404762268\n",
            "Epoch [496], Loss: 0.5144555568695068\n",
            "Epoch [497], Loss: 0.5237429141998291\n",
            "Epoch [498], Loss: 0.4852161109447479\n",
            "Epoch [499], Loss: 0.5464559197425842\n",
            "Epoch [500], Loss: 0.5016210079193115\n"
          ]
        }
      ]
    },
    {
      "cell_type": "code",
      "source": [
        "plt.plot(np.arange(0,500),losses)"
      ],
      "metadata": {
        "colab": {
          "base_uri": "https://localhost:8080/",
          "height": 448
        },
        "id": "20bDm5Ngd3WZ",
        "outputId": "90e8aa27-7a8c-45b8-bfff-caa923bcd2d6"
      },
      "execution_count": 34,
      "outputs": [
        {
          "output_type": "execute_result",
          "data": {
            "text/plain": [
              "[<matplotlib.lines.Line2D at 0x7e7b946bb0d0>]"
            ]
          },
          "metadata": {},
          "execution_count": 34
        },
        {
          "output_type": "display_data",
          "data": {
            "text/plain": [
              "<Figure size 640x480 with 1 Axes>"
            ],
            "image/png": "[encoded data removed]"
          },
          "metadata": {}
        }
      ]
    },
    {
      "cell_type": "code",
      "source": [
        "model.eval()\n",
        "with torch.no_grad():\n",
        "    y_pred = model(X_train_t)\n",
        "    y_pred = (y_pred >= 0.5).float()\n",
        "    accuracy = (y_pred == y_train_t.view(-1, 1)).float().mean()\n",
        "    print(f'Accuracy on train set: {accuracy.item()}')\n",
        "print()\n",
        "print('TRAIN DATA')\n",
        "print('---------------------')\n",
        "print('accuracy:', accuracy_score(y_train,y_pred))\n",
        "print('precision:', precision_score(y_train,y_pred))\n",
        "print('recall:', recall_score(y_train,y_pred))\n",
        "print('f1:', f1_score(y_train,y_pred))"
      ],
      "metadata": {
        "colab": {
          "base_uri": "https://localhost:8080/"
        },
        "id": "lFMUEibmslNA",
        "outputId": "8a4e9838-4b68-4f1c-bde2-c866e38d286a"
      },
      "execution_count": 35,
      "outputs": [
        {
          "output_type": "stream",
          "name": "stdout",
          "text": [
            "Accuracy on train set: 0.7611202597618103\n",
            "\n",
            "TRAIN DATA\n",
            "---------------------\n",
            "accuracy: 0.7611202635914333\n",
            "precision: 0.8405405405405405\n",
            "recall: 0.783375314861461\n",
            "f1: 0.8109517601043024\n"
          ]
        }
      ]
    },
    {
      "cell_type": "code",
      "source": [
        "model.eval()\n",
        "with torch.no_grad():\n",
        "    y_pred = model(X_test_t)\n",
        "    y_pred = (y_pred >= 0.5).float()\n",
        "    accuracy = (y_pred == y_test_t.view(-1, 1)).float().mean()\n",
        "    print(f'Accuracy on test set: {accuracy.item()}')\n",
        "print()\n",
        "print('TEST')\n",
        "print('---------------------')\n",
        "print('accuracy:', accuracy_score(y_test,y_pred))\n",
        "print('precision:', precision_score(y_test,y_pred))\n",
        "print('recall:', recall_score(y_test,y_pred))\n",
        "print('f1:', f1_score(y_test,y_pred))"
      ],
      "metadata": {
        "colab": {
          "base_uri": "https://localhost:8080/"
        },
        "id": "Yi5KCB7zslNA",
        "outputId": "cdb65bb2-8843-44aa-923b-272791c1d728"
      },
      "execution_count": 36,
      "outputs": [
        {
          "output_type": "stream",
          "name": "stdout",
          "text": [
            "Accuracy on test set: 0.7697368264198303\n",
            "\n",
            "TEST\n",
            "---------------------\n",
            "accuracy: 0.7697368421052632\n",
            "precision: 0.826530612244898\n",
            "recall: 0.8181818181818182\n",
            "f1: 0.8223350253807107\n"
          ]
        }
      ]
    },
    {
      "cell_type": "markdown",
      "source": [
        "Model fails to converge which indicates that there might be optimizations that can be made."
      ],
      "metadata": {
        "id": "25IYRIxmdtfW"
      }
    },
    {
      "cell_type": "markdown",
      "source": [
        "## SLP with Xavier Initialization"
      ],
      "metadata": {
        "id": "lCJ56w17ezQi"
      }
    },
    {
      "cell_type": "code",
      "source": [
        "# https://stackoverflow.com/questions/49433936/how-do-i-initialize-weights-in-pytorch\n",
        "class SingleLayerNet(torch.nn.Module):\n",
        "    def __init__(self, input_size):\n",
        "        super(SingleLayerNet, self).__init__()\n",
        "        self.input_layer = torch.nn.Linear(input_size, 1)\n",
        "        torch.nn.init.xavier_uniform_(self.input_layer.weight,gain=1)\n",
        "\n",
        "    #Define how forward-pass\n",
        "    def forward(self, x):\n",
        "        y_pred = torch.tanh(self.input_layer(x))\n",
        "        return y_pred\n",
        "\n",
        "# create the model\n",
        "# 8 is the number of weights in the neural net\n",
        "model = SingleLayerNet(df.shape[1]-1)\n",
        "\n",
        "# Define the loss function (criterion)\n",
        "criterion = torch.nn.BCEWithLogitsLoss()\n",
        "\n",
        "# Create an optimizer (Adam)\n",
        "optimizer = torch.optim.Adam(model.parameters(), lr=5e-4)\n",
        "\n",
        "# Define the training loop\n",
        "epochs = 500\n",
        "losses = []\n",
        "for epoch in range(epochs):\n",
        "    for inputs, labels in train_loader:\n",
        "        optimizer.zero_grad()\n",
        "        outputs = model(inputs)\n",
        "        loss = criterion(outputs, labels.view(-1, 1))\n",
        "        loss.backward()\n",
        "        optimizer.step()\n",
        "    losses.append(loss.item())\n",
        "    print(f'Epoch [{epoch+1}], Loss: {loss.item()}')\n",
        "\n",
        "plt.plot(np.arange(0,epochs),losses)"
      ],
      "metadata": {
        "colab": {
          "base_uri": "https://localhost:8080/",
          "height": 1000
        },
        "id": "_cXyDQBceyxE",
        "outputId": "3ff383f1-58b8-4ee8-bbb9-31c733fbf041"
      },
      "execution_count": 37,
      "outputs": [
        {
          "output_type": "stream",
          "name": "stdout",
          "text": [
            "Epoch [1], Loss: 0.6550556421279907\n",
            "Epoch [2], Loss: 0.6500835418701172\n",
            "Epoch [3], Loss: 0.6778270602226257\n",
            "Epoch [4], Loss: 0.6476876735687256\n",
            "Epoch [5], Loss: 0.6618343591690063\n",
            "Epoch [6], Loss: 0.6364650130271912\n",
            "Epoch [7], Loss: 0.6390873193740845\n",
            "Epoch [8], Loss: 0.7174266576766968\n",
            "Epoch [9], Loss: 0.6380695700645447\n",
            "Epoch [10], Loss: 0.6087691783905029\n",
            "Epoch [11], Loss: 0.6901652216911316\n",
            "Epoch [12], Loss: 0.5798736214637756\n",
            "Epoch [13], Loss: 0.5782963633537292\n",
            "Epoch [14], Loss: 0.6250697374343872\n",
            "Epoch [15], Loss: 0.5938732028007507\n",
            "Epoch [16], Loss: 0.6478983759880066\n",
            "Epoch [17], Loss: 0.5964667797088623\n",
            "Epoch [18], Loss: 0.619221568107605\n",
            "Epoch [19], Loss: 0.6109639406204224\n",
            "Epoch [20], Loss: 0.6560348272323608\n",
            "Epoch [21], Loss: 0.5856719017028809\n",
            "Epoch [22], Loss: 0.6032587289810181\n",
            "Epoch [23], Loss: 0.5879141092300415\n",
            "Epoch [24], Loss: 0.6905999779701233\n",
            "Epoch [25], Loss: 0.5287784337997437\n",
            "Epoch [26], Loss: 0.6153689026832581\n",
            "Epoch [27], Loss: 0.6119183301925659\n",
            "Epoch [28], Loss: 0.6284542083740234\n",
            "Epoch [29], Loss: 0.5760210156440735\n",
            "Epoch [30], Loss: 0.6564458012580872\n",
            "Epoch [31], Loss: 0.6160905957221985\n",
            "Epoch [32], Loss: 0.6669912934303284\n",
            "Epoch [33], Loss: 0.6062516570091248\n",
            "Epoch [34], Loss: 0.6246874928474426\n",
            "Epoch [35], Loss: 0.5901524424552917\n",
            "Epoch [36], Loss: 0.6191466450691223\n",
            "Epoch [37], Loss: 0.5683383941650391\n",
            "Epoch [38], Loss: 0.5677472949028015\n",
            "Epoch [39], Loss: 0.5791271328926086\n",
            "Epoch [40], Loss: 0.6456809639930725\n",
            "Epoch [41], Loss: 0.5837529897689819\n",
            "Epoch [42], Loss: 0.5913550853729248\n",
            "Epoch [43], Loss: 0.6282037496566772\n",
            "Epoch [44], Loss: 0.6649778485298157\n",
            "Epoch [45], Loss: 0.6005706191062927\n",
            "Epoch [46], Loss: 0.5399295091629028\n",
            "Epoch [47], Loss: 0.6006938815116882\n",
            "Epoch [48], Loss: 0.6899958252906799\n",
            "Epoch [49], Loss: 0.6217818260192871\n",
            "Epoch [50], Loss: 0.5681626200675964\n",
            "Epoch [51], Loss: 0.6413175463676453\n",
            "Epoch [52], Loss: 0.5672873258590698\n",
            "Epoch [53], Loss: 0.7533353567123413\n",
            "Epoch [54], Loss: 0.5170576572418213\n",
            "Epoch [55], Loss: 0.4494394361972809\n",
            "Epoch [56], Loss: 0.5982140302658081\n",
            "Epoch [57], Loss: 0.5991372466087341\n",
            "Epoch [58], Loss: 0.6028228402137756\n",
            "Epoch [59], Loss: 0.5367884039878845\n",
            "Epoch [60], Loss: 0.5938631892204285\n",
            "Epoch [61], Loss: 0.5729362368583679\n",
            "Epoch [62], Loss: 0.6243038773536682\n",
            "Epoch [63], Loss: 0.5568826794624329\n",
            "Epoch [64], Loss: 0.5973260402679443\n",
            "Epoch [65], Loss: 0.5668397545814514\n",
            "Epoch [66], Loss: 0.5120648741722107\n",
            "Epoch [67], Loss: 0.5631377100944519\n",
            "Epoch [68], Loss: 0.6158735156059265\n",
            "Epoch [69], Loss: 0.5782790780067444\n",
            "Epoch [70], Loss: 0.5393567681312561\n",
            "Epoch [71], Loss: 0.625100314617157\n",
            "Epoch [72], Loss: 0.5496411323547363\n",
            "Epoch [73], Loss: 0.6579498052597046\n",
            "Epoch [74], Loss: 0.6399977207183838\n",
            "Epoch [75], Loss: 0.631388247013092\n",
            "Epoch [76], Loss: 0.5266677141189575\n",
            "Epoch [77], Loss: 0.5330753922462463\n",
            "Epoch [78], Loss: 0.671263575553894\n",
            "Epoch [79], Loss: 0.5284010767936707\n",
            "Epoch [80], Loss: 0.5820853114128113\n",
            "Epoch [81], Loss: 0.6024134755134583\n",
            "Epoch [82], Loss: 0.6025396585464478\n",
            "Epoch [83], Loss: 0.5901206135749817\n",
            "Epoch [84], Loss: 0.5182384252548218\n",
            "Epoch [85], Loss: 0.5417432188987732\n",
            "Epoch [86], Loss: 0.6705822348594666\n",
            "Epoch [87], Loss: 0.5253879427909851\n",
            "Epoch [88], Loss: 0.5332293510437012\n",
            "Epoch [89], Loss: 0.594889760017395\n",
            "Epoch [90], Loss: 0.5667380690574646\n",
            "Epoch [91], Loss: 0.6790112853050232\n",
            "Epoch [92], Loss: 0.5710044503211975\n",
            "Epoch [93], Loss: 0.5740945339202881\n",
            "Epoch [94], Loss: 0.5475394129753113\n",
            "Epoch [95], Loss: 0.583701491355896\n",
            "Epoch [96], Loss: 0.6058326959609985\n",
            "Epoch [97], Loss: 0.6289859414100647\n",
            "Epoch [98], Loss: 0.5424901843070984\n",
            "Epoch [99], Loss: 0.5907105803489685\n",
            "Epoch [100], Loss: 0.5953641533851624\n",
            "Epoch [101], Loss: 0.5935512185096741\n",
            "Epoch [102], Loss: 0.5495021343231201\n",
            "Epoch [103], Loss: 0.5829949378967285\n",
            "Epoch [104], Loss: 0.6284453272819519\n",
            "Epoch [105], Loss: 0.5582420825958252\n",
            "Epoch [106], Loss: 0.5138073563575745\n",
            "Epoch [107], Loss: 0.513853132724762\n",
            "Epoch [108], Loss: 0.6595115661621094\n",
            "Epoch [109], Loss: 0.5620586276054382\n",
            "Epoch [110], Loss: 0.5688233375549316\n",
            "Epoch [111], Loss: 0.5474833250045776\n",
            "Epoch [112], Loss: 0.5458580255508423\n",
            "Epoch [113], Loss: 0.6059831380844116\n",
            "Epoch [114], Loss: 0.5574563145637512\n",
            "Epoch [115], Loss: 0.5545861124992371\n",
            "Epoch [116], Loss: 0.5984469056129456\n",
            "Epoch [117], Loss: 0.5411648154258728\n",
            "Epoch [118], Loss: 0.6857648491859436\n",
            "Epoch [119], Loss: 0.5863966345787048\n",
            "Epoch [120], Loss: 0.574013352394104\n",
            "Epoch [121], Loss: 0.633272111415863\n",
            "Epoch [122], Loss: 0.6316123604774475\n",
            "Epoch [123], Loss: 0.6909959316253662\n",
            "Epoch [124], Loss: 0.5537962317466736\n",
            "Epoch [125], Loss: 0.5702030062675476\n",
            "Epoch [126], Loss: 0.5545129179954529\n",
            "Epoch [127], Loss: 0.5534780025482178\n",
            "Epoch [128], Loss: 0.5905524492263794\n",
            "Epoch [129], Loss: 0.540632963180542\n",
            "Epoch [130], Loss: 0.541199266910553\n",
            "Epoch [131], Loss: 0.5486354827880859\n",
            "Epoch [132], Loss: 0.5117060542106628\n",
            "Epoch [133], Loss: 0.5943869352340698\n",
            "Epoch [134], Loss: 0.5161871314048767\n",
            "Epoch [135], Loss: 0.589952826499939\n",
            "Epoch [136], Loss: 0.5501980781555176\n",
            "Epoch [137], Loss: 0.6690890192985535\n",
            "Epoch [138], Loss: 0.5146037340164185\n",
            "Epoch [139], Loss: 0.635683000087738\n",
            "Epoch [140], Loss: 0.5909249782562256\n",
            "Epoch [141], Loss: 0.5882552266120911\n",
            "Epoch [142], Loss: 0.5772498846054077\n",
            "Epoch [143], Loss: 0.5570118427276611\n",
            "Epoch [144], Loss: 0.5651670694351196\n",
            "Epoch [145], Loss: 0.5120537877082825\n",
            "Epoch [146], Loss: 0.5397226810455322\n",
            "Epoch [147], Loss: 0.5773184299468994\n",
            "Epoch [148], Loss: 0.5403195023536682\n",
            "Epoch [149], Loss: 0.6314787864685059\n",
            "Epoch [150], Loss: 0.582878589630127\n",
            "Epoch [151], Loss: 0.6540893316268921\n",
            "Epoch [152], Loss: 0.5641400218009949\n",
            "Epoch [153], Loss: 0.6094329357147217\n",
            "Epoch [154], Loss: 0.5753687620162964\n",
            "Epoch [155], Loss: 0.5239832401275635\n",
            "Epoch [156], Loss: 0.5880647301673889\n",
            "Epoch [157], Loss: 0.5405344367027283\n",
            "Epoch [158], Loss: 0.5754961967468262\n",
            "Epoch [159], Loss: 0.5484520196914673\n",
            "Epoch [160], Loss: 0.5492618680000305\n",
            "Epoch [161], Loss: 0.6144145131111145\n",
            "Epoch [162], Loss: 0.5305874943733215\n",
            "Epoch [163], Loss: 0.5563915967941284\n",
            "Epoch [164], Loss: 0.43961459398269653\n",
            "Epoch [165], Loss: 0.572541356086731\n",
            "Epoch [166], Loss: 0.5680786371231079\n",
            "Epoch [167], Loss: 0.5429276823997498\n",
            "Epoch [168], Loss: 0.582557737827301\n",
            "Epoch [169], Loss: 0.5901702046394348\n",
            "Epoch [170], Loss: 0.5056952238082886\n",
            "Epoch [171], Loss: 0.5132852792739868\n",
            "Epoch [172], Loss: 0.5560706257820129\n",
            "Epoch [173], Loss: 0.5919688940048218\n",
            "Epoch [174], Loss: 0.5958598852157593\n",
            "Epoch [175], Loss: 0.5696960091590881\n",
            "Epoch [176], Loss: 0.5491669774055481\n",
            "Epoch [177], Loss: 0.5610929727554321\n",
            "Epoch [178], Loss: 0.5137220621109009\n",
            "Epoch [179], Loss: 0.565019428730011\n",
            "Epoch [180], Loss: 0.5619966983795166\n",
            "Epoch [181], Loss: 0.5406908988952637\n",
            "Epoch [182], Loss: 0.4956481456756592\n",
            "Epoch [183], Loss: 0.5252058506011963\n",
            "Epoch [184], Loss: 0.6472748517990112\n",
            "Epoch [185], Loss: 0.5883491635322571\n",
            "Epoch [186], Loss: 0.5095890760421753\n",
            "Epoch [187], Loss: 0.5490798354148865\n",
            "Epoch [188], Loss: 0.5860305428504944\n",
            "Epoch [189], Loss: 0.5430701971054077\n",
            "Epoch [190], Loss: 0.5005622506141663\n",
            "Epoch [191], Loss: 0.5184705853462219\n",
            "Epoch [192], Loss: 0.5427027940750122\n",
            "Epoch [193], Loss: 0.4983752965927124\n",
            "Epoch [194], Loss: 0.569152295589447\n",
            "Epoch [195], Loss: 0.5932170748710632\n",
            "Epoch [196], Loss: 0.5657124519348145\n",
            "Epoch [197], Loss: 0.5221123695373535\n",
            "Epoch [198], Loss: 0.4889220595359802\n",
            "Epoch [199], Loss: 0.5990109443664551\n",
            "Epoch [200], Loss: 0.5431176424026489\n",
            "Epoch [201], Loss: 0.4921552836894989\n",
            "Epoch [202], Loss: 0.5607444643974304\n",
            "Epoch [203], Loss: 0.5570029020309448\n",
            "Epoch [204], Loss: 0.4922218918800354\n",
            "Epoch [205], Loss: 0.5111547112464905\n",
            "Epoch [206], Loss: 0.604221761226654\n",
            "Epoch [207], Loss: 0.5959853529930115\n",
            "Epoch [208], Loss: 0.5401413440704346\n",
            "Epoch [209], Loss: 0.5723138451576233\n",
            "Epoch [210], Loss: 0.4805598855018616\n",
            "Epoch [211], Loss: 0.5764126777648926\n",
            "Epoch [212], Loss: 0.5118966102600098\n",
            "Epoch [213], Loss: 0.5872358083724976\n",
            "Epoch [214], Loss: 0.5779101252555847\n",
            "Epoch [215], Loss: 0.5981677174568176\n",
            "Epoch [216], Loss: 0.4986645579338074\n",
            "Epoch [217], Loss: 0.5643520951271057\n",
            "Epoch [218], Loss: 0.5082276463508606\n",
            "Epoch [219], Loss: 0.5605547428131104\n",
            "Epoch [220], Loss: 0.5611528754234314\n",
            "Epoch [221], Loss: 0.5251065492630005\n",
            "Epoch [222], Loss: 0.5549222826957703\n",
            "Epoch [223], Loss: 0.6127288341522217\n",
            "Epoch [224], Loss: 0.5398516654968262\n",
            "Epoch [225], Loss: 0.4647535979747772\n",
            "Epoch [226], Loss: 0.5685310959815979\n",
            "Epoch [227], Loss: 0.5307066440582275\n",
            "Epoch [228], Loss: 0.49564018845558167\n",
            "Epoch [229], Loss: 0.5909764766693115\n",
            "Epoch [230], Loss: 0.5600859522819519\n",
            "Epoch [231], Loss: 0.7064369320869446\n",
            "Epoch [232], Loss: 0.5745624303817749\n",
            "Epoch [233], Loss: 0.5216009020805359\n",
            "Epoch [234], Loss: 0.48446640372276306\n",
            "Epoch [235], Loss: 0.5668180584907532\n",
            "Epoch [236], Loss: 0.6036103367805481\n",
            "Epoch [237], Loss: 0.4860247075557709\n",
            "Epoch [238], Loss: 0.5315041542053223\n",
            "Epoch [239], Loss: 0.5752347707748413\n",
            "Epoch [240], Loss: 0.5220527648925781\n",
            "Epoch [241], Loss: 0.588464081287384\n",
            "Epoch [242], Loss: 0.507138729095459\n",
            "Epoch [243], Loss: 0.5000694990158081\n",
            "Epoch [244], Loss: 0.5888029336929321\n",
            "Epoch [245], Loss: 0.5157913565635681\n",
            "Epoch [246], Loss: 0.4993252456188202\n",
            "Epoch [247], Loss: 0.5697956681251526\n",
            "Epoch [248], Loss: 0.5383071303367615\n",
            "Epoch [249], Loss: 0.5617819428443909\n",
            "Epoch [250], Loss: 0.596198558807373\n",
            "Epoch [251], Loss: 0.6012154817581177\n",
            "Epoch [252], Loss: 0.5206152200698853\n",
            "Epoch [253], Loss: 0.6139415502548218\n",
            "Epoch [254], Loss: 0.5194212198257446\n",
            "Epoch [255], Loss: 0.531857430934906\n",
            "Epoch [256], Loss: 0.5646277070045471\n",
            "Epoch [257], Loss: 0.5459747910499573\n",
            "Epoch [258], Loss: 0.5435712933540344\n",
            "Epoch [259], Loss: 0.5240573287010193\n",
            "Epoch [260], Loss: 0.473563551902771\n",
            "Epoch [261], Loss: 0.45794108510017395\n",
            "Epoch [262], Loss: 0.6009772419929504\n",
            "Epoch [263], Loss: 0.5471010804176331\n",
            "Epoch [264], Loss: 0.46711841225624084\n",
            "Epoch [265], Loss: 0.5541074872016907\n",
            "Epoch [266], Loss: 0.554719090461731\n",
            "Epoch [267], Loss: 0.5286999344825745\n",
            "Epoch [268], Loss: 0.6237049102783203\n",
            "Epoch [269], Loss: 0.5283752679824829\n",
            "Epoch [270], Loss: 0.5802022814750671\n",
            "Epoch [271], Loss: 0.6537331938743591\n",
            "Epoch [272], Loss: 0.4993867874145508\n",
            "Epoch [273], Loss: 0.4648427367210388\n",
            "Epoch [274], Loss: 0.6011825203895569\n",
            "Epoch [275], Loss: 0.5679169297218323\n",
            "Epoch [276], Loss: 0.5492858290672302\n",
            "Epoch [277], Loss: 0.5148970484733582\n",
            "Epoch [278], Loss: 0.6548694372177124\n",
            "Epoch [279], Loss: 0.5202652215957642\n",
            "Epoch [280], Loss: 0.5820212364196777\n",
            "Epoch [281], Loss: 0.5493680834770203\n",
            "Epoch [282], Loss: 0.5093178153038025\n",
            "Epoch [283], Loss: 0.5669241547584534\n",
            "Epoch [284], Loss: 0.5092955827713013\n",
            "Epoch [285], Loss: 0.4429217278957367\n",
            "Epoch [286], Loss: 0.525117039680481\n",
            "Epoch [287], Loss: 0.485213041305542\n",
            "Epoch [288], Loss: 0.5277573466300964\n",
            "Epoch [289], Loss: 0.4469378590583801\n",
            "Epoch [290], Loss: 0.536505937576294\n",
            "Epoch [291], Loss: 0.5523124933242798\n",
            "Epoch [292], Loss: 0.4855729043483734\n",
            "Epoch [293], Loss: 0.5120482444763184\n",
            "Epoch [294], Loss: 0.5910268425941467\n",
            "Epoch [295], Loss: 0.48116305470466614\n",
            "Epoch [296], Loss: 0.535618007183075\n",
            "Epoch [297], Loss: 0.5473428964614868\n",
            "Epoch [298], Loss: 0.5358155369758606\n",
            "Epoch [299], Loss: 0.48598891496658325\n",
            "Epoch [300], Loss: 0.6246070265769958\n",
            "Epoch [301], Loss: 0.5540023446083069\n",
            "Epoch [302], Loss: 0.5551018118858337\n",
            "Epoch [303], Loss: 0.5470000505447388\n",
            "Epoch [304], Loss: 0.5868154764175415\n",
            "Epoch [305], Loss: 0.4860665798187256\n",
            "Epoch [306], Loss: 0.5550291538238525\n",
            "Epoch [307], Loss: 0.5736329555511475\n",
            "Epoch [308], Loss: 0.5493113398551941\n",
            "Epoch [309], Loss: 0.6082632541656494\n",
            "Epoch [310], Loss: 0.5894571542739868\n",
            "Epoch [311], Loss: 0.6307711005210876\n",
            "Epoch [312], Loss: 0.5633288025856018\n",
            "Epoch [313], Loss: 0.5454259514808655\n",
            "Epoch [314], Loss: 0.46015945076942444\n",
            "Epoch [315], Loss: 0.5595704317092896\n",
            "Epoch [316], Loss: 0.5558648109436035\n",
            "Epoch [317], Loss: 0.5188502073287964\n",
            "Epoch [318], Loss: 0.5354853272438049\n",
            "Epoch [319], Loss: 0.589331328868866\n",
            "Epoch [320], Loss: 0.5377784371376038\n",
            "Epoch [321], Loss: 0.5043724775314331\n",
            "Epoch [322], Loss: 0.5006117224693298\n",
            "Epoch [323], Loss: 0.5126697421073914\n",
            "Epoch [324], Loss: 0.5678018927574158\n",
            "Epoch [325], Loss: 0.5719401240348816\n",
            "Epoch [326], Loss: 0.5479682087898254\n",
            "Epoch [327], Loss: 0.5594049096107483\n",
            "Epoch [328], Loss: 0.5774612426757812\n",
            "Epoch [329], Loss: 0.5188955664634705\n",
            "Epoch [330], Loss: 0.6036482453346252\n",
            "Epoch [331], Loss: 0.5155142545700073\n",
            "Epoch [332], Loss: 0.6277433037757874\n",
            "Epoch [333], Loss: 0.561225175857544\n",
            "Epoch [334], Loss: 0.5422477722167969\n",
            "Epoch [335], Loss: 0.5579463243484497\n",
            "Epoch [336], Loss: 0.5977134704589844\n",
            "Epoch [337], Loss: 0.47742289304733276\n",
            "Epoch [338], Loss: 0.4376058280467987\n",
            "Epoch [339], Loss: 0.5779845714569092\n",
            "Epoch [340], Loss: 0.6217741966247559\n",
            "Epoch [341], Loss: 0.590781569480896\n",
            "Epoch [342], Loss: 0.533486008644104\n",
            "Epoch [343], Loss: 0.6334888935089111\n",
            "Epoch [344], Loss: 0.5342271327972412\n",
            "Epoch [345], Loss: 0.5210208892822266\n",
            "Epoch [346], Loss: 0.5426363945007324\n",
            "Epoch [347], Loss: 0.5683655738830566\n",
            "Epoch [348], Loss: 0.47627124190330505\n",
            "Epoch [349], Loss: 0.5414471626281738\n",
            "Epoch [350], Loss: 0.49222496151924133\n",
            "Epoch [351], Loss: 0.5632567405700684\n",
            "Epoch [352], Loss: 0.5671899914741516\n",
            "Epoch [353], Loss: 0.556241512298584\n",
            "Epoch [354], Loss: 0.48835626244544983\n",
            "Epoch [355], Loss: 0.4512709081172943\n",
            "Epoch [356], Loss: 0.5372522473335266\n",
            "Epoch [357], Loss: 0.49950340390205383\n",
            "Epoch [358], Loss: 0.6016513109207153\n",
            "Epoch [359], Loss: 0.5460337400436401\n",
            "Epoch [360], Loss: 0.5301481485366821\n",
            "Epoch [361], Loss: 0.6124322414398193\n",
            "Epoch [362], Loss: 0.44899091124534607\n",
            "Epoch [363], Loss: 0.5520449280738831\n",
            "Epoch [364], Loss: 0.5215687155723572\n",
            "Epoch [365], Loss: 0.603665828704834\n",
            "Epoch [366], Loss: 0.47784072160720825\n",
            "Epoch [367], Loss: 0.6233240962028503\n",
            "Epoch [368], Loss: 0.5358943343162537\n",
            "Epoch [369], Loss: 0.4647066295146942\n",
            "Epoch [370], Loss: 0.5001422166824341\n",
            "Epoch [371], Loss: 0.5271175503730774\n",
            "Epoch [372], Loss: 0.4442574083805084\n",
            "Epoch [373], Loss: 0.587273120880127\n",
            "Epoch [374], Loss: 0.47437629103660583\n",
            "Epoch [375], Loss: 0.5291856527328491\n",
            "Epoch [376], Loss: 0.5322316288948059\n",
            "Epoch [377], Loss: 0.5556970834732056\n",
            "Epoch [378], Loss: 0.45298805832862854\n",
            "Epoch [379], Loss: 0.509244978427887\n",
            "Epoch [380], Loss: 0.5028250813484192\n",
            "Epoch [381], Loss: 0.617653489112854\n",
            "Epoch [382], Loss: 0.6089172959327698\n",
            "Epoch [383], Loss: 0.46529558300971985\n",
            "Epoch [384], Loss: 0.6352894902229309\n",
            "Epoch [385], Loss: 0.5871822237968445\n",
            "Epoch [386], Loss: 0.5353969931602478\n",
            "Epoch [387], Loss: 0.563766598701477\n",
            "Epoch [388], Loss: 0.4828173816204071\n",
            "Epoch [389], Loss: 0.5660948157310486\n",
            "Epoch [390], Loss: 0.5176053047180176\n",
            "Epoch [391], Loss: 0.5130767822265625\n",
            "Epoch [392], Loss: 0.5743353366851807\n",
            "Epoch [393], Loss: 0.4945768713951111\n",
            "Epoch [394], Loss: 0.5688991546630859\n",
            "Epoch [395], Loss: 0.5790736079216003\n",
            "Epoch [396], Loss: 0.5669296383857727\n",
            "Epoch [397], Loss: 0.5761365294456482\n",
            "Epoch [398], Loss: 0.5715776085853577\n",
            "Epoch [399], Loss: 0.5360838174819946\n",
            "Epoch [400], Loss: 0.5567177534103394\n",
            "Epoch [401], Loss: 0.49192938208580017\n",
            "Epoch [402], Loss: 0.5362555384635925\n",
            "Epoch [403], Loss: 0.4805945158004761\n",
            "Epoch [404], Loss: 0.4981488883495331\n",
            "Epoch [405], Loss: 0.5286433100700378\n",
            "Epoch [406], Loss: 0.5656510591506958\n",
            "Epoch [407], Loss: 0.5194769501686096\n",
            "Epoch [408], Loss: 0.591513454914093\n",
            "Epoch [409], Loss: 0.597764790058136\n",
            "Epoch [410], Loss: 0.5784186720848083\n",
            "Epoch [411], Loss: 0.4501478672027588\n",
            "Epoch [412], Loss: 0.49491938948631287\n",
            "Epoch [413], Loss: 0.5083039402961731\n",
            "Epoch [414], Loss: 0.5280512571334839\n",
            "Epoch [415], Loss: 0.5430311560630798\n",
            "Epoch [416], Loss: 0.4467161297798157\n",
            "Epoch [417], Loss: 0.5454478859901428\n",
            "Epoch [418], Loss: 0.44565922021865845\n",
            "Epoch [419], Loss: 0.5399276614189148\n",
            "Epoch [420], Loss: 0.45028960704803467\n",
            "Epoch [421], Loss: 0.5540727972984314\n",
            "Epoch [422], Loss: 0.4961947798728943\n",
            "Epoch [423], Loss: 0.5777963399887085\n",
            "Epoch [424], Loss: 0.5807527303695679\n",
            "Epoch [425], Loss: 0.5624712705612183\n",
            "Epoch [426], Loss: 0.5049154758453369\n",
            "Epoch [427], Loss: 0.508976936340332\n",
            "Epoch [428], Loss: 0.5422859191894531\n",
            "Epoch [429], Loss: 0.4569944441318512\n",
            "Epoch [430], Loss: 0.5128244757652283\n",
            "Epoch [431], Loss: 0.5163633823394775\n",
            "Epoch [432], Loss: 0.5843300223350525\n",
            "Epoch [433], Loss: 0.5116918087005615\n",
            "Epoch [434], Loss: 0.5827574133872986\n",
            "Epoch [435], Loss: 0.5435407757759094\n",
            "Epoch [436], Loss: 0.6052592992782593\n",
            "Epoch [437], Loss: 0.6317040920257568\n",
            "Epoch [438], Loss: 0.5828912854194641\n",
            "Epoch [439], Loss: 0.5314514636993408\n",
            "Epoch [440], Loss: 0.5984779596328735\n",
            "Epoch [441], Loss: 0.566356360912323\n",
            "Epoch [442], Loss: 0.5405758023262024\n",
            "Epoch [443], Loss: 0.5844252705574036\n",
            "Epoch [444], Loss: 0.5886552929878235\n",
            "Epoch [445], Loss: 0.5370156168937683\n",
            "Epoch [446], Loss: 0.542472243309021\n",
            "Epoch [447], Loss: 0.5621358752250671\n",
            "Epoch [448], Loss: 0.5813410878181458\n",
            "Epoch [449], Loss: 0.5489469766616821\n",
            "Epoch [450], Loss: 0.5784063935279846\n",
            "Epoch [451], Loss: 0.570898711681366\n",
            "Epoch [452], Loss: 0.6958156228065491\n",
            "Epoch [453], Loss: 0.5430835485458374\n",
            "Epoch [454], Loss: 0.4769248366355896\n",
            "Epoch [455], Loss: 0.48510974645614624\n",
            "Epoch [456], Loss: 0.5753276348114014\n",
            "Epoch [457], Loss: 0.4723598062992096\n",
            "Epoch [458], Loss: 0.5482106804847717\n",
            "Epoch [459], Loss: 0.563889741897583\n",
            "Epoch [460], Loss: 0.53195720911026\n",
            "Epoch [461], Loss: 0.4485660195350647\n",
            "Epoch [462], Loss: 0.4977586269378662\n",
            "Epoch [463], Loss: 0.5630757808685303\n",
            "Epoch [464], Loss: 0.5449866056442261\n",
            "Epoch [465], Loss: 0.5113006234169006\n",
            "Epoch [466], Loss: 0.4138355851173401\n",
            "Epoch [467], Loss: 0.6185557842254639\n",
            "Epoch [468], Loss: 0.5282843708992004\n",
            "Epoch [469], Loss: 0.5209006071090698\n",
            "Epoch [470], Loss: 0.4751298427581787\n",
            "Epoch [471], Loss: 0.5977065563201904\n",
            "Epoch [472], Loss: 0.4954572916030884\n",
            "Epoch [473], Loss: 0.4996994733810425\n",
            "Epoch [474], Loss: 0.4882594645023346\n",
            "Epoch [475], Loss: 0.46046194434165955\n",
            "Epoch [476], Loss: 0.5748112797737122\n",
            "Epoch [477], Loss: 0.5683421492576599\n",
            "Epoch [478], Loss: 0.5864903330802917\n",
            "Epoch [479], Loss: 0.4732033908367157\n",
            "Epoch [480], Loss: 0.4058223068714142\n",
            "Epoch [481], Loss: 0.49274638295173645\n",
            "Epoch [482], Loss: 0.49264174699783325\n",
            "Epoch [483], Loss: 0.6408460736274719\n",
            "Epoch [484], Loss: 0.4926410913467407\n",
            "Epoch [485], Loss: 0.48354586958885193\n",
            "Epoch [486], Loss: 0.4314001798629761\n",
            "Epoch [487], Loss: 0.47480902075767517\n",
            "Epoch [488], Loss: 0.5493775606155396\n",
            "Epoch [489], Loss: 0.485434889793396\n",
            "Epoch [490], Loss: 0.5523892641067505\n",
            "Epoch [491], Loss: 0.561795711517334\n",
            "Epoch [492], Loss: 0.4588393568992615\n",
            "Epoch [493], Loss: 0.4526280164718628\n",
            "Epoch [494], Loss: 0.541275143623352\n",
            "Epoch [495], Loss: 0.5376362204551697\n",
            "Epoch [496], Loss: 0.5123066306114197\n",
            "Epoch [497], Loss: 0.4910646975040436\n",
            "Epoch [498], Loss: 0.48867538571357727\n",
            "Epoch [499], Loss: 0.557430624961853\n",
            "Epoch [500], Loss: 0.559101939201355\n"
          ]
        },
        {
          "output_type": "execute_result",
          "data": {
            "text/plain": [
              "[<matplotlib.lines.Line2D at 0x7e7b9474b280>]"
            ]
          },
          "metadata": {},
          "execution_count": 37
        },
        {
          "output_type": "display_data",
          "data": {
            "text/plain": [
              "<Figure size 640x480 with 1 Axes>"
            ],
            "image/png": "[encoded data removed]"
          },
          "metadata": {}
        }
      ]
    },
    {
      "cell_type": "code",
      "source": [
        "model.eval()\n",
        "with torch.no_grad():\n",
        "    y_pred = model(X_train_t)\n",
        "    y_pred = (y_pred >= 0.5).float()\n",
        "    accuracy = (y_pred == y_train_t.view(-1, 1)).float().mean()\n",
        "    print(f'Accuracy on train set: {accuracy.item()}')\n",
        "print()\n",
        "print('TRAIN DATA')\n",
        "print('---------------------')\n",
        "print('accuracy:', accuracy_score(y_train,y_pred))\n",
        "print('precision:', precision_score(y_train,y_pred))\n",
        "print('recall:', recall_score(y_train,y_pred))\n",
        "print('f1:', f1_score(y_train,y_pred))"
      ],
      "metadata": {
        "colab": {
          "base_uri": "https://localhost:8080/"
        },
        "id": "rw3u-tDScgRU",
        "outputId": "577e5a9e-003a-413d-f03c-d93c6f12932e"
      },
      "execution_count": 38,
      "outputs": [
        {
          "output_type": "stream",
          "name": "stdout",
          "text": [
            "Accuracy on train set: 0.7611202597618103\n",
            "\n",
            "TRAIN DATA\n",
            "---------------------\n",
            "accuracy: 0.7611202635914333\n",
            "precision: 0.8405405405405405\n",
            "recall: 0.783375314861461\n",
            "f1: 0.8109517601043024\n"
          ]
        }
      ]
    },
    {
      "cell_type": "code",
      "source": [
        "model.eval()\n",
        "with torch.no_grad():\n",
        "    y_pred = model(X_test_t)\n",
        "    y_pred = (y_pred >= 0.5).float()\n",
        "    accuracy = (y_pred == y_test_t.view(-1, 1)).float().mean()\n",
        "    print(f'Accuracy on test set: {accuracy.item()}')\n",
        "print()\n",
        "print('TEST')\n",
        "print('---------------------')\n",
        "print('accuracy:', accuracy_score(y_test,y_pred))\n",
        "print('precision:', precision_score(y_test,y_pred))\n",
        "print('recall:', recall_score(y_test,y_pred))\n",
        "print('f1:', f1_score(y_test,y_pred))"
      ],
      "metadata": {
        "colab": {
          "base_uri": "https://localhost:8080/"
        },
        "id": "_PLyxv-9IyQP",
        "outputId": "b9b3eb2a-5685-4ad4-8208-0df17d463e65"
      },
      "execution_count": 39,
      "outputs": [
        {
          "output_type": "stream",
          "name": "stdout",
          "text": [
            "Accuracy on test set: 0.7763158082962036\n",
            "\n",
            "TEST\n",
            "---------------------\n",
            "accuracy: 0.7763157894736842\n",
            "precision: 0.8282828282828283\n",
            "recall: 0.8282828282828283\n",
            "f1: 0.8282828282828283\n"
          ]
        }
      ]
    },
    {
      "cell_type": "markdown",
      "source": [
        "Our single layer perceptron has a test accuracy of 77.63%\n",
        "\n"
      ],
      "metadata": {
        "id": "9stzVWFg5JJ1"
      }
    },
    {
      "cell_type": "markdown",
      "source": [
        "## Confusion Matrix to Evaluate Model"
      ],
      "metadata": {
        "id": "LAYc4CUBrog2"
      }
    },
    {
      "cell_type": "code",
      "source": [
        "from sklearn.metrics import confusion_matrix\n",
        "import matplotlib.pyplot as plt\n",
        "import seaborn as sns\n",
        "\n",
        "conf_matrix = confusion_matrix(y_test, y_pred)\n",
        "\n",
        "plt.figure(figsize=(8, 6))\n",
        "sns.heatmap(conf_matrix, annot=True, fmt=\"d\", cmap=\"Blues\", cbar=False)\n",
        "plt.xlabel('Predicted')\n",
        "plt.ylabel('True')\n",
        "plt.title('Confusion Matrix')\n",
        "plt.show()"
      ],
      "metadata": {
        "colab": {
          "base_uri": "https://localhost:8080/",
          "height": 564
        },
        "id": "toUnBwgoq7gG",
        "outputId": "28180216-00d1-4ae9-f622-052405801738"
      },
      "execution_count": 44,
      "outputs": [
        {
          "output_type": "display_data",
          "data": {
            "text/plain": [
              "<Figure size 800x600 with 1 Axes>"
            ],
            "image/png": "[encoded data removed]"
          },
          "metadata": {}
        }
      ]
    }
  ],
  "metadata": {
    "colab": {
      "provenance": [],
      "gpuType": "T4",
      "mount_file_id": "1EwpVd5DcYxiMsSCJ73h2NmTJqBaDFhXs",
      "authorship_tag": "ABX9TyPDIU0pxAfDQrSC4fXMFsIz",
      "include_colab_link": true
    },
    "kernelspec": {
      "display_name": "Python 3",
      "name": "python3"
    },
    "language_info": {
      "name": "python"
    },
    "accelerator": "GPU"
  },
  "nbformat": 4,
  "nbformat_minor": 0
}
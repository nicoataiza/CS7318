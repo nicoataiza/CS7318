{
  "cells": [
    {
      "cell_type": "markdown",
      "metadata": {
        "id": "view-in-github",
        "colab_type": "text"
      },
      "source": [
        "<a href=\"https://colab.research.google.com/github/nicoataiza/CS7318/blob/main/Assignment_1.ipynb\" target=\"_parent\"><img src=\"https://colab.research.google.com/assets/colab-badge.svg\" alt=\"Open In Colab\"/></a>"
      ]
    },
    {
      "cell_type": "code",
      "execution_count": 1,
      "metadata": {
        "colab": {
          "base_uri": "https://localhost:8080/"
        },
        "id": "kEpoRIKhMtPZ",
        "outputId": "3194c1bc-2606-4afb-b677-fdb0f2cd09ea"
      },
      "outputs": [
        {
          "output_type": "stream",
          "name": "stdout",
          "text": [
            "Drive already mounted at /content/drive; to attempt to forcibly remount, call drive.mount(\"/content/drive\", force_remount=True).\n"
          ]
        }
      ],
      "source": [
        "from google.colab import drive\n",
        "drive.mount('/content/drive')"
      ]
    },
    {
      "cell_type": "code",
      "execution_count": 2,
      "metadata": {
        "id": "1qZFN_usNLhs"
      },
      "outputs": [],
      "source": [
        "# !pip3 install --upgrade pandas"
      ]
    },
    {
      "cell_type": "code",
      "execution_count": 3,
      "metadata": {
        "id": "-4zrRFr6MGVT"
      },
      "outputs": [],
      "source": [
        "import pandas as pd\n",
        "import matplotlib.pyplot as plt\n",
        "import seaborn as sns"
      ]
    },
    {
      "cell_type": "code",
      "execution_count": 4,
      "metadata": {
        "id": "tpHG2tlQM5Xs"
      },
      "outputs": [],
      "source": [
        "col_names = ['Target','Pregnancies','Glucose','BloodPressure','SkinThickness','Insulin','BMI','DiabetesPedigree','Age']\n",
        "df = pd.read_csv(r'/content/drive/MyDrive/Uni of Adelaide/CS7318/Assignment 1/indian_diabetes_scaled.csv',header=None,names=col_names,index_col=False)"
      ]
    },
    {
      "cell_type": "code",
      "execution_count": 5,
      "metadata": {
        "colab": {
          "base_uri": "https://localhost:8080/"
        },
        "id": "7K97hYBcPjfe",
        "outputId": "35c9a12e-5c69-4abf-9698-49e2d5edbb1c"
      },
      "outputs": [
        {
          "output_type": "execute_result",
          "data": {
            "text/plain": [
              "Index(['Target', 'Pregnancies', 'Glucose', 'BloodPressure', 'SkinThickness',\n",
              "       'Insulin', 'BMI', 'DiabetesPedigree', 'Age'],\n",
              "      dtype='object')"
            ]
          },
          "metadata": {},
          "execution_count": 5
        }
      ],
      "source": [
        "df.columns"
      ]
    },
    {
      "cell_type": "code",
      "source": [
        "for col in df.columns[1:]:\n",
        "  df[col] = df[col].apply(lambda x: float(x[2:]) if type(x) == str else float('NaN'))"
      ],
      "metadata": {
        "id": "RceMp2Tkz5WR"
      },
      "execution_count": 6,
      "outputs": []
    },
    {
      "cell_type": "code",
      "source": [
        "# Change the values: replace the value of no diabetes to 0 instead of -1.\n",
        "df['Target'] = df['Target'].replace(-1,0)"
      ],
      "metadata": {
        "id": "KsMpFB_P1STz"
      },
      "execution_count": 7,
      "outputs": []
    },
    {
      "cell_type": "code",
      "source": [
        "df.head()"
      ],
      "metadata": {
        "colab": {
          "base_uri": "https://localhost:8080/",
          "height": 206
        },
        "id": "anjtGiCvFP-N",
        "outputId": "eca239a1-46c7-4ac4-ac49-5304de1d754d"
      },
      "execution_count": 8,
      "outputs": [
        {
          "output_type": "execute_result",
          "data": {
            "text/plain": [
              "   Target  Pregnancies   Glucose  BloodPressure  SkinThickness   Insulin  \\\n",
              "0       0    -0.294118  0.487437       0.180328      -0.292929 -1.000000   \n",
              "1       1    -0.882353 -0.145729       0.081967      -0.414141 -1.000000   \n",
              "2       0    -0.058824  0.839196       0.049180      -1.000000 -1.000000   \n",
              "3       1    -0.882353 -0.105528       0.081967      -0.535354 -0.777778   \n",
              "4       0    -1.000000  0.376884      -0.344262      -0.292929 -0.602837   \n",
              "\n",
              "        BMI  DiabetesPedigree       Age  \n",
              "0  0.001490         -0.531170 -0.033333  \n",
              "1 -0.207153         -0.766866 -0.666667  \n",
              "2 -0.305514         -0.492741 -0.633333  \n",
              "3 -0.162444         -0.923997 -1.000000  \n",
              "4  0.284650          0.887276 -0.600000  "
            ],
            "text/html": [
              "\n",
              "  <div id=\"df-d3d9019b-e34e-4d67-b49f-f74335d0aed9\" class=\"colab-df-container\">\n",
              "    <div>\n",
              "<style scoped>\n",
              "    .dataframe tbody tr th:only-of-type {\n",
              "        vertical-align: middle;\n",
              "    }\n",
              "\n",
              "    .dataframe tbody tr th {\n",
              "        vertical-align: top;\n",
              "    }\n",
              "\n",
              "    .dataframe thead th {\n",
              "        text-align: right;\n",
              "    }\n",
              "</style>\n",
              "<table border=\"1\" class=\"dataframe\">\n",
              "  <thead>\n",
              "    <tr style=\"text-align: right;\">\n",
              "      <th></th>\n",
              "      <th>Target</th>\n",
              "      <th>Pregnancies</th>\n",
              "      <th>Glucose</th>\n",
              "      <th>BloodPressure</th>\n",
              "      <th>SkinThickness</th>\n",
              "      <th>Insulin</th>\n",
              "      <th>BMI</th>\n",
              "      <th>DiabetesPedigree</th>\n",
              "      <th>Age</th>\n",
              "    </tr>\n",
              "  </thead>\n",
              "  <tbody>\n",
              "    <tr>\n",
              "      <th>0</th>\n",
              "      <td>0</td>\n",
              "      <td>-0.294118</td>\n",
              "      <td>0.487437</td>\n",
              "      <td>0.180328</td>\n",
              "      <td>-0.292929</td>\n",
              "      <td>-1.000000</td>\n",
              "      <td>0.001490</td>\n",
              "      <td>-0.531170</td>\n",
              "      <td>-0.033333</td>\n",
              "    </tr>\n",
              "    <tr>\n",
              "      <th>1</th>\n",
              "      <td>1</td>\n",
              "      <td>-0.882353</td>\n",
              "      <td>-0.145729</td>\n",
              "      <td>0.081967</td>\n",
              "      <td>-0.414141</td>\n",
              "      <td>-1.000000</td>\n",
              "      <td>-0.207153</td>\n",
              "      <td>-0.766866</td>\n",
              "      <td>-0.666667</td>\n",
              "    </tr>\n",
              "    <tr>\n",
              "      <th>2</th>\n",
              "      <td>0</td>\n",
              "      <td>-0.058824</td>\n",
              "      <td>0.839196</td>\n",
              "      <td>0.049180</td>\n",
              "      <td>-1.000000</td>\n",
              "      <td>-1.000000</td>\n",
              "      <td>-0.305514</td>\n",
              "      <td>-0.492741</td>\n",
              "      <td>-0.633333</td>\n",
              "    </tr>\n",
              "    <tr>\n",
              "      <th>3</th>\n",
              "      <td>1</td>\n",
              "      <td>-0.882353</td>\n",
              "      <td>-0.105528</td>\n",
              "      <td>0.081967</td>\n",
              "      <td>-0.535354</td>\n",
              "      <td>-0.777778</td>\n",
              "      <td>-0.162444</td>\n",
              "      <td>-0.923997</td>\n",
              "      <td>-1.000000</td>\n",
              "    </tr>\n",
              "    <tr>\n",
              "      <th>4</th>\n",
              "      <td>0</td>\n",
              "      <td>-1.000000</td>\n",
              "      <td>0.376884</td>\n",
              "      <td>-0.344262</td>\n",
              "      <td>-0.292929</td>\n",
              "      <td>-0.602837</td>\n",
              "      <td>0.284650</td>\n",
              "      <td>0.887276</td>\n",
              "      <td>-0.600000</td>\n",
              "    </tr>\n",
              "  </tbody>\n",
              "</table>\n",
              "</div>\n",
              "    <div class=\"colab-df-buttons\">\n",
              "\n",
              "  <div class=\"colab-df-container\">\n",
              "    <button class=\"colab-df-convert\" onclick=\"convertToInteractive('df-d3d9019b-e34e-4d67-b49f-f74335d0aed9')\"\n",
              "            title=\"Convert this dataframe to an interactive table.\"\n",
              "            style=\"display:none;\">\n",
              "\n",
              "  <svg xmlns=\"http://www.w3.org/2000/svg\" height=\"24px\" viewBox=\"0 -960 960 960\">\n",
              "    <path d=\"M120-120v-720h720v720H120Zm60-500h600v-160H180v160Zm220 220h160v-160H400v160Zm0 220h160v-160H400v160ZM180-400h160v-160H180v160Zm440 0h160v-160H620v160ZM180-180h160v-160H180v160Zm440 0h160v-160H620v160Z\"/>\n",
              "  </svg>\n",
              "    </button>\n",
              "\n",
              "  <style>\n",
              "    .colab-df-container {\n",
              "      display:flex;\n",
              "      gap: 12px;\n",
              "    }\n",
              "\n",
              "    .colab-df-convert {\n",
              "      background-color: #E8F0FE;\n",
              "      border: none;\n",
              "      border-radius: 50%;\n",
              "      cursor: pointer;\n",
              "      display: none;\n",
              "      fill: #1967D2;\n",
              "      height: 32px;\n",
              "      padding: 0 0 0 0;\n",
              "      width: 32px;\n",
              "    }\n",
              "\n",
              "    .colab-df-convert:hover {\n",
              "      background-color: #E2EBFA;\n",
              "      box-shadow: 0px 1px 2px rgba(60, 64, 67, 0.3), 0px 1px 3px 1px rgba(60, 64, 67, 0.15);\n",
              "      fill: #174EA6;\n",
              "    }\n",
              "\n",
              "    .colab-df-buttons div {\n",
              "      margin-bottom: 4px;\n",
              "    }\n",
              "\n",
              "    [theme=dark] .colab-df-convert {\n",
              "      background-color: #3B4455;\n",
              "      fill: #D2E3FC;\n",
              "    }\n",
              "\n",
              "    [theme=dark] .colab-df-convert:hover {\n",
              "      background-color: #434B5C;\n",
              "      box-shadow: 0px 1px 3px 1px rgba(0, 0, 0, 0.15);\n",
              "      filter: drop-shadow(0px 1px 2px rgba(0, 0, 0, 0.3));\n",
              "      fill: #FFFFFF;\n",
              "    }\n",
              "  </style>\n",
              "\n",
              "    <script>\n",
              "      const buttonEl =\n",
              "        document.querySelector('#df-d3d9019b-e34e-4d67-b49f-f74335d0aed9 button.colab-df-convert');\n",
              "      buttonEl.style.display =\n",
              "        google.colab.kernel.accessAllowed ? 'block' : 'none';\n",
              "\n",
              "      async function convertToInteractive(key) {\n",
              "        const element = document.querySelector('#df-d3d9019b-e34e-4d67-b49f-f74335d0aed9');\n",
              "        const dataTable =\n",
              "          await google.colab.kernel.invokeFunction('convertToInteractive',\n",
              "                                                    [key], {});\n",
              "        if (!dataTable) return;\n",
              "\n",
              "        const docLinkHtml = 'Like what you see? Visit the ' +\n",
              "          '<a target=\"_blank\" href=https://colab.research.google.com/notebooks/data_table.ipynb>data table notebook</a>'\n",
              "          + ' to learn more about interactive tables.';\n",
              "        element.innerHTML = '';\n",
              "        dataTable['output_type'] = 'display_data';\n",
              "        await google.colab.output.renderOutput(dataTable, element);\n",
              "        const docLink = document.createElement('div');\n",
              "        docLink.innerHTML = docLinkHtml;\n",
              "        element.appendChild(docLink);\n",
              "      }\n",
              "    </script>\n",
              "  </div>\n",
              "\n",
              "\n",
              "<div id=\"df-942c8c3c-2d19-4499-8617-0746790499ec\">\n",
              "  <button class=\"colab-df-quickchart\" onclick=\"quickchart('df-942c8c3c-2d19-4499-8617-0746790499ec')\"\n",
              "            title=\"Suggest charts.\"\n",
              "            style=\"display:none;\">\n",
              "\n",
              "<svg xmlns=\"http://www.w3.org/2000/svg\" height=\"24px\"viewBox=\"0 0 24 24\"\n",
              "     width=\"24px\">\n",
              "    <g>\n",
              "        <path d=\"M19 3H5c-1.1 0-2 .9-2 2v14c0 1.1.9 2 2 2h14c1.1 0 2-.9 2-2V5c0-1.1-.9-2-2-2zM9 17H7v-7h2v7zm4 0h-2V7h2v10zm4 0h-2v-4h2v4z\"/>\n",
              "    </g>\n",
              "</svg>\n",
              "  </button>\n",
              "\n",
              "<style>\n",
              "  .colab-df-quickchart {\n",
              "      --bg-color: #E8F0FE;\n",
              "      --fill-color: #1967D2;\n",
              "      --hover-bg-color: #E2EBFA;\n",
              "      --hover-fill-color: #174EA6;\n",
              "      --disabled-fill-color: #AAA;\n",
              "      --disabled-bg-color: #DDD;\n",
              "  }\n",
              "\n",
              "  [theme=dark] .colab-df-quickchart {\n",
              "      --bg-color: #3B4455;\n",
              "      --fill-color: #D2E3FC;\n",
              "      --hover-bg-color: #434B5C;\n",
              "      --hover-fill-color: #FFFFFF;\n",
              "      --disabled-bg-color: #3B4455;\n",
              "      --disabled-fill-color: #666;\n",
              "  }\n",
              "\n",
              "  .colab-df-quickchart {\n",
              "    background-color: var(--bg-color);\n",
              "    border: none;\n",
              "    border-radius: 50%;\n",
              "    cursor: pointer;\n",
              "    display: none;\n",
              "    fill: var(--fill-color);\n",
              "    height: 32px;\n",
              "    padding: 0;\n",
              "    width: 32px;\n",
              "  }\n",
              "\n",
              "  .colab-df-quickchart:hover {\n",
              "    background-color: var(--hover-bg-color);\n",
              "    box-shadow: 0 1px 2px rgba(60, 64, 67, 0.3), 0 1px 3px 1px rgba(60, 64, 67, 0.15);\n",
              "    fill: var(--button-hover-fill-color);\n",
              "  }\n",
              "\n",
              "  .colab-df-quickchart-complete:disabled,\n",
              "  .colab-df-quickchart-complete:disabled:hover {\n",
              "    background-color: var(--disabled-bg-color);\n",
              "    fill: var(--disabled-fill-color);\n",
              "    box-shadow: none;\n",
              "  }\n",
              "\n",
              "  .colab-df-spinner {\n",
              "    border: 2px solid var(--fill-color);\n",
              "    border-color: transparent;\n",
              "    border-bottom-color: var(--fill-color);\n",
              "    animation:\n",
              "      spin 1s steps(1) infinite;\n",
              "  }\n",
              "\n",
              "  @keyframes spin {\n",
              "    0% {\n",
              "      border-color: transparent;\n",
              "      border-bottom-color: var(--fill-color);\n",
              "      border-left-color: var(--fill-color);\n",
              "    }\n",
              "    20% {\n",
              "      border-color: transparent;\n",
              "      border-left-color: var(--fill-color);\n",
              "      border-top-color: var(--fill-color);\n",
              "    }\n",
              "    30% {\n",
              "      border-color: transparent;\n",
              "      border-left-color: var(--fill-color);\n",
              "      border-top-color: var(--fill-color);\n",
              "      border-right-color: var(--fill-color);\n",
              "    }\n",
              "    40% {\n",
              "      border-color: transparent;\n",
              "      border-right-color: var(--fill-color);\n",
              "      border-top-color: var(--fill-color);\n",
              "    }\n",
              "    60% {\n",
              "      border-color: transparent;\n",
              "      border-right-color: var(--fill-color);\n",
              "    }\n",
              "    80% {\n",
              "      border-color: transparent;\n",
              "      border-right-color: var(--fill-color);\n",
              "      border-bottom-color: var(--fill-color);\n",
              "    }\n",
              "    90% {\n",
              "      border-color: transparent;\n",
              "      border-bottom-color: var(--fill-color);\n",
              "    }\n",
              "  }\n",
              "</style>\n",
              "\n",
              "  <script>\n",
              "    async function quickchart(key) {\n",
              "      const quickchartButtonEl =\n",
              "        document.querySelector('#' + key + ' button');\n",
              "      quickchartButtonEl.disabled = true;  // To prevent multiple clicks.\n",
              "      quickchartButtonEl.classList.add('colab-df-spinner');\n",
              "      try {\n",
              "        const charts = await google.colab.kernel.invokeFunction(\n",
              "            'suggestCharts', [key], {});\n",
              "      } catch (error) {\n",
              "        console.error('Error during call to suggestCharts:', error);\n",
              "      }\n",
              "      quickchartButtonEl.classList.remove('colab-df-spinner');\n",
              "      quickchartButtonEl.classList.add('colab-df-quickchart-complete');\n",
              "    }\n",
              "    (() => {\n",
              "      let quickchartButtonEl =\n",
              "        document.querySelector('#df-942c8c3c-2d19-4499-8617-0746790499ec button');\n",
              "      quickchartButtonEl.style.display =\n",
              "        google.colab.kernel.accessAllowed ? 'block' : 'none';\n",
              "    })();\n",
              "  </script>\n",
              "</div>\n",
              "    </div>\n",
              "  </div>\n"
            ]
          },
          "metadata": {},
          "execution_count": 8
        }
      ]
    },
    {
      "cell_type": "code",
      "source": [
        "df.dtypes"
      ],
      "metadata": {
        "colab": {
          "base_uri": "https://localhost:8080/"
        },
        "id": "SHAtqfS7FNwJ",
        "outputId": "bd5f5d1e-0096-47fc-9bfa-778b8f3bc52b"
      },
      "execution_count": 9,
      "outputs": [
        {
          "output_type": "execute_result",
          "data": {
            "text/plain": [
              "Target                int64\n",
              "Pregnancies         float64\n",
              "Glucose             float64\n",
              "BloodPressure       float64\n",
              "SkinThickness       float64\n",
              "Insulin             float64\n",
              "BMI                 float64\n",
              "DiabetesPedigree    float64\n",
              "Age                 float64\n",
              "dtype: object"
            ]
          },
          "metadata": {},
          "execution_count": 9
        }
      ]
    },
    {
      "cell_type": "code",
      "execution_count": 10,
      "metadata": {
        "colab": {
          "base_uri": "https://localhost:8080/"
        },
        "id": "6p_GKH8WOZ9_",
        "outputId": "05eca550-e247-4730-a38d-ad1d0cfdc135"
      },
      "outputs": [
        {
          "output_type": "execute_result",
          "data": {
            "text/plain": [
              "(768, 9)"
            ]
          },
          "metadata": {},
          "execution_count": 10
        }
      ],
      "source": [
        "df.shape"
      ]
    },
    {
      "cell_type": "code",
      "source": [
        "df.Target.value_counts()"
      ],
      "metadata": {
        "id": "KoMP5N-JLqmO",
        "outputId": "57af8894-d681-484a-8bc2-a851ef725a56",
        "colab": {
          "base_uri": "https://localhost:8080/"
        }
      },
      "execution_count": 11,
      "outputs": [
        {
          "output_type": "execute_result",
          "data": {
            "text/plain": [
              "1    500\n",
              "0    268\n",
              "Name: Target, dtype: int64"
            ]
          },
          "metadata": {},
          "execution_count": 11
        }
      ]
    },
    {
      "cell_type": "code",
      "source": [
        "ax = sns.countplot(x=df.Target)\n",
        "\n",
        "# Taken from https://stackoverflow.com/questions/49044131/how-to-add-data-labels-to-seaborn-countplot-factorplot\n",
        "abs_values = df.Target.value_counts(ascending=True).values\n",
        "ax.bar_label(container=ax.containers[0], labels=abs_values)"
      ],
      "metadata": {
        "colab": {
          "base_uri": "https://localhost:8080/",
          "height": 467
        },
        "id": "Sw8gE7W0Ffax",
        "outputId": "fdc6a129-532c-4abc-e755-e2dc0137f270"
      },
      "execution_count": 12,
      "outputs": [
        {
          "output_type": "execute_result",
          "data": {
            "text/plain": [
              "[Text(0, 0, '268'), Text(0, 0, '500')]"
            ]
          },
          "metadata": {},
          "execution_count": 12
        },
        {
          "output_type": "display_data",
          "data": {
            "text/plain": [
              "<Figure size 640x480 with 1 Axes>"
            ],
            "image/png": "[encoded data removed]"
          },
          "metadata": {}
        }
      ]
    },
    {
      "cell_type": "markdown",
      "source": [
        "Based on how the data is codified, Target = 1 pertains to having no diabetes, and Target = 0 pertains to having diabetes."
      ],
      "metadata": {
        "id": "_HbByGVOcMQ-"
      }
    },
    {
      "cell_type": "markdown",
      "source": [
        "# Check for missing Data"
      ],
      "metadata": {
        "id": "x8ZNbtH4FjJM"
      }
    },
    {
      "cell_type": "code",
      "execution_count": 13,
      "metadata": {
        "id": "u6C_prBDVyUH",
        "colab": {
          "base_uri": "https://localhost:8080/"
        },
        "outputId": "fae2df64-4836-475f-b98b-8f100b3159fe"
      },
      "outputs": [
        {
          "output_type": "execute_result",
          "data": {
            "text/plain": [
              "Target              0\n",
              "Pregnancies         0\n",
              "Glucose             0\n",
              "BloodPressure       0\n",
              "SkinThickness       0\n",
              "Insulin             0\n",
              "BMI                 0\n",
              "DiabetesPedigree    0\n",
              "Age                 9\n",
              "dtype: int64"
            ]
          },
          "metadata": {},
          "execution_count": 13
        }
      ],
      "source": [
        "df.isna().sum()"
      ]
    },
    {
      "cell_type": "markdown",
      "metadata": {
        "id": "DANtcALqV1Yd"
      },
      "source": [
        "We have missing data. 9 instances of the feature Age is missing. Given that, the missing data only comprises 1.17% of our dataset. We will drop the rows with missing data."
      ]
    },
    {
      "cell_type": "markdown",
      "metadata": {
        "id": "KNxnkbP1SYKK"
      },
      "source": [
        "# Dropping the rows with missing data"
      ]
    },
    {
      "cell_type": "code",
      "execution_count": 14,
      "metadata": {
        "id": "O_68abdZTDZX"
      },
      "outputs": [],
      "source": [
        "df.dropna(inplace=True)"
      ]
    },
    {
      "cell_type": "code",
      "execution_count": 15,
      "metadata": {
        "colab": {
          "base_uri": "https://localhost:8080/"
        },
        "id": "cUhtWLSsZ0tg",
        "outputId": "ff22ae4e-8d8f-4f0b-bdc8-624ac4aab4d5"
      },
      "outputs": [
        {
          "output_type": "execute_result",
          "data": {
            "text/plain": [
              "(759, 9)"
            ]
          },
          "metadata": {},
          "execution_count": 15
        }
      ],
      "source": [
        "df.shape"
      ]
    },
    {
      "cell_type": "code",
      "source": [
        "ax = sns.countplot(x=df.Target)\n",
        "\n",
        "# Taken from https://stackoverflow.com/questions/49044131/how-to-add-data-labels-to-seaborn-countplot-factorplot\n",
        "abs_values = df.Target.value_counts(ascending=True).values\n",
        "ax.bar_label(container=ax.containers[0], labels=abs_values)"
      ],
      "metadata": {
        "colab": {
          "base_uri": "https://localhost:8080/",
          "height": 467
        },
        "id": "AeMeoZ-xKOk2",
        "outputId": "13f69938-3895-4061-ff4e-cd31c8e8b400"
      },
      "execution_count": 16,
      "outputs": [
        {
          "output_type": "execute_result",
          "data": {
            "text/plain": [
              "[Text(0, 0, '263'), Text(0, 0, '496')]"
            ]
          },
          "metadata": {},
          "execution_count": 16
        },
        {
          "output_type": "display_data",
          "data": {
            "text/plain": [
              "<Figure size 640x480 with 1 Axes>"
            ],
            "image/png": "[encoded data removed]"
          },
          "metadata": {}
        }
      ]
    },
    {
      "cell_type": "markdown",
      "source": [
        "Of the missing data, 5 belong to class 0 and 4 belong to class 1."
      ],
      "metadata": {
        "id": "m-NyoVtGLKTq"
      }
    },
    {
      "cell_type": "markdown",
      "source": [
        "# Inspecting the Data"
      ],
      "metadata": {
        "id": "Be2JEs7StZcA"
      }
    },
    {
      "cell_type": "code",
      "source": [
        "plt.figure(figsize=(12,10))\n",
        "sns.heatmap(df.corr(),annot=True)"
      ],
      "metadata": {
        "colab": {
          "base_uri": "https://localhost:8080/",
          "height": 962
        },
        "id": "RKHazcsMjVu2",
        "outputId": "8aa6cea1-4b04-446a-9e57-b7cd77b98d0a"
      },
      "execution_count": 17,
      "outputs": [
        {
          "output_type": "execute_result",
          "data": {
            "text/plain": [
              "<Axes: >"
            ]
          },
          "metadata": {},
          "execution_count": 17
        },
        {
          "output_type": "display_data",
          "data": {
            "text/plain": [
              "<Figure size 1200x1000 with 2 Axes>"
            ],
            "image/png": "[encoded data removed]"
          },
          "metadata": {}
        }
      ]
    },
    {
      "cell_type": "code",
      "source": [
        "df.describe()"
      ],
      "metadata": {
        "colab": {
          "base_uri": "https://localhost:8080/",
          "height": 300
        },
        "id": "CqWwWPmNtLr3",
        "outputId": "4d78430c-fb13-4978-f83b-fd5e5159def7"
      },
      "execution_count": 18,
      "outputs": [
        {
          "output_type": "execute_result",
          "data": {
            "text/plain": [
              "           Target  Pregnancies     Glucose  BloodPressure  SkinThickness  \\\n",
              "count  759.000000   759.000000  759.000000     759.000000     759.000000   \n",
              "mean     0.653491    -0.553902    0.211976       0.130392      -0.584860   \n",
              "std      0.476171     0.393479    0.321448       0.317587       0.322290   \n",
              "min      0.000000    -1.000000   -1.000000      -1.000000      -1.000000   \n",
              "25%      0.000000    -0.882353   -0.005025       0.016393      -1.000000   \n",
              "50%      1.000000    -0.647059    0.165829       0.180328      -0.535354   \n",
              "75%      1.000000    -0.294118    0.407035       0.311475      -0.353535   \n",
              "max      1.000000     1.000000    1.000000       1.000000       1.000000   \n",
              "\n",
              "          Insulin         BMI  DiabetesPedigree         Age  \n",
              "count  759.000000  759.000000        759.000000  759.000000  \n",
              "mean    -0.812335   -0.046738         -0.664571   -0.599166  \n",
              "std      0.273006    0.235680          0.282291    0.388652  \n",
              "min     -1.000000   -1.000000         -1.000000   -1.000000  \n",
              "25%     -1.000000   -0.186289         -0.858668   -0.900000  \n",
              "50%     -0.940898   -0.046200         -0.749787   -0.733333  \n",
              "75%     -0.703310    0.087929         -0.532878   -0.366667  \n",
              "max      1.000000    1.000000          1.000000    1.000000  "
            ],
            "text/html": [
              "\n",
              "  <div id=\"df-5ef6cc8a-230e-46a2-ac70-79009b0eea7e\" class=\"colab-df-container\">\n",
              "    <div>\n",
              "<style scoped>\n",
              "    .dataframe tbody tr th:only-of-type {\n",
              "        vertical-align: middle;\n",
              "    }\n",
              "\n",
              "    .dataframe tbody tr th {\n",
              "        vertical-align: top;\n",
              "    }\n",
              "\n",
              "    .dataframe thead th {\n",
              "        text-align: right;\n",
              "    }\n",
              "</style>\n",
              "<table border=\"1\" class=\"dataframe\">\n",
              "  <thead>\n",
              "    <tr style=\"text-align: right;\">\n",
              "      <th></th>\n",
              "      <th>Target</th>\n",
              "      <th>Pregnancies</th>\n",
              "      <th>Glucose</th>\n",
              "      <th>BloodPressure</th>\n",
              "      <th>SkinThickness</th>\n",
              "      <th>Insulin</th>\n",
              "      <th>BMI</th>\n",
              "      <th>DiabetesPedigree</th>\n",
              "      <th>Age</th>\n",
              "    </tr>\n",
              "  </thead>\n",
              "  <tbody>\n",
              "    <tr>\n",
              "      <th>count</th>\n",
              "      <td>759.000000</td>\n",
              "      <td>759.000000</td>\n",
              "      <td>759.000000</td>\n",
              "      <td>759.000000</td>\n",
              "      <td>759.000000</td>\n",
              "      <td>759.000000</td>\n",
              "      <td>759.000000</td>\n",
              "      <td>759.000000</td>\n",
              "      <td>759.000000</td>\n",
              "    </tr>\n",
              "    <tr>\n",
              "      <th>mean</th>\n",
              "      <td>0.653491</td>\n",
              "      <td>-0.553902</td>\n",
              "      <td>0.211976</td>\n",
              "      <td>0.130392</td>\n",
              "      <td>-0.584860</td>\n",
              "      <td>-0.812335</td>\n",
              "      <td>-0.046738</td>\n",
              "      <td>-0.664571</td>\n",
              "      <td>-0.599166</td>\n",
              "    </tr>\n",
              "    <tr>\n",
              "      <th>std</th>\n",
              "      <td>0.476171</td>\n",
              "      <td>0.393479</td>\n",
              "      <td>0.321448</td>\n",
              "      <td>0.317587</td>\n",
              "      <td>0.322290</td>\n",
              "      <td>0.273006</td>\n",
              "      <td>0.235680</td>\n",
              "      <td>0.282291</td>\n",
              "      <td>0.388652</td>\n",
              "    </tr>\n",
              "    <tr>\n",
              "      <th>min</th>\n",
              "      <td>0.000000</td>\n",
              "      <td>-1.000000</td>\n",
              "      <td>-1.000000</td>\n",
              "      <td>-1.000000</td>\n",
              "      <td>-1.000000</td>\n",
              "      <td>-1.000000</td>\n",
              "      <td>-1.000000</td>\n",
              "      <td>-1.000000</td>\n",
              "      <td>-1.000000</td>\n",
              "    </tr>\n",
              "    <tr>\n",
              "      <th>25%</th>\n",
              "      <td>0.000000</td>\n",
              "      <td>-0.882353</td>\n",
              "      <td>-0.005025</td>\n",
              "      <td>0.016393</td>\n",
              "      <td>-1.000000</td>\n",
              "      <td>-1.000000</td>\n",
              "      <td>-0.186289</td>\n",
              "      <td>-0.858668</td>\n",
              "      <td>-0.900000</td>\n",
              "    </tr>\n",
              "    <tr>\n",
              "      <th>50%</th>\n",
              "      <td>1.000000</td>\n",
              "      <td>-0.647059</td>\n",
              "      <td>0.165829</td>\n",
              "      <td>0.180328</td>\n",
              "      <td>-0.535354</td>\n",
              "      <td>-0.940898</td>\n",
              "      <td>-0.046200</td>\n",
              "      <td>-0.749787</td>\n",
              "      <td>-0.733333</td>\n",
              "    </tr>\n",
              "    <tr>\n",
              "      <th>75%</th>\n",
              "      <td>1.000000</td>\n",
              "      <td>-0.294118</td>\n",
              "      <td>0.407035</td>\n",
              "      <td>0.311475</td>\n",
              "      <td>-0.353535</td>\n",
              "      <td>-0.703310</td>\n",
              "      <td>0.087929</td>\n",
              "      <td>-0.532878</td>\n",
              "      <td>-0.366667</td>\n",
              "    </tr>\n",
              "    <tr>\n",
              "      <th>max</th>\n",
              "      <td>1.000000</td>\n",
              "      <td>1.000000</td>\n",
              "      <td>1.000000</td>\n",
              "      <td>1.000000</td>\n",
              "      <td>1.000000</td>\n",
              "      <td>1.000000</td>\n",
              "      <td>1.000000</td>\n",
              "      <td>1.000000</td>\n",
              "      <td>1.000000</td>\n",
              "    </tr>\n",
              "  </tbody>\n",
              "</table>\n",
              "</div>\n",
              "    <div class=\"colab-df-buttons\">\n",
              "\n",
              "  <div class=\"colab-df-container\">\n",
              "    <button class=\"colab-df-convert\" onclick=\"convertToInteractive('df-5ef6cc8a-230e-46a2-ac70-79009b0eea7e')\"\n",
              "            title=\"Convert this dataframe to an interactive table.\"\n",
              "            style=\"display:none;\">\n",
              "\n",
              "  <svg xmlns=\"http://www.w3.org/2000/svg\" height=\"24px\" viewBox=\"0 -960 960 960\">\n",
              "    <path d=\"M120-120v-720h720v720H120Zm60-500h600v-160H180v160Zm220 220h160v-160H400v160Zm0 220h160v-160H400v160ZM180-400h160v-160H180v160Zm440 0h160v-160H620v160ZM180-180h160v-160H180v160Zm440 0h160v-160H620v160Z\"/>\n",
              "  </svg>\n",
              "    </button>\n",
              "\n",
              "  <style>\n",
              "    .colab-df-container {\n",
              "      display:flex;\n",
              "      gap: 12px;\n",
              "    }\n",
              "\n",
              "    .colab-df-convert {\n",
              "      background-color: #E8F0FE;\n",
              "      border: none;\n",
              "      border-radius: 50%;\n",
              "      cursor: pointer;\n",
              "      display: none;\n",
              "      fill: #1967D2;\n",
              "      height: 32px;\n",
              "      padding: 0 0 0 0;\n",
              "      width: 32px;\n",
              "    }\n",
              "\n",
              "    .colab-df-convert:hover {\n",
              "      background-color: #E2EBFA;\n",
              "      box-shadow: 0px 1px 2px rgba(60, 64, 67, 0.3), 0px 1px 3px 1px rgba(60, 64, 67, 0.15);\n",
              "      fill: #174EA6;\n",
              "    }\n",
              "\n",
              "    .colab-df-buttons div {\n",
              "      margin-bottom: 4px;\n",
              "    }\n",
              "\n",
              "    [theme=dark] .colab-df-convert {\n",
              "      background-color: #3B4455;\n",
              "      fill: #D2E3FC;\n",
              "    }\n",
              "\n",
              "    [theme=dark] .colab-df-convert:hover {\n",
              "      background-color: #434B5C;\n",
              "      box-shadow: 0px 1px 3px 1px rgba(0, 0, 0, 0.15);\n",
              "      filter: drop-shadow(0px 1px 2px rgba(0, 0, 0, 0.3));\n",
              "      fill: #FFFFFF;\n",
              "    }\n",
              "  </style>\n",
              "\n",
              "    <script>\n",
              "      const buttonEl =\n",
              "        document.querySelector('#df-5ef6cc8a-230e-46a2-ac70-79009b0eea7e button.colab-df-convert');\n",
              "      buttonEl.style.display =\n",
              "        google.colab.kernel.accessAllowed ? 'block' : 'none';\n",
              "\n",
              "      async function convertToInteractive(key) {\n",
              "        const element = document.querySelector('#df-5ef6cc8a-230e-46a2-ac70-79009b0eea7e');\n",
              "        const dataTable =\n",
              "          await google.colab.kernel.invokeFunction('convertToInteractive',\n",
              "                                                    [key], {});\n",
              "        if (!dataTable) return;\n",
              "\n",
              "        const docLinkHtml = 'Like what you see? Visit the ' +\n",
              "          '<a target=\"_blank\" href=https://colab.research.google.com/notebooks/data_table.ipynb>data table notebook</a>'\n",
              "          + ' to learn more about interactive tables.';\n",
              "        element.innerHTML = '';\n",
              "        dataTable['output_type'] = 'display_data';\n",
              "        await google.colab.output.renderOutput(dataTable, element);\n",
              "        const docLink = document.createElement('div');\n",
              "        docLink.innerHTML = docLinkHtml;\n",
              "        element.appendChild(docLink);\n",
              "      }\n",
              "    </script>\n",
              "  </div>\n",
              "\n",
              "\n",
              "<div id=\"df-95a56907-80f9-4418-a15a-57fc8fc28b72\">\n",
              "  <button class=\"colab-df-quickchart\" onclick=\"quickchart('df-95a56907-80f9-4418-a15a-57fc8fc28b72')\"\n",
              "            title=\"Suggest charts.\"\n",
              "            style=\"display:none;\">\n",
              "\n",
              "<svg xmlns=\"http://www.w3.org/2000/svg\" height=\"24px\"viewBox=\"0 0 24 24\"\n",
              "     width=\"24px\">\n",
              "    <g>\n",
              "        <path d=\"M19 3H5c-1.1 0-2 .9-2 2v14c0 1.1.9 2 2 2h14c1.1 0 2-.9 2-2V5c0-1.1-.9-2-2-2zM9 17H7v-7h2v7zm4 0h-2V7h2v10zm4 0h-2v-4h2v4z\"/>\n",
              "    </g>\n",
              "</svg>\n",
              "  </button>\n",
              "\n",
              "<style>\n",
              "  .colab-df-quickchart {\n",
              "      --bg-color: #E8F0FE;\n",
              "      --fill-color: #1967D2;\n",
              "      --hover-bg-color: #E2EBFA;\n",
              "      --hover-fill-color: #174EA6;\n",
              "      --disabled-fill-color: #AAA;\n",
              "      --disabled-bg-color: #DDD;\n",
              "  }\n",
              "\n",
              "  [theme=dark] .colab-df-quickchart {\n",
              "      --bg-color: #3B4455;\n",
              "      --fill-color: #D2E3FC;\n",
              "      --hover-bg-color: #434B5C;\n",
              "      --hover-fill-color: #FFFFFF;\n",
              "      --disabled-bg-color: #3B4455;\n",
              "      --disabled-fill-color: #666;\n",
              "  }\n",
              "\n",
              "  .colab-df-quickchart {\n",
              "    background-color: var(--bg-color);\n",
              "    border: none;\n",
              "    border-radius: 50%;\n",
              "    cursor: pointer;\n",
              "    display: none;\n",
              "    fill: var(--fill-color);\n",
              "    height: 32px;\n",
              "    padding: 0;\n",
              "    width: 32px;\n",
              "  }\n",
              "\n",
              "  .colab-df-quickchart:hover {\n",
              "    background-color: var(--hover-bg-color);\n",
              "    box-shadow: 0 1px 2px rgba(60, 64, 67, 0.3), 0 1px 3px 1px rgba(60, 64, 67, 0.15);\n",
              "    fill: var(--button-hover-fill-color);\n",
              "  }\n",
              "\n",
              "  .colab-df-quickchart-complete:disabled,\n",
              "  .colab-df-quickchart-complete:disabled:hover {\n",
              "    background-color: var(--disabled-bg-color);\n",
              "    fill: var(--disabled-fill-color);\n",
              "    box-shadow: none;\n",
              "  }\n",
              "\n",
              "  .colab-df-spinner {\n",
              "    border: 2px solid var(--fill-color);\n",
              "    border-color: transparent;\n",
              "    border-bottom-color: var(--fill-color);\n",
              "    animation:\n",
              "      spin 1s steps(1) infinite;\n",
              "  }\n",
              "\n",
              "  @keyframes spin {\n",
              "    0% {\n",
              "      border-color: transparent;\n",
              "      border-bottom-color: var(--fill-color);\n",
              "      border-left-color: var(--fill-color);\n",
              "    }\n",
              "    20% {\n",
              "      border-color: transparent;\n",
              "      border-left-color: var(--fill-color);\n",
              "      border-top-color: var(--fill-color);\n",
              "    }\n",
              "    30% {\n",
              "      border-color: transparent;\n",
              "      border-left-color: var(--fill-color);\n",
              "      border-top-color: var(--fill-color);\n",
              "      border-right-color: var(--fill-color);\n",
              "    }\n",
              "    40% {\n",
              "      border-color: transparent;\n",
              "      border-right-color: var(--fill-color);\n",
              "      border-top-color: var(--fill-color);\n",
              "    }\n",
              "    60% {\n",
              "      border-color: transparent;\n",
              "      border-right-color: var(--fill-color);\n",
              "    }\n",
              "    80% {\n",
              "      border-color: transparent;\n",
              "      border-right-color: var(--fill-color);\n",
              "      border-bottom-color: var(--fill-color);\n",
              "    }\n",
              "    90% {\n",
              "      border-color: transparent;\n",
              "      border-bottom-color: var(--fill-color);\n",
              "    }\n",
              "  }\n",
              "</style>\n",
              "\n",
              "  <script>\n",
              "    async function quickchart(key) {\n",
              "      const quickchartButtonEl =\n",
              "        document.querySelector('#' + key + ' button');\n",
              "      quickchartButtonEl.disabled = true;  // To prevent multiple clicks.\n",
              "      quickchartButtonEl.classList.add('colab-df-spinner');\n",
              "      try {\n",
              "        const charts = await google.colab.kernel.invokeFunction(\n",
              "            'suggestCharts', [key], {});\n",
              "      } catch (error) {\n",
              "        console.error('Error during call to suggestCharts:', error);\n",
              "      }\n",
              "      quickchartButtonEl.classList.remove('colab-df-spinner');\n",
              "      quickchartButtonEl.classList.add('colab-df-quickchart-complete');\n",
              "    }\n",
              "    (() => {\n",
              "      let quickchartButtonEl =\n",
              "        document.querySelector('#df-95a56907-80f9-4418-a15a-57fc8fc28b72 button');\n",
              "      quickchartButtonEl.style.display =\n",
              "        google.colab.kernel.accessAllowed ? 'block' : 'none';\n",
              "    })();\n",
              "  </script>\n",
              "</div>\n",
              "    </div>\n",
              "  </div>\n"
            ]
          },
          "metadata": {},
          "execution_count": 18
        }
      ]
    },
    {
      "cell_type": "code",
      "source": [
        "# df = df[['Target','Age','BMI','Glucose','Pregnancies']]"
      ],
      "metadata": {
        "id": "6xRur8UEjezJ"
      },
      "execution_count": 19,
      "outputs": []
    },
    {
      "cell_type": "markdown",
      "metadata": {
        "id": "2rODvV4-ZDYN"
      },
      "source": [
        "# Splitting Dataset"
      ]
    },
    {
      "cell_type": "markdown",
      "source": [
        "I opted to use KFold here since the dataset only has 759 instances. We will do a train-test split with a proportion of of 80-20. Additionally, we will stratify the target for the model to learn about both classes since one is underrepresented."
      ],
      "metadata": {
        "id": "8LsKVgUfe-A2"
      }
    },
    {
      "cell_type": "code",
      "execution_count": 20,
      "metadata": {
        "id": "MY1mwsOAWJYq"
      },
      "outputs": [],
      "source": [
        "from sklearn.model_selection import train_test_split\n",
        "import numpy as np"
      ]
    },
    {
      "cell_type": "code",
      "execution_count": 21,
      "metadata": {
        "id": "RNpvHToPYTZm"
      },
      "outputs": [],
      "source": [
        "X = df.iloc[:,1:]\n",
        "y = df.iloc[:,0]"
      ]
    },
    {
      "cell_type": "code",
      "execution_count": 22,
      "metadata": {
        "id": "JR5tAVOEWU9Q"
      },
      "outputs": [],
      "source": [
        "X_train, X_test, y_train, y_test = train_test_split(X,y,stratify=y,random_state=0,train_size = 0.80)"
      ]
    },
    {
      "cell_type": "markdown",
      "source": [
        "# Using Linear Classifiers to predict diabetes"
      ],
      "metadata": {
        "id": "8WMQxy_HHl7b"
      }
    },
    {
      "cell_type": "code",
      "source": [
        "from sklearn.metrics import accuracy_score, f1_score, precision_score, recall_score, confusion_matrix"
      ],
      "metadata": {
        "id": "E73kLadSyhVJ"
      },
      "execution_count": 23,
      "outputs": []
    },
    {
      "cell_type": "code",
      "source": [
        "def evaluate_model(clf,\n",
        "                   X_train,\n",
        "                   y_train,\n",
        "                   X_test,\n",
        "                   y_test):\n",
        "  clf.fit(X_train,y_train)\n",
        "  print('Training data metrics')\n",
        "  print('---------------------')\n",
        "  y_train_pred = clf.predict(X_train)\n",
        "  print('accuracy:', accuracy_score(y_train,y_train_pred))\n",
        "  print('precision:', precision_score(y_train,y_train_pred))\n",
        "  print('sensitivity:', recall_score(y_train,y_train_pred,pos_label=0))\n",
        "  print('f1:', f1_score(y_train,y_train_pred))\n",
        "\n",
        "  print()\n",
        "  y_pred = clf.predict(X_test)\n",
        "\n",
        "  print('Test data metrics')\n",
        "  print('---------------------')\n",
        "  print('accuracy:', accuracy_score(y_test,y_pred))\n",
        "  print('precision:', precision_score(y_test,y_pred))\n",
        "  print('sensitivity:', recall_score(y_test,y_pred,pos_label=0))\n",
        "  print('f1:', f1_score(y_test,y_pred))"
      ],
      "metadata": {
        "id": "ebSq6T4-ySje"
      },
      "execution_count": 24,
      "outputs": []
    },
    {
      "cell_type": "markdown",
      "source": [
        "## Logistic Regression"
      ],
      "metadata": {
        "id": "oqMPHq1-Htgz"
      }
    },
    {
      "cell_type": "markdown",
      "source": [
        "For Logistic Regression, the scikit-learn library has a function specifically for Logistic Regression using cross-validation"
      ],
      "metadata": {
        "id": "fvGHLK35j8iy"
      }
    },
    {
      "cell_type": "code",
      "source": [
        "from sklearn.linear_model import LogisticRegression"
      ],
      "metadata": {
        "id": "t8MQVIyFeLcj"
      },
      "execution_count": 25,
      "outputs": []
    },
    {
      "cell_type": "code",
      "source": [
        "evaluate_model(LogisticRegression(random_state=0), X_train,y_train,X_test,y_test)"
      ],
      "metadata": {
        "colab": {
          "base_uri": "https://localhost:8080/"
        },
        "id": "xrcrFz4FhSGb",
        "outputId": "55b691b5-4776-42e9-a672-36f920a4c4c8"
      },
      "execution_count": 26,
      "outputs": [
        {
          "output_type": "stream",
          "name": "stdout",
          "text": [
            "Training data metrics\n",
            "---------------------\n",
            "accuracy: 0.7792421746293245\n",
            "precision: 0.7981859410430839\n",
            "sensitivity: 0.5761904761904761\n",
            "f1: 0.8400954653937949\n",
            "\n",
            "Test data metrics\n",
            "---------------------\n",
            "accuracy: 0.7697368421052632\n",
            "precision: 0.7666666666666667\n",
            "sensitivity: 0.4716981132075472\n",
            "f1: 0.8401826484018264\n"
          ]
        }
      ]
    },
    {
      "cell_type": "markdown",
      "source": [
        "## Support Vector Machines"
      ],
      "metadata": {
        "id": "xtyIzpwOHtYu"
      }
    },
    {
      "cell_type": "code",
      "source": [
        "from sklearn.svm import SVC"
      ],
      "metadata": {
        "id": "WFfe3jM0HtIf"
      },
      "execution_count": 27,
      "outputs": []
    },
    {
      "cell_type": "code",
      "source": [
        "evaluate_model(SVC(random_state=0),X_train,y_train,X_test,y_test)"
      ],
      "metadata": {
        "colab": {
          "base_uri": "https://localhost:8080/"
        },
        "id": "isZ8vfk1znrD",
        "outputId": "4fac8ef0-e374-424a-ebca-b05567694ea7"
      },
      "execution_count": 28,
      "outputs": [
        {
          "output_type": "stream",
          "name": "stdout",
          "text": [
            "Training data metrics\n",
            "---------------------\n",
            "accuracy: 0.8056013179571664\n",
            "precision: 0.8093126385809313\n",
            "sensitivity: 0.5904761904761905\n",
            "f1: 0.8608490566037738\n",
            "\n",
            "Test data metrics\n",
            "---------------------\n",
            "accuracy: 0.7828947368421053\n",
            "precision: 0.7946428571428571\n",
            "sensitivity: 0.5660377358490566\n",
            "f1: 0.8436018957345972\n"
          ]
        }
      ]
    },
    {
      "cell_type": "markdown",
      "source": [
        "We see that SVMs slightly outperform Logistic Regression across multiple metrics except for Recall (or true positive rate). We can refer to this as our benchmark values to compare our neural networks to."
      ],
      "metadata": {
        "id": "aCP1WKGm0031"
      }
    },
    {
      "cell_type": "markdown",
      "metadata": {
        "id": "dzfl_ii6UckU"
      },
      "source": [
        "# Single Layer Perceptron"
      ]
    },
    {
      "cell_type": "code",
      "source": [
        "import torch\n",
        "import numpy\n",
        "import random\n",
        "\n",
        "from torch.utils.data import DataLoader, TensorDataset"
      ],
      "metadata": {
        "id": "lLJhxiD7_yMl"
      },
      "execution_count": 29,
      "outputs": []
    },
    {
      "cell_type": "code",
      "execution_count": 30,
      "metadata": {
        "id": "qWrG4MikayHG"
      },
      "outputs": [],
      "source": [
        "# Converting dataFrames into tensors\n",
        "X_train = np.asarray(X_train).astype('float32')\n",
        "X_test = np.asarray(X_test).astype('float32')\n",
        "y_train = np.asarray(y_train).astype('float32').reshape((-1,1))\n",
        "y_test = np.asarray(y_test).astype('float32').reshape((-1,1))\n",
        "\n",
        "X_train_t = torch.from_numpy(X_train)\n",
        "X_test_t = torch.from_numpy(X_test)\n",
        "y_train_t = torch.from_numpy(y_train)\n",
        "y_test_t = torch.from_numpy(y_test)\n",
        "\n",
        "train_data_tensor = TensorDataset(X_train_t, y_train_t)\n",
        "train_loader = DataLoader(train_data_tensor, batch_size=32, shuffle=True, worker_init_fn=np.random.seed(0))"
      ]
    },
    {
      "cell_type": "code",
      "source": [
        "# https://medium.com/@shashankshankar10/introduction-to-neural-networks-build-a-single-layer-perceptron-in-pytorch-c22d9b412ccf\n",
        "class SingleLayerNet(torch.nn.Module):\n",
        "    def __init__(self, input_size):\n",
        "        super(SingleLayerNet, self).__init__()\n",
        "        self.input_layer = torch.nn.Linear(input_size, 1)\n",
        "\n",
        "    #Define how forward-pass\n",
        "    def forward(self, x):\n",
        "        y_pred = torch.tanh(self.input_layer(x))\n",
        "        return y_pred"
      ],
      "metadata": {
        "id": "I3xXnGIgBXhb"
      },
      "execution_count": 31,
      "outputs": []
    },
    {
      "cell_type": "code",
      "source": [
        "# create the model\n",
        "# 8 is the number of weights in the neural net\n",
        "model = SingleLayerNet(df.shape[1]-1)"
      ],
      "metadata": {
        "id": "WCoAhfzdCJaR"
      },
      "execution_count": 32,
      "outputs": []
    },
    {
      "cell_type": "code",
      "source": [
        "# Define the loss function (criterion)\n",
        "criterion = torch.nn.BCEWithLogitsLoss()\n",
        "\n",
        "# Create an optimizer (Adam)\n",
        "optimizer = torch.optim.Adam(model.parameters(), lr=5e-4)"
      ],
      "metadata": {
        "id": "yWMu5-7OCReM"
      },
      "execution_count": 33,
      "outputs": []
    },
    {
      "cell_type": "code",
      "source": [
        "# Define the training loop\n",
        "epochs = 500\n",
        "losses = []\n",
        "for epoch in range(epochs):\n",
        "    for inputs, labels in train_loader:\n",
        "        optimizer.zero_grad()\n",
        "        outputs = model(inputs)\n",
        "        loss = criterion(outputs, labels.view(-1, 1))\n",
        "        loss.backward()\n",
        "        optimizer.step()\n",
        "    losses.append(loss.item())\n",
        "    print(f'Epoch [{epoch+1}], Loss: {loss.item()}')"
      ],
      "metadata": {
        "colab": {
          "base_uri": "https://localhost:8080/"
        },
        "id": "rniaR1DLC-rb",
        "outputId": "6e93dbb0-f43b-40cb-92d7-f33df602a996"
      },
      "execution_count": 34,
      "outputs": [
        {
          "output_type": "stream",
          "name": "stdout",
          "text": [
            "Epoch [1], Loss: 0.8229846358299255\n",
            "Epoch [2], Loss: 0.856537401676178\n",
            "Epoch [3], Loss: 0.7700604200363159\n",
            "Epoch [4], Loss: 0.7786334156990051\n",
            "Epoch [5], Loss: 0.7498670816421509\n",
            "Epoch [6], Loss: 0.7564244866371155\n",
            "Epoch [7], Loss: 0.8033584356307983\n",
            "Epoch [8], Loss: 0.7145897746086121\n",
            "Epoch [9], Loss: 0.731111466884613\n",
            "Epoch [10], Loss: 0.7009391784667969\n",
            "Epoch [11], Loss: 0.7227632999420166\n",
            "Epoch [12], Loss: 0.6953609585762024\n",
            "Epoch [13], Loss: 0.7051679491996765\n",
            "Epoch [14], Loss: 0.7393996119499207\n",
            "Epoch [15], Loss: 0.6888870000839233\n",
            "Epoch [16], Loss: 0.6727898716926575\n",
            "Epoch [17], Loss: 0.6936312913894653\n",
            "Epoch [18], Loss: 0.6773630380630493\n",
            "Epoch [19], Loss: 0.6521281599998474\n",
            "Epoch [20], Loss: 0.648141622543335\n",
            "Epoch [21], Loss: 0.6287654638290405\n",
            "Epoch [22], Loss: 0.6736319661140442\n",
            "Epoch [23], Loss: 0.6700352430343628\n",
            "Epoch [24], Loss: 0.6666303873062134\n",
            "Epoch [25], Loss: 0.628810465335846\n",
            "Epoch [26], Loss: 0.6631073951721191\n",
            "Epoch [27], Loss: 0.6306684017181396\n",
            "Epoch [28], Loss: 0.652923047542572\n",
            "Epoch [29], Loss: 0.6380589604377747\n",
            "Epoch [30], Loss: 0.6311666965484619\n",
            "Epoch [31], Loss: 0.7059139609336853\n",
            "Epoch [32], Loss: 0.6197278499603271\n",
            "Epoch [33], Loss: 0.6146057844161987\n",
            "Epoch [34], Loss: 0.5894061923027039\n",
            "Epoch [35], Loss: 0.6133551001548767\n",
            "Epoch [36], Loss: 0.6245327591896057\n",
            "Epoch [37], Loss: 0.5960884690284729\n",
            "Epoch [38], Loss: 0.6705012321472168\n",
            "Epoch [39], Loss: 0.6253974437713623\n",
            "Epoch [40], Loss: 0.6567428112030029\n",
            "Epoch [41], Loss: 0.6434934139251709\n",
            "Epoch [42], Loss: 0.6632937788963318\n",
            "Epoch [43], Loss: 0.5676306486129761\n",
            "Epoch [44], Loss: 0.664943277835846\n",
            "Epoch [45], Loss: 0.5842521786689758\n",
            "Epoch [46], Loss: 0.5688241720199585\n",
            "Epoch [47], Loss: 0.6137804388999939\n",
            "Epoch [48], Loss: 0.607883870601654\n",
            "Epoch [49], Loss: 0.5989887118339539\n",
            "Epoch [50], Loss: 0.6118616461753845\n",
            "Epoch [51], Loss: 0.6480355262756348\n",
            "Epoch [52], Loss: 0.5555189251899719\n",
            "Epoch [53], Loss: 0.6509418487548828\n",
            "Epoch [54], Loss: 0.5502899885177612\n",
            "Epoch [55], Loss: 0.6166217923164368\n",
            "Epoch [56], Loss: 0.6082447171211243\n",
            "Epoch [57], Loss: 0.5738709568977356\n",
            "Epoch [58], Loss: 0.5770822167396545\n",
            "Epoch [59], Loss: 0.6274230480194092\n",
            "Epoch [60], Loss: 0.5915817618370056\n",
            "Epoch [61], Loss: 0.5445959568023682\n",
            "Epoch [62], Loss: 0.5730211734771729\n",
            "Epoch [63], Loss: 0.6167502403259277\n",
            "Epoch [64], Loss: 0.517111599445343\n",
            "Epoch [65], Loss: 0.6481436491012573\n",
            "Epoch [66], Loss: 0.618778645992279\n",
            "Epoch [67], Loss: 0.5856500267982483\n",
            "Epoch [68], Loss: 0.6357972621917725\n",
            "Epoch [69], Loss: 0.5624082088470459\n",
            "Epoch [70], Loss: 0.5608808994293213\n",
            "Epoch [71], Loss: 0.5706599950790405\n",
            "Epoch [72], Loss: 0.5250239372253418\n",
            "Epoch [73], Loss: 0.524142324924469\n",
            "Epoch [74], Loss: 0.5902396440505981\n",
            "Epoch [75], Loss: 0.5595114827156067\n",
            "Epoch [76], Loss: 0.6337031722068787\n",
            "Epoch [77], Loss: 0.5004642009735107\n",
            "Epoch [78], Loss: 0.5495015978813171\n",
            "Epoch [79], Loss: 0.6169150471687317\n",
            "Epoch [80], Loss: 0.6456236243247986\n",
            "Epoch [81], Loss: 0.6439257264137268\n",
            "Epoch [82], Loss: 0.6325321793556213\n",
            "Epoch [83], Loss: 0.5454326272010803\n",
            "Epoch [84], Loss: 0.6096469163894653\n",
            "Epoch [85], Loss: 0.5749624967575073\n",
            "Epoch [86], Loss: 0.5302076935768127\n",
            "Epoch [87], Loss: 0.5328118205070496\n",
            "Epoch [88], Loss: 0.6050952672958374\n",
            "Epoch [89], Loss: 0.48907020688056946\n",
            "Epoch [90], Loss: 0.6605960726737976\n",
            "Epoch [91], Loss: 0.5628987550735474\n",
            "Epoch [92], Loss: 0.6272139549255371\n",
            "Epoch [93], Loss: 0.6177478432655334\n",
            "Epoch [94], Loss: 0.5570999979972839\n",
            "Epoch [95], Loss: 0.5779101848602295\n",
            "Epoch [96], Loss: 0.6399028897285461\n",
            "Epoch [97], Loss: 0.5763609409332275\n",
            "Epoch [98], Loss: 0.5783095359802246\n",
            "Epoch [99], Loss: 0.5554027557373047\n",
            "Epoch [100], Loss: 0.5272505879402161\n",
            "Epoch [101], Loss: 0.6282240152359009\n",
            "Epoch [102], Loss: 0.5310642123222351\n",
            "Epoch [103], Loss: 0.6278396248817444\n",
            "Epoch [104], Loss: 0.5742918252944946\n",
            "Epoch [105], Loss: 0.5580043196678162\n",
            "Epoch [106], Loss: 0.5823963284492493\n",
            "Epoch [107], Loss: 0.5985398292541504\n",
            "Epoch [108], Loss: 0.5314062833786011\n",
            "Epoch [109], Loss: 0.5753239393234253\n",
            "Epoch [110], Loss: 0.5839412808418274\n",
            "Epoch [111], Loss: 0.5810771584510803\n",
            "Epoch [112], Loss: 0.579906702041626\n",
            "Epoch [113], Loss: 0.6428377628326416\n",
            "Epoch [114], Loss: 0.5938255786895752\n",
            "Epoch [115], Loss: 0.585817277431488\n",
            "Epoch [116], Loss: 0.6067298054695129\n",
            "Epoch [117], Loss: 0.5031127333641052\n",
            "Epoch [118], Loss: 0.5608124732971191\n",
            "Epoch [119], Loss: 0.6553486585617065\n",
            "Epoch [120], Loss: 0.5832746028900146\n",
            "Epoch [121], Loss: 0.6786978840827942\n",
            "Epoch [122], Loss: 0.5752627849578857\n",
            "Epoch [123], Loss: 0.5442255735397339\n",
            "Epoch [124], Loss: 0.5977298021316528\n",
            "Epoch [125], Loss: 0.5556926131248474\n",
            "Epoch [126], Loss: 0.5378873944282532\n",
            "Epoch [127], Loss: 0.5234923958778381\n",
            "Epoch [128], Loss: 0.621322512626648\n",
            "Epoch [129], Loss: 0.5331461429595947\n",
            "Epoch [130], Loss: 0.5977572798728943\n",
            "Epoch [131], Loss: 0.5454903841018677\n",
            "Epoch [132], Loss: 0.5320134162902832\n",
            "Epoch [133], Loss: 0.571232259273529\n",
            "Epoch [134], Loss: 0.5894468426704407\n",
            "Epoch [135], Loss: 0.5772261023521423\n",
            "Epoch [136], Loss: 0.6143556833267212\n",
            "Epoch [137], Loss: 0.4913679361343384\n",
            "Epoch [138], Loss: 0.5515539050102234\n",
            "Epoch [139], Loss: 0.5927566885948181\n",
            "Epoch [140], Loss: 0.5880498290061951\n",
            "Epoch [141], Loss: 0.49928486347198486\n",
            "Epoch [142], Loss: 0.6032701730728149\n",
            "Epoch [143], Loss: 0.6005215048789978\n",
            "Epoch [144], Loss: 0.6226291656494141\n",
            "Epoch [145], Loss: 0.5537675619125366\n",
            "Epoch [146], Loss: 0.5694532990455627\n",
            "Epoch [147], Loss: 0.5228109955787659\n",
            "Epoch [148], Loss: 0.47292274236679077\n",
            "Epoch [149], Loss: 0.5573575496673584\n",
            "Epoch [150], Loss: 0.6005838513374329\n",
            "Epoch [151], Loss: 0.5361248254776001\n",
            "Epoch [152], Loss: 0.5685871839523315\n",
            "Epoch [153], Loss: 0.5564373731613159\n",
            "Epoch [154], Loss: 0.6060301065444946\n",
            "Epoch [155], Loss: 0.5346186757087708\n",
            "Epoch [156], Loss: 0.5648520588874817\n",
            "Epoch [157], Loss: 0.634472668170929\n",
            "Epoch [158], Loss: 0.6019800901412964\n",
            "Epoch [159], Loss: 0.5759989023208618\n",
            "Epoch [160], Loss: 0.5694289803504944\n",
            "Epoch [161], Loss: 0.6234936714172363\n",
            "Epoch [162], Loss: 0.5606714487075806\n",
            "Epoch [163], Loss: 0.5940450429916382\n",
            "Epoch [164], Loss: 0.6053429245948792\n",
            "Epoch [165], Loss: 0.5740122199058533\n",
            "Epoch [166], Loss: 0.6167448163032532\n",
            "Epoch [167], Loss: 0.5312707424163818\n",
            "Epoch [168], Loss: 0.5968766808509827\n",
            "Epoch [169], Loss: 0.5635044574737549\n",
            "Epoch [170], Loss: 0.5109642744064331\n",
            "Epoch [171], Loss: 0.5955141186714172\n",
            "Epoch [172], Loss: 0.5590856671333313\n",
            "Epoch [173], Loss: 0.6101371645927429\n",
            "Epoch [174], Loss: 0.5446088910102844\n",
            "Epoch [175], Loss: 0.49981722235679626\n",
            "Epoch [176], Loss: 0.5309526324272156\n",
            "Epoch [177], Loss: 0.5571991205215454\n",
            "Epoch [178], Loss: 0.5504708290100098\n",
            "Epoch [179], Loss: 0.5340976119041443\n",
            "Epoch [180], Loss: 0.4820159375667572\n",
            "Epoch [181], Loss: 0.5785360932350159\n",
            "Epoch [182], Loss: 0.5774006843566895\n",
            "Epoch [183], Loss: 0.59617680311203\n",
            "Epoch [184], Loss: 0.541704535484314\n",
            "Epoch [185], Loss: 0.5529619455337524\n",
            "Epoch [186], Loss: 0.6180019974708557\n",
            "Epoch [187], Loss: 0.5290078520774841\n",
            "Epoch [188], Loss: 0.5261185169219971\n",
            "Epoch [189], Loss: 0.5354796648025513\n",
            "Epoch [190], Loss: 0.578414261341095\n",
            "Epoch [191], Loss: 0.5225239396095276\n",
            "Epoch [192], Loss: 0.5162002444267273\n",
            "Epoch [193], Loss: 0.5566311478614807\n",
            "Epoch [194], Loss: 0.5498164296150208\n",
            "Epoch [195], Loss: 0.5265618562698364\n",
            "Epoch [196], Loss: 0.5324780344963074\n",
            "Epoch [197], Loss: 0.5688700675964355\n",
            "Epoch [198], Loss: 0.5447515845298767\n",
            "Epoch [199], Loss: 0.5947784185409546\n",
            "Epoch [200], Loss: 0.5596529841423035\n",
            "Epoch [201], Loss: 0.5069228410720825\n",
            "Epoch [202], Loss: 0.5511935353279114\n",
            "Epoch [203], Loss: 0.5630470514297485\n",
            "Epoch [204], Loss: 0.557763397693634\n",
            "Epoch [205], Loss: 0.6323464512825012\n",
            "Epoch [206], Loss: 0.51541668176651\n",
            "Epoch [207], Loss: 0.5615797638893127\n",
            "Epoch [208], Loss: 0.5859552621841431\n",
            "Epoch [209], Loss: 0.5607476234436035\n",
            "Epoch [210], Loss: 0.5793195962905884\n",
            "Epoch [211], Loss: 0.6134200692176819\n",
            "Epoch [212], Loss: 0.5613592267036438\n",
            "Epoch [213], Loss: 0.5455382466316223\n",
            "Epoch [214], Loss: 0.5324176549911499\n",
            "Epoch [215], Loss: 0.5697454810142517\n",
            "Epoch [216], Loss: 0.5903758406639099\n",
            "Epoch [217], Loss: 0.5682341456413269\n",
            "Epoch [218], Loss: 0.5156404972076416\n",
            "Epoch [219], Loss: 0.47221773862838745\n",
            "Epoch [220], Loss: 0.5733831524848938\n",
            "Epoch [221], Loss: 0.47212526202201843\n",
            "Epoch [222], Loss: 0.5069171786308289\n",
            "Epoch [223], Loss: 0.5379698276519775\n",
            "Epoch [224], Loss: 0.5786674618721008\n",
            "Epoch [225], Loss: 0.5012444257736206\n",
            "Epoch [226], Loss: 0.570766031742096\n",
            "Epoch [227], Loss: 0.5168494582176208\n",
            "Epoch [228], Loss: 0.5608577132225037\n",
            "Epoch [229], Loss: 0.5433946847915649\n",
            "Epoch [230], Loss: 0.5602671504020691\n",
            "Epoch [231], Loss: 0.5162663459777832\n",
            "Epoch [232], Loss: 0.6390228867530823\n",
            "Epoch [233], Loss: 0.438743531703949\n",
            "Epoch [234], Loss: 0.5819485783576965\n",
            "Epoch [235], Loss: 0.4934805929660797\n",
            "Epoch [236], Loss: 0.5175658464431763\n",
            "Epoch [237], Loss: 0.5084162354469299\n",
            "Epoch [238], Loss: 0.6087713837623596\n",
            "Epoch [239], Loss: 0.6099486947059631\n",
            "Epoch [240], Loss: 0.5933169722557068\n",
            "Epoch [241], Loss: 0.5215161442756653\n",
            "Epoch [242], Loss: 0.4700586199760437\n",
            "Epoch [243], Loss: 0.5624699592590332\n",
            "Epoch [244], Loss: 0.4960567057132721\n",
            "Epoch [245], Loss: 0.551329493522644\n",
            "Epoch [246], Loss: 0.5577470064163208\n",
            "Epoch [247], Loss: 0.5023191571235657\n",
            "Epoch [248], Loss: 0.5762096047401428\n",
            "Epoch [249], Loss: 0.5275821089744568\n",
            "Epoch [250], Loss: 0.6190963983535767\n",
            "Epoch [251], Loss: 0.5330110192298889\n",
            "Epoch [252], Loss: 0.5369810461997986\n",
            "Epoch [253], Loss: 0.49537193775177\n",
            "Epoch [254], Loss: 0.5577847957611084\n",
            "Epoch [255], Loss: 0.5905178189277649\n",
            "Epoch [256], Loss: 0.6287901997566223\n",
            "Epoch [257], Loss: 0.5269628167152405\n",
            "Epoch [258], Loss: 0.5068910121917725\n",
            "Epoch [259], Loss: 0.588782012462616\n",
            "Epoch [260], Loss: 0.5305942893028259\n",
            "Epoch [261], Loss: 0.5297960042953491\n",
            "Epoch [262], Loss: 0.5253612399101257\n",
            "Epoch [263], Loss: 0.5719254612922668\n",
            "Epoch [264], Loss: 0.5539141297340393\n",
            "Epoch [265], Loss: 0.5441164374351501\n",
            "Epoch [266], Loss: 0.5292078256607056\n",
            "Epoch [267], Loss: 0.4919432997703552\n",
            "Epoch [268], Loss: 0.5394399166107178\n",
            "Epoch [269], Loss: 0.5384098887443542\n",
            "Epoch [270], Loss: 0.5137736797332764\n",
            "Epoch [271], Loss: 0.5959022641181946\n",
            "Epoch [272], Loss: 0.5657204389572144\n",
            "Epoch [273], Loss: 0.5118588209152222\n",
            "Epoch [274], Loss: 0.49622830748558044\n",
            "Epoch [275], Loss: 0.6702855825424194\n",
            "Epoch [276], Loss: 0.5433551073074341\n",
            "Epoch [277], Loss: 0.5495218634605408\n",
            "Epoch [278], Loss: 0.5791037082672119\n",
            "Epoch [279], Loss: 0.5674355030059814\n",
            "Epoch [280], Loss: 0.5303400158882141\n",
            "Epoch [281], Loss: 0.5309969782829285\n",
            "Epoch [282], Loss: 0.6396254301071167\n",
            "Epoch [283], Loss: 0.581676185131073\n",
            "Epoch [284], Loss: 0.5978923439979553\n",
            "Epoch [285], Loss: 0.49166521430015564\n",
            "Epoch [286], Loss: 0.5538874268531799\n",
            "Epoch [287], Loss: 0.5211608409881592\n",
            "Epoch [288], Loss: 0.5414316058158875\n",
            "Epoch [289], Loss: 0.520595133304596\n",
            "Epoch [290], Loss: 0.563887357711792\n",
            "Epoch [291], Loss: 0.5242922306060791\n",
            "Epoch [292], Loss: 0.5141738057136536\n",
            "Epoch [293], Loss: 0.6358651518821716\n",
            "Epoch [294], Loss: 0.5204975605010986\n",
            "Epoch [295], Loss: 0.49761512875556946\n",
            "Epoch [296], Loss: 0.5392235517501831\n",
            "Epoch [297], Loss: 0.5138179659843445\n",
            "Epoch [298], Loss: 0.5177484154701233\n",
            "Epoch [299], Loss: 0.5026088356971741\n",
            "Epoch [300], Loss: 0.5003491044044495\n",
            "Epoch [301], Loss: 0.537299633026123\n",
            "Epoch [302], Loss: 0.5600989460945129\n",
            "Epoch [303], Loss: 0.5464747548103333\n",
            "Epoch [304], Loss: 0.5206617116928101\n",
            "Epoch [305], Loss: 0.545428454875946\n",
            "Epoch [306], Loss: 0.5465676784515381\n",
            "Epoch [307], Loss: 0.45206359028816223\n",
            "Epoch [308], Loss: 0.5461367964744568\n",
            "Epoch [309], Loss: 0.5151525735855103\n",
            "Epoch [310], Loss: 0.5926660895347595\n",
            "Epoch [311], Loss: 0.6355634927749634\n",
            "Epoch [312], Loss: 0.5807994604110718\n",
            "Epoch [313], Loss: 0.46344470977783203\n",
            "Epoch [314], Loss: 0.5267934203147888\n",
            "Epoch [315], Loss: 0.5630457401275635\n",
            "Epoch [316], Loss: 0.5109414458274841\n",
            "Epoch [317], Loss: 0.47473976016044617\n",
            "Epoch [318], Loss: 0.5853257775306702\n",
            "Epoch [319], Loss: 0.531056821346283\n",
            "Epoch [320], Loss: 0.5260770916938782\n",
            "Epoch [321], Loss: 0.5570849180221558\n",
            "Epoch [322], Loss: 0.5490003228187561\n",
            "Epoch [323], Loss: 0.5422512292861938\n",
            "Epoch [324], Loss: 0.5088263750076294\n",
            "Epoch [325], Loss: 0.43170666694641113\n",
            "Epoch [326], Loss: 0.6498091816902161\n",
            "Epoch [327], Loss: 0.5046680569648743\n",
            "Epoch [328], Loss: 0.542408287525177\n",
            "Epoch [329], Loss: 0.6068863272666931\n",
            "Epoch [330], Loss: 0.5697463750839233\n",
            "Epoch [331], Loss: 0.49371853470802307\n",
            "Epoch [332], Loss: 0.48983848094940186\n",
            "Epoch [333], Loss: 0.5550798773765564\n",
            "Epoch [334], Loss: 0.5763345956802368\n",
            "Epoch [335], Loss: 0.5272504687309265\n",
            "Epoch [336], Loss: 0.4828169047832489\n",
            "Epoch [337], Loss: 0.5786628127098083\n",
            "Epoch [338], Loss: 0.5353087186813354\n",
            "Epoch [339], Loss: 0.5064969062805176\n",
            "Epoch [340], Loss: 0.5312463641166687\n",
            "Epoch [341], Loss: 0.5189033150672913\n",
            "Epoch [342], Loss: 0.49611344933509827\n",
            "Epoch [343], Loss: 0.5295441746711731\n",
            "Epoch [344], Loss: 0.5246418714523315\n",
            "Epoch [345], Loss: 0.5498213171958923\n",
            "Epoch [346], Loss: 0.5603182315826416\n",
            "Epoch [347], Loss: 0.6172738075256348\n",
            "Epoch [348], Loss: 0.5341607332229614\n",
            "Epoch [349], Loss: 0.5468298196792603\n",
            "Epoch [350], Loss: 0.5517730712890625\n",
            "Epoch [351], Loss: 0.613669216632843\n",
            "Epoch [352], Loss: 0.5121546387672424\n",
            "Epoch [353], Loss: 0.5216458439826965\n",
            "Epoch [354], Loss: 0.5266438126564026\n",
            "Epoch [355], Loss: 0.5414801836013794\n",
            "Epoch [356], Loss: 0.5081098079681396\n",
            "Epoch [357], Loss: 0.5758910775184631\n",
            "Epoch [358], Loss: 0.5867117047309875\n",
            "Epoch [359], Loss: 0.5552220940589905\n",
            "Epoch [360], Loss: 0.4973423182964325\n",
            "Epoch [361], Loss: 0.5637754797935486\n",
            "Epoch [362], Loss: 0.6033575534820557\n",
            "Epoch [363], Loss: 0.5699312686920166\n",
            "Epoch [364], Loss: 0.583200991153717\n",
            "Epoch [365], Loss: 0.5122069120407104\n",
            "Epoch [366], Loss: 0.5048741102218628\n",
            "Epoch [367], Loss: 0.4727499485015869\n",
            "Epoch [368], Loss: 0.5553192496299744\n",
            "Epoch [369], Loss: 0.5644732117652893\n",
            "Epoch [370], Loss: 0.5559385418891907\n",
            "Epoch [371], Loss: 0.5141205191612244\n",
            "Epoch [372], Loss: 0.6460347175598145\n",
            "Epoch [373], Loss: 0.445962131023407\n",
            "Epoch [374], Loss: 0.550207793712616\n",
            "Epoch [375], Loss: 0.4961627125740051\n",
            "Epoch [376], Loss: 0.396797239780426\n",
            "Epoch [377], Loss: 0.47953593730926514\n",
            "Epoch [378], Loss: 0.6357885003089905\n",
            "Epoch [379], Loss: 0.6267173290252686\n",
            "Epoch [380], Loss: 0.5708174109458923\n",
            "Epoch [381], Loss: 0.6134030818939209\n",
            "Epoch [382], Loss: 0.48578548431396484\n",
            "Epoch [383], Loss: 0.6418270468711853\n",
            "Epoch [384], Loss: 0.5433259606361389\n",
            "Epoch [385], Loss: 0.5441458821296692\n",
            "Epoch [386], Loss: 0.5152639746665955\n",
            "Epoch [387], Loss: 0.44803979992866516\n",
            "Epoch [388], Loss: 0.5200860500335693\n",
            "Epoch [389], Loss: 0.5852972269058228\n",
            "Epoch [390], Loss: 0.5755502581596375\n",
            "Epoch [391], Loss: 0.6038016080856323\n",
            "Epoch [392], Loss: 0.5551416873931885\n",
            "Epoch [393], Loss: 0.6277307271957397\n",
            "Epoch [394], Loss: 0.5452947020530701\n",
            "Epoch [395], Loss: 0.5286158323287964\n",
            "Epoch [396], Loss: 0.5947114825248718\n",
            "Epoch [397], Loss: 0.5388025045394897\n",
            "Epoch [398], Loss: 0.4825228154659271\n",
            "Epoch [399], Loss: 0.6115651726722717\n",
            "Epoch [400], Loss: 0.521621584892273\n",
            "Epoch [401], Loss: 0.6666305065155029\n",
            "Epoch [402], Loss: 0.5845871567726135\n",
            "Epoch [403], Loss: 0.466336190700531\n",
            "Epoch [404], Loss: 0.5691952109336853\n",
            "Epoch [405], Loss: 0.5739102363586426\n",
            "Epoch [406], Loss: 0.5678349137306213\n",
            "Epoch [407], Loss: 0.5543379187583923\n",
            "Epoch [408], Loss: 0.5511954426765442\n",
            "Epoch [409], Loss: 0.5890123844146729\n",
            "Epoch [410], Loss: 0.5807327032089233\n",
            "Epoch [411], Loss: 0.4919590353965759\n",
            "Epoch [412], Loss: 0.5543137192726135\n",
            "Epoch [413], Loss: 0.521474301815033\n",
            "Epoch [414], Loss: 0.49379369616508484\n",
            "Epoch [415], Loss: 0.5656296610832214\n",
            "Epoch [416], Loss: 0.6108716726303101\n",
            "Epoch [417], Loss: 0.42905405163764954\n",
            "Epoch [418], Loss: 0.5249679088592529\n",
            "Epoch [419], Loss: 0.5784060955047607\n",
            "Epoch [420], Loss: 0.5635164976119995\n",
            "Epoch [421], Loss: 0.4289416968822479\n",
            "Epoch [422], Loss: 0.5272925496101379\n",
            "Epoch [423], Loss: 0.5339316725730896\n",
            "Epoch [424], Loss: 0.49733543395996094\n",
            "Epoch [425], Loss: 0.608980655670166\n",
            "Epoch [426], Loss: 0.5926402807235718\n",
            "Epoch [427], Loss: 0.5496463179588318\n",
            "Epoch [428], Loss: 0.5005900263786316\n",
            "Epoch [429], Loss: 0.5139915943145752\n",
            "Epoch [430], Loss: 0.6056084632873535\n",
            "Epoch [431], Loss: 0.549130916595459\n",
            "Epoch [432], Loss: 0.48649123311042786\n",
            "Epoch [433], Loss: 0.5363187193870544\n",
            "Epoch [434], Loss: 0.524661660194397\n",
            "Epoch [435], Loss: 0.5721985101699829\n",
            "Epoch [436], Loss: 0.46680107712745667\n",
            "Epoch [437], Loss: 0.508234441280365\n",
            "Epoch [438], Loss: 0.5382052659988403\n",
            "Epoch [439], Loss: 0.5510244965553284\n",
            "Epoch [440], Loss: 0.544075608253479\n",
            "Epoch [441], Loss: 0.587236762046814\n",
            "Epoch [442], Loss: 0.4936564564704895\n",
            "Epoch [443], Loss: 0.5084941387176514\n",
            "Epoch [444], Loss: 0.49292466044425964\n",
            "Epoch [445], Loss: 0.5707769989967346\n",
            "Epoch [446], Loss: 0.5106925368309021\n",
            "Epoch [447], Loss: 0.6128464937210083\n",
            "Epoch [448], Loss: 0.5010681748390198\n",
            "Epoch [449], Loss: 0.518686830997467\n",
            "Epoch [450], Loss: 0.5165559649467468\n",
            "Epoch [451], Loss: 0.5382834672927856\n",
            "Epoch [452], Loss: 0.5705618262290955\n",
            "Epoch [453], Loss: 0.4554723799228668\n",
            "Epoch [454], Loss: 0.5532642006874084\n",
            "Epoch [455], Loss: 0.5405299067497253\n",
            "Epoch [456], Loss: 0.5460920929908752\n",
            "Epoch [457], Loss: 0.545844554901123\n",
            "Epoch [458], Loss: 0.539635419845581\n",
            "Epoch [459], Loss: 0.6136487126350403\n",
            "Epoch [460], Loss: 0.49141034483909607\n",
            "Epoch [461], Loss: 0.5822635293006897\n",
            "Epoch [462], Loss: 0.6049906611442566\n",
            "Epoch [463], Loss: 0.5291207432746887\n",
            "Epoch [464], Loss: 0.4966815114021301\n",
            "Epoch [465], Loss: 0.48707693815231323\n",
            "Epoch [466], Loss: 0.5555941462516785\n",
            "Epoch [467], Loss: 0.5221534967422485\n",
            "Epoch [468], Loss: 0.5777618288993835\n",
            "Epoch [469], Loss: 0.53687983751297\n",
            "Epoch [470], Loss: 0.5668342709541321\n",
            "Epoch [471], Loss: 0.5202879905700684\n",
            "Epoch [472], Loss: 0.5351007580757141\n",
            "Epoch [473], Loss: 0.5594016909599304\n",
            "Epoch [474], Loss: 0.526366651058197\n",
            "Epoch [475], Loss: 0.6219245195388794\n",
            "Epoch [476], Loss: 0.49672189354896545\n",
            "Epoch [477], Loss: 0.522644579410553\n",
            "Epoch [478], Loss: 0.5390605926513672\n",
            "Epoch [479], Loss: 0.5696579813957214\n",
            "Epoch [480], Loss: 0.5337753295898438\n",
            "Epoch [481], Loss: 0.5286380648612976\n",
            "Epoch [482], Loss: 0.4498361051082611\n",
            "Epoch [483], Loss: 0.5227600932121277\n",
            "Epoch [484], Loss: 0.5755802989006042\n",
            "Epoch [485], Loss: 0.5034632682800293\n",
            "Epoch [486], Loss: 0.48448458313941956\n",
            "Epoch [487], Loss: 0.48852163553237915\n",
            "Epoch [488], Loss: 0.5422617793083191\n",
            "Epoch [489], Loss: 0.48896652460098267\n",
            "Epoch [490], Loss: 0.6269494295120239\n",
            "Epoch [491], Loss: 0.5100669860839844\n",
            "Epoch [492], Loss: 0.5460329651832581\n",
            "Epoch [493], Loss: 0.4718450605869293\n",
            "Epoch [494], Loss: 0.5072870850563049\n",
            "Epoch [495], Loss: 0.5343830585479736\n",
            "Epoch [496], Loss: 0.5085726976394653\n",
            "Epoch [497], Loss: 0.5643985867500305\n",
            "Epoch [498], Loss: 0.5054558515548706\n",
            "Epoch [499], Loss: 0.5000573992729187\n",
            "Epoch [500], Loss: 0.5526546835899353\n"
          ]
        }
      ]
    },
    {
      "cell_type": "code",
      "source": [
        "plt.plot(np.arange(0,500),losses)"
      ],
      "metadata": {
        "colab": {
          "base_uri": "https://localhost:8080/",
          "height": 448
        },
        "id": "20bDm5Ngd3WZ",
        "outputId": "2b63d200-4047-4857-be53-dbc758b6146a"
      },
      "execution_count": 35,
      "outputs": [
        {
          "output_type": "execute_result",
          "data": {
            "text/plain": [
              "[<matplotlib.lines.Line2D at 0x7b5faf5c5d20>]"
            ]
          },
          "metadata": {},
          "execution_count": 35
        },
        {
          "output_type": "display_data",
          "data": {
            "text/plain": [
              "<Figure size 640x480 with 1 Axes>"
            ],
            "image/png": "[encoded data removed]"
          },
          "metadata": {}
        }
      ]
    },
    {
      "cell_type": "code",
      "source": [
        "model.eval()\n",
        "with torch.no_grad():\n",
        "    y_pred = model(X_train_t)\n",
        "    y_pred = (y_pred >= 0.5).float()\n",
        "    accuracy = (y_pred == y_train_t.view(-1, 1)).float().mean()\n",
        "    print(f'Accuracy on train set: {accuracy.item()}')\n",
        "print()\n",
        "print('TRAIN DATA')\n",
        "print('---------------------')\n",
        "print('accuracy:', accuracy_score(y_train,y_pred))\n",
        "print('precision:', precision_score(y_train,y_pred))\n",
        "print('sensitivity:', recall_score(y_train,y_pred,pos_label=0))\n",
        "print('f1:', f1_score(y_train,y_pred))"
      ],
      "metadata": {
        "colab": {
          "base_uri": "https://localhost:8080/"
        },
        "id": "lFMUEibmslNA",
        "outputId": "cd946f8f-96eb-4370-e83f-f16ac8738bdd"
      },
      "execution_count": 36,
      "outputs": [
        {
          "output_type": "stream",
          "name": "stdout",
          "text": [
            "Accuracy on train set: 0.7644151449203491\n",
            "\n",
            "TRAIN DATA\n",
            "---------------------\n",
            "accuracy: 0.7644151565074135\n",
            "precision: 0.8469945355191257\n",
            "sensitivity: 0.7333333333333333\n",
            "f1: 0.8125819134993447\n"
          ]
        }
      ]
    },
    {
      "cell_type": "code",
      "source": [
        "model.eval()\n",
        "with torch.no_grad():\n",
        "    y_pred = model(X_test_t)\n",
        "    y_pred = (y_pred >= 0.5).float()\n",
        "    accuracy = (y_pred == y_test_t.view(-1, 1)).float().mean()\n",
        "    print(f'Accuracy on test set: {accuracy.item()}')\n",
        "print()\n",
        "print('TEST')\n",
        "print('---------------------')\n",
        "print('accuracy:', accuracy_score(y_test,y_pred))\n",
        "print('precision:', precision_score(y_test,y_pred))\n",
        "print('sensitivity:', recall_score(y_test,y_pred,pos_label=0))\n",
        "print('f1:', f1_score(y_test,y_pred))"
      ],
      "metadata": {
        "colab": {
          "base_uri": "https://localhost:8080/"
        },
        "id": "Yi5KCB7zslNA",
        "outputId": "bee43db2-f508-4ccf-887e-16588bd0d2ab"
      },
      "execution_count": 37,
      "outputs": [
        {
          "output_type": "stream",
          "name": "stdout",
          "text": [
            "Accuracy on test set: 0.7894737124443054\n",
            "\n",
            "TEST\n",
            "---------------------\n",
            "accuracy: 0.7894736842105263\n",
            "precision: 0.845360824742268\n",
            "sensitivity: 0.7169811320754716\n",
            "f1: 0.836734693877551\n"
          ]
        }
      ]
    },
    {
      "cell_type": "markdown",
      "source": [
        "Model fails to converge which indicates that there might be optimizations that can be made."
      ],
      "metadata": {
        "id": "25IYRIxmdtfW"
      }
    },
    {
      "cell_type": "markdown",
      "source": [
        "## SLP with Xavier Initialization"
      ],
      "metadata": {
        "id": "lCJ56w17ezQi"
      }
    },
    {
      "cell_type": "code",
      "source": [
        "# https://stackoverflow.com/questions/49433936/how-do-i-initialize-weights-in-pytorch\n",
        "class SingleLayerNet(torch.nn.Module):\n",
        "    def __init__(self, input_size):\n",
        "        super(SingleLayerNet, self).__init__()\n",
        "        self.input_layer = torch.nn.Linear(input_size, 1)\n",
        "        torch.nn.init.xavier_uniform_(self.input_layer.weight,gain=1)\n",
        "\n",
        "    #Define how forward-pass\n",
        "    def forward(self, x):\n",
        "        y_pred = torch.tanh(self.input_layer(x))\n",
        "        return y_pred\n",
        "\n",
        "# create the model\n",
        "# 8 is the number of weights in the neural net\n",
        "model = SingleLayerNet(df.shape[1]-1)\n",
        "\n",
        "# Define the loss function (criterion)\n",
        "criterion = torch.nn.BCEWithLogitsLoss()\n",
        "\n",
        "# Create an optimizer (Adam)\n",
        "optimizer = torch.optim.Adam(model.parameters(), lr=5e-4)\n",
        "\n",
        "# Define the training loop\n",
        "epochs = 500\n",
        "losses = []\n",
        "for epoch in range(epochs):\n",
        "    for inputs, labels in train_loader:\n",
        "        optimizer.zero_grad()\n",
        "        outputs = model(inputs)\n",
        "        loss = criterion(outputs, labels.view(-1, 1))\n",
        "        loss.backward()\n",
        "        optimizer.step()\n",
        "    losses.append(loss.item())\n",
        "    print(f'Epoch [{epoch+1}], Loss: {loss.item()}')\n",
        "\n",
        "plt.plot(np.arange(0,epochs),losses)"
      ],
      "metadata": {
        "colab": {
          "base_uri": "https://localhost:8080/",
          "height": 1000
        },
        "id": "_cXyDQBceyxE",
        "outputId": "b8cedf7b-b060-4945-8563-d6780a718245"
      },
      "execution_count": 38,
      "outputs": [
        {
          "output_type": "stream",
          "name": "stdout",
          "text": [
            "Epoch [1], Loss: 0.8976134061813354\n",
            "Epoch [2], Loss: 0.8645283579826355\n",
            "Epoch [3], Loss: 0.9619789123535156\n",
            "Epoch [4], Loss: 0.8101030588150024\n",
            "Epoch [5], Loss: 0.8017512559890747\n",
            "Epoch [6], Loss: 0.8164370059967041\n",
            "Epoch [7], Loss: 0.811852753162384\n",
            "Epoch [8], Loss: 0.7581180930137634\n",
            "Epoch [9], Loss: 0.755916953086853\n",
            "Epoch [10], Loss: 0.790780782699585\n",
            "Epoch [11], Loss: 0.8013076782226562\n",
            "Epoch [12], Loss: 0.8006760478019714\n",
            "Epoch [13], Loss: 0.7431321740150452\n",
            "Epoch [14], Loss: 0.72295743227005\n",
            "Epoch [15], Loss: 0.7493851184844971\n",
            "Epoch [16], Loss: 0.6590389013290405\n",
            "Epoch [17], Loss: 0.6982900500297546\n",
            "Epoch [18], Loss: 0.7211080193519592\n",
            "Epoch [19], Loss: 0.7084770798683167\n",
            "Epoch [20], Loss: 0.7143956422805786\n",
            "Epoch [21], Loss: 0.6417898535728455\n",
            "Epoch [22], Loss: 0.6679824590682983\n",
            "Epoch [23], Loss: 0.6798458099365234\n",
            "Epoch [24], Loss: 0.638542890548706\n",
            "Epoch [25], Loss: 0.6802723407745361\n",
            "Epoch [26], Loss: 0.6807156801223755\n",
            "Epoch [27], Loss: 0.6569176912307739\n",
            "Epoch [28], Loss: 0.6643646955490112\n",
            "Epoch [29], Loss: 0.6673815846443176\n",
            "Epoch [30], Loss: 0.631984531879425\n",
            "Epoch [31], Loss: 0.5919677019119263\n",
            "Epoch [32], Loss: 0.6007505059242249\n",
            "Epoch [33], Loss: 0.6158030033111572\n",
            "Epoch [34], Loss: 0.6583759188652039\n",
            "Epoch [35], Loss: 0.6142222881317139\n",
            "Epoch [36], Loss: 0.6164494156837463\n",
            "Epoch [37], Loss: 0.6585103869438171\n",
            "Epoch [38], Loss: 0.6574558019638062\n",
            "Epoch [39], Loss: 0.5909355878829956\n",
            "Epoch [40], Loss: 0.6158713102340698\n",
            "Epoch [41], Loss: 0.6468073725700378\n",
            "Epoch [42], Loss: 0.6653119921684265\n",
            "Epoch [43], Loss: 0.6680112481117249\n",
            "Epoch [44], Loss: 0.6352512240409851\n",
            "Epoch [45], Loss: 0.6122474670410156\n",
            "Epoch [46], Loss: 0.6256795525550842\n",
            "Epoch [47], Loss: 0.6540423631668091\n",
            "Epoch [48], Loss: 0.6123299598693848\n",
            "Epoch [49], Loss: 0.6065142750740051\n",
            "Epoch [50], Loss: 0.550148606300354\n",
            "Epoch [51], Loss: 0.6318956613540649\n",
            "Epoch [52], Loss: 0.5748584866523743\n",
            "Epoch [53], Loss: 0.6443057060241699\n",
            "Epoch [54], Loss: 0.614662766456604\n",
            "Epoch [55], Loss: 0.5973101258277893\n",
            "Epoch [56], Loss: 0.6413342952728271\n",
            "Epoch [57], Loss: 0.5648873448371887\n",
            "Epoch [58], Loss: 0.6042673587799072\n",
            "Epoch [59], Loss: 0.5974001884460449\n",
            "Epoch [60], Loss: 0.6287200450897217\n",
            "Epoch [61], Loss: 0.61298668384552\n",
            "Epoch [62], Loss: 0.6334365010261536\n",
            "Epoch [63], Loss: 0.5375592708587646\n",
            "Epoch [64], Loss: 0.6072235107421875\n",
            "Epoch [65], Loss: 0.552084743976593\n",
            "Epoch [66], Loss: 0.5436882972717285\n",
            "Epoch [67], Loss: 0.563289225101471\n",
            "Epoch [68], Loss: 0.6025051474571228\n",
            "Epoch [69], Loss: 0.5919413566589355\n",
            "Epoch [70], Loss: 0.5872066617012024\n",
            "Epoch [71], Loss: 0.5756493806838989\n",
            "Epoch [72], Loss: 0.603400707244873\n",
            "Epoch [73], Loss: 0.5671828985214233\n",
            "Epoch [74], Loss: 0.6100192666053772\n",
            "Epoch [75], Loss: 0.5688358545303345\n",
            "Epoch [76], Loss: 0.5185737013816833\n",
            "Epoch [77], Loss: 0.6167539358139038\n",
            "Epoch [78], Loss: 0.6638085842132568\n",
            "Epoch [79], Loss: 0.591368556022644\n",
            "Epoch [80], Loss: 0.5421195030212402\n",
            "Epoch [81], Loss: 0.5885190367698669\n",
            "Epoch [82], Loss: 0.5997880697250366\n",
            "Epoch [83], Loss: 0.5791505575180054\n",
            "Epoch [84], Loss: 0.5780150890350342\n",
            "Epoch [85], Loss: 0.5720305442810059\n",
            "Epoch [86], Loss: 0.6391190886497498\n",
            "Epoch [87], Loss: 0.5648947954177856\n",
            "Epoch [88], Loss: 0.6135563850402832\n",
            "Epoch [89], Loss: 0.5922186970710754\n",
            "Epoch [90], Loss: 0.6178300976753235\n",
            "Epoch [91], Loss: 0.548973798751831\n",
            "Epoch [92], Loss: 0.623058557510376\n",
            "Epoch [93], Loss: 0.6400662064552307\n",
            "Epoch [94], Loss: 0.5551379919052124\n",
            "Epoch [95], Loss: 0.551323652267456\n",
            "Epoch [96], Loss: 0.5021671056747437\n",
            "Epoch [97], Loss: 0.5467202067375183\n",
            "Epoch [98], Loss: 0.6869481205940247\n",
            "Epoch [99], Loss: 0.5637758374214172\n",
            "Epoch [100], Loss: 0.5485649108886719\n",
            "Epoch [101], Loss: 0.5418722033500671\n",
            "Epoch [102], Loss: 0.5805760622024536\n",
            "Epoch [103], Loss: 0.5726271271705627\n",
            "Epoch [104], Loss: 0.6310967206954956\n",
            "Epoch [105], Loss: 0.5741484761238098\n",
            "Epoch [106], Loss: 0.5574366450309753\n",
            "Epoch [107], Loss: 0.5475443005561829\n",
            "Epoch [108], Loss: 0.5360485911369324\n",
            "Epoch [109], Loss: 0.5711255073547363\n",
            "Epoch [110], Loss: 0.5265127420425415\n",
            "Epoch [111], Loss: 0.6206035614013672\n",
            "Epoch [112], Loss: 0.5654604434967041\n",
            "Epoch [113], Loss: 0.5719958543777466\n",
            "Epoch [114], Loss: 0.5107806921005249\n",
            "Epoch [115], Loss: 0.569527804851532\n",
            "Epoch [116], Loss: 0.6154465675354004\n",
            "Epoch [117], Loss: 0.5881147980690002\n",
            "Epoch [118], Loss: 0.5389273762702942\n",
            "Epoch [119], Loss: 0.6633172035217285\n",
            "Epoch [120], Loss: 0.5074416995048523\n",
            "Epoch [121], Loss: 0.5837319493293762\n",
            "Epoch [122], Loss: 0.513043999671936\n",
            "Epoch [123], Loss: 0.5963322520256042\n",
            "Epoch [124], Loss: 0.5297732353210449\n",
            "Epoch [125], Loss: 0.5709179043769836\n",
            "Epoch [126], Loss: 0.6452428102493286\n",
            "Epoch [127], Loss: 0.6019148230552673\n",
            "Epoch [128], Loss: 0.6245470643043518\n",
            "Epoch [129], Loss: 0.5136176347732544\n",
            "Epoch [130], Loss: 0.5986580848693848\n",
            "Epoch [131], Loss: 0.46495693922042847\n",
            "Epoch [132], Loss: 0.5915198922157288\n",
            "Epoch [133], Loss: 0.575079083442688\n",
            "Epoch [134], Loss: 0.5658899545669556\n",
            "Epoch [135], Loss: 0.5410460829734802\n",
            "Epoch [136], Loss: 0.5869429707527161\n",
            "Epoch [137], Loss: 0.5387932658195496\n",
            "Epoch [138], Loss: 0.5160349607467651\n",
            "Epoch [139], Loss: 0.6323595643043518\n",
            "Epoch [140], Loss: 0.5404447913169861\n",
            "Epoch [141], Loss: 0.5653130412101746\n",
            "Epoch [142], Loss: 0.5869662761688232\n",
            "Epoch [143], Loss: 0.5786201357841492\n",
            "Epoch [144], Loss: 0.5471276640892029\n",
            "Epoch [145], Loss: 0.5139362215995789\n",
            "Epoch [146], Loss: 0.6180694699287415\n",
            "Epoch [147], Loss: 0.612348735332489\n",
            "Epoch [148], Loss: 0.5331262350082397\n",
            "Epoch [149], Loss: 0.5841242074966431\n",
            "Epoch [150], Loss: 0.5612515807151794\n",
            "Epoch [151], Loss: 0.5266398787498474\n",
            "Epoch [152], Loss: 0.5069772005081177\n",
            "Epoch [153], Loss: 0.6540611982345581\n",
            "Epoch [154], Loss: 0.5228894948959351\n",
            "Epoch [155], Loss: 0.5612691044807434\n",
            "Epoch [156], Loss: 0.5892317891120911\n",
            "Epoch [157], Loss: 0.5100055932998657\n",
            "Epoch [158], Loss: 0.5292477607727051\n",
            "Epoch [159], Loss: 0.6011559367179871\n",
            "Epoch [160], Loss: 0.6110265851020813\n",
            "Epoch [161], Loss: 0.6417520046234131\n",
            "Epoch [162], Loss: 0.6266553401947021\n",
            "Epoch [163], Loss: 0.5551609992980957\n",
            "Epoch [164], Loss: 0.46896132826805115\n",
            "Epoch [165], Loss: 0.600933849811554\n",
            "Epoch [166], Loss: 0.6223412752151489\n",
            "Epoch [167], Loss: 0.576047956943512\n",
            "Epoch [168], Loss: 0.5568315386772156\n",
            "Epoch [169], Loss: 0.6271202564239502\n",
            "Epoch [170], Loss: 0.5521317720413208\n",
            "Epoch [171], Loss: 0.5136630535125732\n",
            "Epoch [172], Loss: 0.47788625955581665\n",
            "Epoch [173], Loss: 0.5194947719573975\n",
            "Epoch [174], Loss: 0.5984407067298889\n",
            "Epoch [175], Loss: 0.5059223771095276\n",
            "Epoch [176], Loss: 0.5388776659965515\n",
            "Epoch [177], Loss: 0.5845029354095459\n",
            "Epoch [178], Loss: 0.5453287363052368\n",
            "Epoch [179], Loss: 0.5625348687171936\n",
            "Epoch [180], Loss: 0.5548258423805237\n",
            "Epoch [181], Loss: 0.502299427986145\n",
            "Epoch [182], Loss: 0.5079818964004517\n",
            "Epoch [183], Loss: 0.5716777443885803\n",
            "Epoch [184], Loss: 0.6026282906532288\n",
            "Epoch [185], Loss: 0.5475018620491028\n",
            "Epoch [186], Loss: 0.5781180262565613\n",
            "Epoch [187], Loss: 0.4751538634300232\n",
            "Epoch [188], Loss: 0.46593379974365234\n",
            "Epoch [189], Loss: 0.5456834435462952\n",
            "Epoch [190], Loss: 0.5661197304725647\n",
            "Epoch [191], Loss: 0.5292037129402161\n",
            "Epoch [192], Loss: 0.6145967841148376\n",
            "Epoch [193], Loss: 0.5166471004486084\n",
            "Epoch [194], Loss: 0.5495539903640747\n",
            "Epoch [195], Loss: 0.5302806496620178\n",
            "Epoch [196], Loss: 0.5142256617546082\n",
            "Epoch [197], Loss: 0.5423620343208313\n",
            "Epoch [198], Loss: 0.5134376287460327\n",
            "Epoch [199], Loss: 0.562114953994751\n",
            "Epoch [200], Loss: 0.5041236281394958\n",
            "Epoch [201], Loss: 0.5141957998275757\n",
            "Epoch [202], Loss: 0.5351710915565491\n",
            "Epoch [203], Loss: 0.5308322310447693\n",
            "Epoch [204], Loss: 0.5190160870552063\n",
            "Epoch [205], Loss: 0.5461339354515076\n",
            "Epoch [206], Loss: 0.5283007025718689\n",
            "Epoch [207], Loss: 0.5031886100769043\n",
            "Epoch [208], Loss: 0.5282207727432251\n",
            "Epoch [209], Loss: 0.6017451286315918\n",
            "Epoch [210], Loss: 0.5998979210853577\n",
            "Epoch [211], Loss: 0.4942323565483093\n",
            "Epoch [212], Loss: 0.5778753757476807\n",
            "Epoch [213], Loss: 0.5390790104866028\n",
            "Epoch [214], Loss: 0.5820318460464478\n",
            "Epoch [215], Loss: 0.5595774054527283\n",
            "Epoch [216], Loss: 0.549639880657196\n",
            "Epoch [217], Loss: 0.5834670662879944\n",
            "Epoch [218], Loss: 0.507495105266571\n",
            "Epoch [219], Loss: 0.5806469917297363\n",
            "Epoch [220], Loss: 0.5123639702796936\n",
            "Epoch [221], Loss: 0.5742520093917847\n",
            "Epoch [222], Loss: 0.584038257598877\n",
            "Epoch [223], Loss: 0.5814511775970459\n",
            "Epoch [224], Loss: 0.5731013417243958\n",
            "Epoch [225], Loss: 0.5968188643455505\n",
            "Epoch [226], Loss: 0.5310251712799072\n",
            "Epoch [227], Loss: 0.5663036108016968\n",
            "Epoch [228], Loss: 0.553151547908783\n",
            "Epoch [229], Loss: 0.5348485708236694\n",
            "Epoch [230], Loss: 0.5759677290916443\n",
            "Epoch [231], Loss: 0.486998587846756\n",
            "Epoch [232], Loss: 0.5318189263343811\n",
            "Epoch [233], Loss: 0.5078402161598206\n",
            "Epoch [234], Loss: 0.5305294394493103\n",
            "Epoch [235], Loss: 0.49955612421035767\n",
            "Epoch [236], Loss: 0.581169605255127\n",
            "Epoch [237], Loss: 0.45873233675956726\n",
            "Epoch [238], Loss: 0.608059287071228\n",
            "Epoch [239], Loss: 0.6009857058525085\n",
            "Epoch [240], Loss: 0.5808195471763611\n",
            "Epoch [241], Loss: 0.6199344396591187\n",
            "Epoch [242], Loss: 0.5587502717971802\n",
            "Epoch [243], Loss: 0.5396884679794312\n",
            "Epoch [244], Loss: 0.6114665269851685\n",
            "Epoch [245], Loss: 0.5516553521156311\n",
            "Epoch [246], Loss: 0.5624747276306152\n",
            "Epoch [247], Loss: 0.6068861484527588\n",
            "Epoch [248], Loss: 0.5475243926048279\n",
            "Epoch [249], Loss: 0.5464857220649719\n",
            "Epoch [250], Loss: 0.503446102142334\n",
            "Epoch [251], Loss: 0.56281578540802\n",
            "Epoch [252], Loss: 0.5958949327468872\n",
            "Epoch [253], Loss: 0.5312310457229614\n",
            "Epoch [254], Loss: 0.5094572305679321\n",
            "Epoch [255], Loss: 0.5075113773345947\n",
            "Epoch [256], Loss: 0.5200352072715759\n",
            "Epoch [257], Loss: 0.6276032328605652\n",
            "Epoch [258], Loss: 0.5783507823944092\n",
            "Epoch [259], Loss: 0.5795193910598755\n",
            "Epoch [260], Loss: 0.5644621849060059\n",
            "Epoch [261], Loss: 0.460958868265152\n",
            "Epoch [262], Loss: 0.674917459487915\n",
            "Epoch [263], Loss: 0.6006850004196167\n",
            "Epoch [264], Loss: 0.6020260453224182\n",
            "Epoch [265], Loss: 0.5779916048049927\n",
            "Epoch [266], Loss: 0.5283110737800598\n",
            "Epoch [267], Loss: 0.4901602268218994\n",
            "Epoch [268], Loss: 0.5255303382873535\n",
            "Epoch [269], Loss: 0.4810405373573303\n",
            "Epoch [270], Loss: 0.4891909956932068\n",
            "Epoch [271], Loss: 0.5557475686073303\n",
            "Epoch [272], Loss: 0.4853523373603821\n",
            "Epoch [273], Loss: 0.56324303150177\n",
            "Epoch [274], Loss: 0.5505751371383667\n",
            "Epoch [275], Loss: 0.5529956817626953\n",
            "Epoch [276], Loss: 0.5579739809036255\n",
            "Epoch [277], Loss: 0.5957043170928955\n",
            "Epoch [278], Loss: 0.5315888524055481\n",
            "Epoch [279], Loss: 0.5381048917770386\n",
            "Epoch [280], Loss: 0.4886566698551178\n",
            "Epoch [281], Loss: 0.59769606590271\n",
            "Epoch [282], Loss: 0.5149065852165222\n",
            "Epoch [283], Loss: 0.5812242031097412\n",
            "Epoch [284], Loss: 0.5389432311058044\n",
            "Epoch [285], Loss: 0.5165913701057434\n",
            "Epoch [286], Loss: 0.5216724276542664\n",
            "Epoch [287], Loss: 0.5278934240341187\n",
            "Epoch [288], Loss: 0.5655068755149841\n",
            "Epoch [289], Loss: 0.5457358360290527\n",
            "Epoch [290], Loss: 0.4877583384513855\n",
            "Epoch [291], Loss: 0.5596652626991272\n",
            "Epoch [292], Loss: 0.5512276887893677\n",
            "Epoch [293], Loss: 0.5802702307701111\n",
            "Epoch [294], Loss: 0.5990338325500488\n",
            "Epoch [295], Loss: 0.49145740270614624\n",
            "Epoch [296], Loss: 0.6102096438407898\n",
            "Epoch [297], Loss: 0.5483673810958862\n",
            "Epoch [298], Loss: 0.5047173500061035\n",
            "Epoch [299], Loss: 0.6659685373306274\n",
            "Epoch [300], Loss: 0.5345571637153625\n",
            "Epoch [301], Loss: 0.6099815964698792\n",
            "Epoch [302], Loss: 0.5296463966369629\n",
            "Epoch [303], Loss: 0.5695124268531799\n",
            "Epoch [304], Loss: 0.5430136919021606\n",
            "Epoch [305], Loss: 0.613534152507782\n",
            "Epoch [306], Loss: 0.5107627511024475\n",
            "Epoch [307], Loss: 0.5575566291809082\n",
            "Epoch [308], Loss: 0.5367435812950134\n",
            "Epoch [309], Loss: 0.49641284346580505\n",
            "Epoch [310], Loss: 0.5973981618881226\n",
            "Epoch [311], Loss: 0.49338462948799133\n",
            "Epoch [312], Loss: 0.5052116513252258\n",
            "Epoch [313], Loss: 0.4958619177341461\n",
            "Epoch [314], Loss: 0.5070573091506958\n",
            "Epoch [315], Loss: 0.46655064821243286\n",
            "Epoch [316], Loss: 0.5051543116569519\n",
            "Epoch [317], Loss: 0.5369629859924316\n",
            "Epoch [318], Loss: 0.569823145866394\n",
            "Epoch [319], Loss: 0.4909079074859619\n",
            "Epoch [320], Loss: 0.5375493764877319\n",
            "Epoch [321], Loss: 0.6249879002571106\n",
            "Epoch [322], Loss: 0.5314317345619202\n",
            "Epoch [323], Loss: 0.5057070851325989\n",
            "Epoch [324], Loss: 0.5149990320205688\n",
            "Epoch [325], Loss: 0.6130155920982361\n",
            "Epoch [326], Loss: 0.49161431193351746\n",
            "Epoch [327], Loss: 0.5244556665420532\n",
            "Epoch [328], Loss: 0.543965756893158\n",
            "Epoch [329], Loss: 0.5569338202476501\n",
            "Epoch [330], Loss: 0.5362254977226257\n",
            "Epoch [331], Loss: 0.5944371819496155\n",
            "Epoch [332], Loss: 0.5065522193908691\n",
            "Epoch [333], Loss: 0.5573058724403381\n",
            "Epoch [334], Loss: 0.49916872382164\n",
            "Epoch [335], Loss: 0.5088022351264954\n",
            "Epoch [336], Loss: 0.49733397364616394\n",
            "Epoch [337], Loss: 0.5883695483207703\n",
            "Epoch [338], Loss: 0.5574488639831543\n",
            "Epoch [339], Loss: 0.5653409361839294\n",
            "Epoch [340], Loss: 0.5193879008293152\n",
            "Epoch [341], Loss: 0.4855712056159973\n",
            "Epoch [342], Loss: 0.5401014089584351\n",
            "Epoch [343], Loss: 0.524410605430603\n",
            "Epoch [344], Loss: 0.5599234700202942\n",
            "Epoch [345], Loss: 0.5334404706954956\n",
            "Epoch [346], Loss: 0.5224363207817078\n",
            "Epoch [347], Loss: 0.5255165696144104\n",
            "Epoch [348], Loss: 0.492243230342865\n",
            "Epoch [349], Loss: 0.5773305296897888\n",
            "Epoch [350], Loss: 0.5034306645393372\n",
            "Epoch [351], Loss: 0.5197580456733704\n",
            "Epoch [352], Loss: 0.48881056904792786\n",
            "Epoch [353], Loss: 0.4677785336971283\n",
            "Epoch [354], Loss: 0.4789418578147888\n",
            "Epoch [355], Loss: 0.6089332699775696\n",
            "Epoch [356], Loss: 0.532060444355011\n",
            "Epoch [357], Loss: 0.5022240281105042\n",
            "Epoch [358], Loss: 0.5823636054992676\n",
            "Epoch [359], Loss: 0.6029723286628723\n",
            "Epoch [360], Loss: 0.5867352485656738\n",
            "Epoch [361], Loss: 0.6414191126823425\n",
            "Epoch [362], Loss: 0.5171462297439575\n",
            "Epoch [363], Loss: 0.4873983860015869\n",
            "Epoch [364], Loss: 0.5911380648612976\n",
            "Epoch [365], Loss: 0.5321860909461975\n",
            "Epoch [366], Loss: 0.5086111426353455\n",
            "Epoch [367], Loss: 0.4880025386810303\n",
            "Epoch [368], Loss: 0.5560552477836609\n",
            "Epoch [369], Loss: 0.5593999028205872\n",
            "Epoch [370], Loss: 0.517578125\n",
            "Epoch [371], Loss: 0.47355926036834717\n",
            "Epoch [372], Loss: 0.4171147644519806\n",
            "Epoch [373], Loss: 0.5178943276405334\n",
            "Epoch [374], Loss: 0.5821951031684875\n",
            "Epoch [375], Loss: 0.5673948526382446\n",
            "Epoch [376], Loss: 0.455471932888031\n",
            "Epoch [377], Loss: 0.5462564826011658\n",
            "Epoch [378], Loss: 0.616726815700531\n",
            "Epoch [379], Loss: 0.4968468248844147\n",
            "Epoch [380], Loss: 0.5168901085853577\n",
            "Epoch [381], Loss: 0.517554759979248\n",
            "Epoch [382], Loss: 0.5324581265449524\n",
            "Epoch [383], Loss: 0.4894034266471863\n",
            "Epoch [384], Loss: 0.5912042260169983\n",
            "Epoch [385], Loss: 0.5124252438545227\n",
            "Epoch [386], Loss: 0.5816558003425598\n",
            "Epoch [387], Loss: 0.4759674370288849\n",
            "Epoch [388], Loss: 0.5997350215911865\n",
            "Epoch [389], Loss: 0.5211213231086731\n",
            "Epoch [390], Loss: 0.5630024075508118\n",
            "Epoch [391], Loss: 0.5682787299156189\n",
            "Epoch [392], Loss: 0.5585564970970154\n",
            "Epoch [393], Loss: 0.5454265475273132\n",
            "Epoch [394], Loss: 0.43771958351135254\n",
            "Epoch [395], Loss: 0.56478351354599\n",
            "Epoch [396], Loss: 0.5883214473724365\n",
            "Epoch [397], Loss: 0.6535395383834839\n",
            "Epoch [398], Loss: 0.538869321346283\n",
            "Epoch [399], Loss: 0.6030968427658081\n",
            "Epoch [400], Loss: 0.5210456252098083\n",
            "Epoch [401], Loss: 0.4995615482330322\n",
            "Epoch [402], Loss: 0.47732993960380554\n",
            "Epoch [403], Loss: 0.5242745280265808\n",
            "Epoch [404], Loss: 0.4983236789703369\n",
            "Epoch [405], Loss: 0.5732724666595459\n",
            "Epoch [406], Loss: 0.5039748549461365\n",
            "Epoch [407], Loss: 0.4793035387992859\n",
            "Epoch [408], Loss: 0.4780269265174866\n",
            "Epoch [409], Loss: 0.5008701086044312\n",
            "Epoch [410], Loss: 0.5851653218269348\n",
            "Epoch [411], Loss: 0.4578787684440613\n",
            "Epoch [412], Loss: 0.5521710515022278\n",
            "Epoch [413], Loss: 0.5428860783576965\n",
            "Epoch [414], Loss: 0.47593989968299866\n",
            "Epoch [415], Loss: 0.5855844020843506\n",
            "Epoch [416], Loss: 0.5604013800621033\n",
            "Epoch [417], Loss: 0.5117318630218506\n",
            "Epoch [418], Loss: 0.5157566666603088\n",
            "Epoch [419], Loss: 0.5477701425552368\n",
            "Epoch [420], Loss: 0.5271386504173279\n",
            "Epoch [421], Loss: 0.5882443785667419\n",
            "Epoch [422], Loss: 0.4897347688674927\n",
            "Epoch [423], Loss: 0.525924801826477\n",
            "Epoch [424], Loss: 0.5585132837295532\n",
            "Epoch [425], Loss: 0.5796120166778564\n",
            "Epoch [426], Loss: 0.48215124011039734\n",
            "Epoch [427], Loss: 0.5857202410697937\n",
            "Epoch [428], Loss: 0.5606609582901001\n",
            "Epoch [429], Loss: 0.5039032697677612\n",
            "Epoch [430], Loss: 0.5938986539840698\n",
            "Epoch [431], Loss: 0.4770364463329315\n",
            "Epoch [432], Loss: 0.5819652676582336\n",
            "Epoch [433], Loss: 0.5569234490394592\n",
            "Epoch [434], Loss: 0.5234199166297913\n",
            "Epoch [435], Loss: 0.5137131810188293\n",
            "Epoch [436], Loss: 0.4808178246021271\n",
            "Epoch [437], Loss: 0.5727545619010925\n",
            "Epoch [438], Loss: 0.48753058910369873\n",
            "Epoch [439], Loss: 0.510692298412323\n",
            "Epoch [440], Loss: 0.5350789427757263\n",
            "Epoch [441], Loss: 0.5313858389854431\n",
            "Epoch [442], Loss: 0.5428393483161926\n",
            "Epoch [443], Loss: 0.4889217019081116\n",
            "Epoch [444], Loss: 0.5475875735282898\n",
            "Epoch [445], Loss: 0.4553868770599365\n",
            "Epoch [446], Loss: 0.5521360635757446\n",
            "Epoch [447], Loss: 0.5058944821357727\n",
            "Epoch [448], Loss: 0.4918215274810791\n",
            "Epoch [449], Loss: 0.5226690173149109\n",
            "Epoch [450], Loss: 0.5272112488746643\n",
            "Epoch [451], Loss: 0.462891548871994\n",
            "Epoch [452], Loss: 0.5688791871070862\n",
            "Epoch [453], Loss: 0.5352165699005127\n",
            "Epoch [454], Loss: 0.5491842031478882\n",
            "Epoch [455], Loss: 0.472698450088501\n",
            "Epoch [456], Loss: 0.5772837400436401\n",
            "Epoch [457], Loss: 0.6084488034248352\n",
            "Epoch [458], Loss: 0.5245600342750549\n",
            "Epoch [459], Loss: 0.509013295173645\n",
            "Epoch [460], Loss: 0.5087893009185791\n",
            "Epoch [461], Loss: 0.5951987504959106\n",
            "Epoch [462], Loss: 0.5083576440811157\n",
            "Epoch [463], Loss: 0.5416095852851868\n",
            "Epoch [464], Loss: 0.6020610332489014\n",
            "Epoch [465], Loss: 0.5262949466705322\n",
            "Epoch [466], Loss: 0.49201634526252747\n",
            "Epoch [467], Loss: 0.4735372066497803\n",
            "Epoch [468], Loss: 0.5163509249687195\n",
            "Epoch [469], Loss: 0.534734308719635\n",
            "Epoch [470], Loss: 0.5206030011177063\n",
            "Epoch [471], Loss: 0.5047635436058044\n",
            "Epoch [472], Loss: 0.596099853515625\n",
            "Epoch [473], Loss: 0.4886363744735718\n",
            "Epoch [474], Loss: 0.4943915009498596\n",
            "Epoch [475], Loss: 0.4831523895263672\n",
            "Epoch [476], Loss: 0.45083898305892944\n",
            "Epoch [477], Loss: 0.5904331207275391\n",
            "Epoch [478], Loss: 0.5415580868721008\n",
            "Epoch [479], Loss: 0.49583640694618225\n",
            "Epoch [480], Loss: 0.4967431128025055\n",
            "Epoch [481], Loss: 0.5150365233421326\n",
            "Epoch [482], Loss: 0.5549562573432922\n",
            "Epoch [483], Loss: 0.5655471682548523\n",
            "Epoch [484], Loss: 0.5366528630256653\n",
            "Epoch [485], Loss: 0.5565544366836548\n",
            "Epoch [486], Loss: 0.4859980344772339\n",
            "Epoch [487], Loss: 0.5124870538711548\n",
            "Epoch [488], Loss: 0.4878637194633484\n",
            "Epoch [489], Loss: 0.5659849047660828\n",
            "Epoch [490], Loss: 0.5621365904808044\n",
            "Epoch [491], Loss: 0.6007531881332397\n",
            "Epoch [492], Loss: 0.4522736072540283\n",
            "Epoch [493], Loss: 0.4854776859283447\n",
            "Epoch [494], Loss: 0.5418114066123962\n",
            "Epoch [495], Loss: 0.4259270131587982\n",
            "Epoch [496], Loss: 0.5387318730354309\n",
            "Epoch [497], Loss: 0.6034901142120361\n",
            "Epoch [498], Loss: 0.4703499972820282\n",
            "Epoch [499], Loss: 0.5673165917396545\n",
            "Epoch [500], Loss: 0.6083829402923584\n"
          ]
        },
        {
          "output_type": "execute_result",
          "data": {
            "text/plain": [
              "[<matplotlib.lines.Line2D at 0x7b5fa81f8b50>]"
            ]
          },
          "metadata": {},
          "execution_count": 38
        },
        {
          "output_type": "display_data",
          "data": {
            "text/plain": [
              "<Figure size 640x480 with 1 Axes>"
            ],
            "image/png": "[encoded data removed]"
          },
          "metadata": {}
        }
      ]
    },
    {
      "cell_type": "code",
      "source": [
        "model.eval()\n",
        "with torch.no_grad():\n",
        "    y_pred = model(X_train_t)\n",
        "    y_pred = (y_pred >= 0.5).float()\n",
        "    accuracy = (y_pred == y_train_t.view(-1, 1)).float().mean()\n",
        "    print(f'Accuracy on train set: {accuracy.item()}')\n",
        "print()\n",
        "print('TRAIN DATA')\n",
        "print('---------------------')\n",
        "print('accuracy:', accuracy_score(y_train,y_pred))\n",
        "print('precision:', precision_score(y_train,y_pred))\n",
        "print('sensitivity:', recall_score(y_train,y_pred,pos_label=0))\n",
        "print('f1:', f1_score(y_train,y_pred))"
      ],
      "metadata": {
        "colab": {
          "base_uri": "https://localhost:8080/"
        },
        "id": "rw3u-tDScgRU",
        "outputId": "d798bf0c-18ba-4aaa-a711-81d052031541"
      },
      "execution_count": 39,
      "outputs": [
        {
          "output_type": "stream",
          "name": "stdout",
          "text": [
            "Accuracy on train set: 0.7578253746032715\n",
            "\n",
            "TRAIN DATA\n",
            "---------------------\n",
            "accuracy: 0.7578253706754531\n",
            "precision: 0.8396739130434783\n",
            "sensitivity: 0.719047619047619\n",
            "f1: 0.8078431372549021\n"
          ]
        }
      ]
    },
    {
      "cell_type": "code",
      "source": [
        "model.eval()\n",
        "with torch.no_grad():\n",
        "    y_pred = model(X_test_t)\n",
        "    y_pred = (y_pred >= 0.5).float()\n",
        "    accuracy = (y_pred == y_test_t.view(-1, 1)).float().mean()\n",
        "    print(f'Accuracy on test set: {accuracy.item()}')\n",
        "print()\n",
        "print('TEST')\n",
        "print('---------------------')\n",
        "print('accuracy:', accuracy_score(y_test,y_pred))\n",
        "print('precision:', precision_score(y_test,y_pred))\n",
        "print('sensitvity:', recall_score(y_test,y_pred,pos_label=0))\n",
        "print('f1:', f1_score(y_test,y_pred))"
      ],
      "metadata": {
        "colab": {
          "base_uri": "https://localhost:8080/"
        },
        "id": "_PLyxv-9IyQP",
        "outputId": "1dd08f12-c9c3-4486-823d-b7911154311d"
      },
      "execution_count": 40,
      "outputs": [
        {
          "output_type": "stream",
          "name": "stdout",
          "text": [
            "Accuracy on test set: 0.7697368264198303\n",
            "\n",
            "TEST\n",
            "---------------------\n",
            "accuracy: 0.7697368421052632\n",
            "precision: 0.8555555555555555\n",
            "sensitvity: 0.7547169811320755\n",
            "f1: 0.8148148148148148\n"
          ]
        }
      ]
    },
    {
      "cell_type": "markdown",
      "source": [
        "Our single layer perceptron has a test accuracy of 77.63%\n",
        "\n"
      ],
      "metadata": {
        "id": "9stzVWFg5JJ1"
      }
    },
    {
      "cell_type": "markdown",
      "source": [
        "## Confusion Matrix to Evaluate Model"
      ],
      "metadata": {
        "id": "LAYc4CUBrog2"
      }
    },
    {
      "cell_type": "code",
      "source": [
        "from sklearn.metrics import confusion_matrix\n",
        "import matplotlib.pyplot as plt\n",
        "import seaborn as sns\n",
        "\n",
        "conf_matrix = confusion_matrix(y_test, y_pred)\n",
        "\n",
        "plt.figure(figsize=(8, 6))\n",
        "sns.heatmap(conf_matrix, annot=True, fmt=\"d\", cmap=\"Blues\", cbar=False)\n",
        "plt.xlabel('Predicted')\n",
        "plt.ylabel('True')\n",
        "plt.title('Confusion Matrix')\n",
        "plt.show()"
      ],
      "metadata": {
        "colab": {
          "base_uri": "https://localhost:8080/",
          "height": 564
        },
        "id": "toUnBwgoq7gG",
        "outputId": "7d6f4c03-bd1f-4fa7-cbd8-3a0c278784f6"
      },
      "execution_count": 41,
      "outputs": [
        {
          "output_type": "display_data",
          "data": {
            "text/plain": [
              "<Figure size 800x600 with 1 Axes>"
            ],
            "image/png": "[encoded data removed]"
          },
          "metadata": {}
        }
      ]
    }
  ],
  "metadata": {
    "colab": {
      "provenance": [],
      "gpuType": "T4",
      "mount_file_id": "1EwpVd5DcYxiMsSCJ73h2NmTJqBaDFhXs",
      "authorship_tag": "ABX9TyOGS9NjZgLzusrRgiXkj/r+",
      "include_colab_link": true
    },
    "kernelspec": {
      "display_name": "Python 3",
      "name": "python3"
    },
    "language_info": {
      "name": "python"
    },
    "accelerator": "GPU"
  },
  "nbformat": 4,
  "nbformat_minor": 0
}